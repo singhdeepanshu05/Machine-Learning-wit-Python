{
 "cells": [
  {
   "cell_type": "code",
   "execution_count": 1,
   "id": "347b2faa",
   "metadata": {},
   "outputs": [],
   "source": [
    "import numpy as np\n",
    "import pandas as pd\n",
    "import matplotlib.pyplot as plt\n",
    "import seaborn as sns"
   ]
  },
  {
   "cell_type": "code",
   "execution_count": 2,
   "id": "d0930918",
   "metadata": {},
   "outputs": [],
   "source": [
    "data = pd.read_csv('House Data.csv')"
   ]
  },
  {
   "cell_type": "code",
   "execution_count": 3,
   "id": "893fbc48",
   "metadata": {},
   "outputs": [
    {
     "data": {
      "text/html": [
       "<div>\n",
       "<style scoped>\n",
       "    .dataframe tbody tr th:only-of-type {\n",
       "        vertical-align: middle;\n",
       "    }\n",
       "\n",
       "    .dataframe tbody tr th {\n",
       "        vertical-align: top;\n",
       "    }\n",
       "\n",
       "    .dataframe thead th {\n",
       "        text-align: right;\n",
       "    }\n",
       "</style>\n",
       "<table border=\"1\" class=\"dataframe\">\n",
       "  <thead>\n",
       "    <tr style=\"text-align: right;\">\n",
       "      <th></th>\n",
       "      <th>Property_ID</th>\n",
       "      <th>Property_Type</th>\n",
       "      <th>Property_Area</th>\n",
       "      <th>Number_of_Windows</th>\n",
       "      <th>Number_of_Doors</th>\n",
       "      <th>Furnishing</th>\n",
       "      <th>Frequency_of_Powercuts</th>\n",
       "      <th>Power_Backup</th>\n",
       "      <th>Water_Supply</th>\n",
       "      <th>Traffic_Density_Score</th>\n",
       "      <th>Crime_Rate</th>\n",
       "      <th>Dust_and_Noise</th>\n",
       "      <th>Air_Quality_Index</th>\n",
       "      <th>Neighborhood_Review</th>\n",
       "      <th>Habitability_score</th>\n",
       "    </tr>\n",
       "  </thead>\n",
       "  <tbody>\n",
       "    <tr>\n",
       "      <th>0</th>\n",
       "      <td>0x21e3</td>\n",
       "      <td>Apartment</td>\n",
       "      <td>106</td>\n",
       "      <td>NaN</td>\n",
       "      <td>1</td>\n",
       "      <td>Semi_Furnished</td>\n",
       "      <td>0.0</td>\n",
       "      <td>No</td>\n",
       "      <td>Once in a day - Morning</td>\n",
       "      <td>5.89</td>\n",
       "      <td>Slightly below average</td>\n",
       "      <td>Medium</td>\n",
       "      <td>90.0</td>\n",
       "      <td>3.86</td>\n",
       "      <td>71.98</td>\n",
       "    </tr>\n",
       "    <tr>\n",
       "      <th>1</th>\n",
       "      <td>0x68d4</td>\n",
       "      <td>Apartment</td>\n",
       "      <td>733</td>\n",
       "      <td>2.0</td>\n",
       "      <td>2</td>\n",
       "      <td>Unfurnished</td>\n",
       "      <td>1.0</td>\n",
       "      <td>No</td>\n",
       "      <td>Once in a day - Evening</td>\n",
       "      <td>4.37</td>\n",
       "      <td>Well below average</td>\n",
       "      <td>Medium</td>\n",
       "      <td>96.0</td>\n",
       "      <td>3.55</td>\n",
       "      <td>71.20</td>\n",
       "    </tr>\n",
       "    <tr>\n",
       "      <th>2</th>\n",
       "      <td>0x7d81</td>\n",
       "      <td>Apartment</td>\n",
       "      <td>737</td>\n",
       "      <td>4.0</td>\n",
       "      <td>2</td>\n",
       "      <td>Fully Furnished</td>\n",
       "      <td>0.0</td>\n",
       "      <td>No</td>\n",
       "      <td>Once in a day - Morning</td>\n",
       "      <td>7.45</td>\n",
       "      <td>Slightly below average</td>\n",
       "      <td>Medium</td>\n",
       "      <td>121.0</td>\n",
       "      <td>3.81</td>\n",
       "      <td>71.39</td>\n",
       "    </tr>\n",
       "    <tr>\n",
       "      <th>3</th>\n",
       "      <td>0x7a57</td>\n",
       "      <td>Apartment</td>\n",
       "      <td>900</td>\n",
       "      <td>3.0</td>\n",
       "      <td>2</td>\n",
       "      <td>Unfurnished</td>\n",
       "      <td>2.0</td>\n",
       "      <td>Yes</td>\n",
       "      <td>Once in a day - Morning</td>\n",
       "      <td>6.16</td>\n",
       "      <td>Well above average</td>\n",
       "      <td>Medium</td>\n",
       "      <td>100.0</td>\n",
       "      <td>1.34</td>\n",
       "      <td>31.46</td>\n",
       "    </tr>\n",
       "    <tr>\n",
       "      <th>4</th>\n",
       "      <td>0x9409</td>\n",
       "      <td>Bungalow</td>\n",
       "      <td>2238</td>\n",
       "      <td>14.0</td>\n",
       "      <td>6</td>\n",
       "      <td>Fully Furnished</td>\n",
       "      <td>0.0</td>\n",
       "      <td>No</td>\n",
       "      <td>All time</td>\n",
       "      <td>5.46</td>\n",
       "      <td>Well below average</td>\n",
       "      <td>Medium</td>\n",
       "      <td>116.0</td>\n",
       "      <td>4.77</td>\n",
       "      <td>93.70</td>\n",
       "    </tr>\n",
       "    <tr>\n",
       "      <th>...</th>\n",
       "      <td>...</td>\n",
       "      <td>...</td>\n",
       "      <td>...</td>\n",
       "      <td>...</td>\n",
       "      <td>...</td>\n",
       "      <td>...</td>\n",
       "      <td>...</td>\n",
       "      <td>...</td>\n",
       "      <td>...</td>\n",
       "      <td>...</td>\n",
       "      <td>...</td>\n",
       "      <td>...</td>\n",
       "      <td>...</td>\n",
       "      <td>...</td>\n",
       "      <td>...</td>\n",
       "    </tr>\n",
       "    <tr>\n",
       "      <th>39494</th>\n",
       "      <td>0x6e26</td>\n",
       "      <td>Single-family home</td>\n",
       "      <td>1120</td>\n",
       "      <td>3.0</td>\n",
       "      <td>2</td>\n",
       "      <td>NaN</td>\n",
       "      <td>0.0</td>\n",
       "      <td>No</td>\n",
       "      <td>All time</td>\n",
       "      <td>5.55</td>\n",
       "      <td>Slightly above average</td>\n",
       "      <td>Medium</td>\n",
       "      <td>80.0</td>\n",
       "      <td>3.56</td>\n",
       "      <td>73.43</td>\n",
       "    </tr>\n",
       "    <tr>\n",
       "      <th>39495</th>\n",
       "      <td>0xa013</td>\n",
       "      <td>Apartment</td>\n",
       "      <td>445</td>\n",
       "      <td>1.0</td>\n",
       "      <td>3</td>\n",
       "      <td>Fully Furnished</td>\n",
       "      <td>1.0</td>\n",
       "      <td>No</td>\n",
       "      <td>All time</td>\n",
       "      <td>5.70</td>\n",
       "      <td>Slightly above average</td>\n",
       "      <td>Medium</td>\n",
       "      <td>86.0</td>\n",
       "      <td>2.93</td>\n",
       "      <td>79.91</td>\n",
       "    </tr>\n",
       "    <tr>\n",
       "      <th>39496</th>\n",
       "      <td>0x9721</td>\n",
       "      <td>Bungalow</td>\n",
       "      <td>3780</td>\n",
       "      <td>6.0</td>\n",
       "      <td>6</td>\n",
       "      <td>Unfurnished</td>\n",
       "      <td>0.0</td>\n",
       "      <td>Yes</td>\n",
       "      <td>Once in two days</td>\n",
       "      <td>6.84</td>\n",
       "      <td>Well below average</td>\n",
       "      <td>Medium</td>\n",
       "      <td>137.0</td>\n",
       "      <td>3.80</td>\n",
       "      <td>81.44</td>\n",
       "    </tr>\n",
       "    <tr>\n",
       "      <th>39497</th>\n",
       "      <td>0x7e25</td>\n",
       "      <td>Single-family home</td>\n",
       "      <td>1266</td>\n",
       "      <td>3.0</td>\n",
       "      <td>1</td>\n",
       "      <td>Semi_Furnished</td>\n",
       "      <td>0.0</td>\n",
       "      <td>No</td>\n",
       "      <td>Once in a day - Morning</td>\n",
       "      <td>4.60</td>\n",
       "      <td>Slightly above average</td>\n",
       "      <td>NaN</td>\n",
       "      <td>88.0</td>\n",
       "      <td>3.25</td>\n",
       "      <td>71.33</td>\n",
       "    </tr>\n",
       "    <tr>\n",
       "      <th>39498</th>\n",
       "      <td>0x8cb4</td>\n",
       "      <td>Single-family home</td>\n",
       "      <td>1229</td>\n",
       "      <td>2.0</td>\n",
       "      <td>4</td>\n",
       "      <td>Fully Furnished</td>\n",
       "      <td>0.0</td>\n",
       "      <td>No</td>\n",
       "      <td>All time</td>\n",
       "      <td>8.29</td>\n",
       "      <td>Well below average</td>\n",
       "      <td>High</td>\n",
       "      <td>132.0</td>\n",
       "      <td>4.67</td>\n",
       "      <td>83.25</td>\n",
       "    </tr>\n",
       "  </tbody>\n",
       "</table>\n",
       "<p>39499 rows × 15 columns</p>\n",
       "</div>"
      ],
      "text/plain": [
       "      Property_ID       Property_Type  Property_Area  Number_of_Windows  \\\n",
       "0          0x21e3           Apartment            106                NaN   \n",
       "1          0x68d4           Apartment            733                2.0   \n",
       "2          0x7d81           Apartment            737                4.0   \n",
       "3          0x7a57           Apartment            900                3.0   \n",
       "4          0x9409            Bungalow           2238               14.0   \n",
       "...           ...                 ...            ...                ...   \n",
       "39494      0x6e26  Single-family home           1120                3.0   \n",
       "39495      0xa013           Apartment            445                1.0   \n",
       "39496      0x9721            Bungalow           3780                6.0   \n",
       "39497      0x7e25  Single-family home           1266                3.0   \n",
       "39498      0x8cb4  Single-family home           1229                2.0   \n",
       "\n",
       "       Number_of_Doors       Furnishing  Frequency_of_Powercuts Power_Backup  \\\n",
       "0                    1   Semi_Furnished                     0.0           No   \n",
       "1                    2      Unfurnished                     1.0           No   \n",
       "2                    2  Fully Furnished                     0.0           No   \n",
       "3                    2      Unfurnished                     2.0          Yes   \n",
       "4                    6  Fully Furnished                     0.0           No   \n",
       "...                ...              ...                     ...          ...   \n",
       "39494                2              NaN                     0.0           No   \n",
       "39495                3  Fully Furnished                     1.0           No   \n",
       "39496                6      Unfurnished                     0.0          Yes   \n",
       "39497                1   Semi_Furnished                     0.0           No   \n",
       "39498                4  Fully Furnished                     0.0           No   \n",
       "\n",
       "                  Water_Supply  Traffic_Density_Score              Crime_Rate  \\\n",
       "0      Once in a day - Morning                   5.89  Slightly below average   \n",
       "1      Once in a day - Evening                   4.37      Well below average   \n",
       "2      Once in a day - Morning                   7.45  Slightly below average   \n",
       "3      Once in a day - Morning                   6.16      Well above average   \n",
       "4                     All time                   5.46      Well below average   \n",
       "...                        ...                    ...                     ...   \n",
       "39494                 All time                   5.55  Slightly above average   \n",
       "39495                 All time                   5.70  Slightly above average   \n",
       "39496         Once in two days                   6.84      Well below average   \n",
       "39497  Once in a day - Morning                   4.60  Slightly above average   \n",
       "39498                 All time                   8.29      Well below average   \n",
       "\n",
       "      Dust_and_Noise  Air_Quality_Index  Neighborhood_Review  \\\n",
       "0             Medium               90.0                 3.86   \n",
       "1             Medium               96.0                 3.55   \n",
       "2             Medium              121.0                 3.81   \n",
       "3             Medium              100.0                 1.34   \n",
       "4             Medium              116.0                 4.77   \n",
       "...              ...                ...                  ...   \n",
       "39494         Medium               80.0                 3.56   \n",
       "39495         Medium               86.0                 2.93   \n",
       "39496         Medium              137.0                 3.80   \n",
       "39497            NaN               88.0                 3.25   \n",
       "39498           High              132.0                 4.67   \n",
       "\n",
       "       Habitability_score  \n",
       "0                   71.98  \n",
       "1                   71.20  \n",
       "2                   71.39  \n",
       "3                   31.46  \n",
       "4                   93.70  \n",
       "...                   ...  \n",
       "39494               73.43  \n",
       "39495               79.91  \n",
       "39496               81.44  \n",
       "39497               71.33  \n",
       "39498               83.25  \n",
       "\n",
       "[39499 rows x 15 columns]"
      ]
     },
     "execution_count": 3,
     "metadata": {},
     "output_type": "execute_result"
    }
   ],
   "source": [
    "data"
   ]
  },
  {
   "cell_type": "code",
   "execution_count": 4,
   "id": "c219737d",
   "metadata": {},
   "outputs": [
    {
     "name": "stdout",
     "output_type": "stream",
     "text": [
      "<class 'pandas.core.frame.DataFrame'>\n",
      "RangeIndex: 39499 entries, 0 to 39498\n",
      "Data columns (total 15 columns):\n",
      " #   Column                  Non-Null Count  Dtype  \n",
      "---  ------                  --------------  -----  \n",
      " 0   Property_ID             39499 non-null  object \n",
      " 1   Property_Type           39499 non-null  object \n",
      " 2   Property_Area           39499 non-null  int64  \n",
      " 3   Number_of_Windows       37845 non-null  float64\n",
      " 4   Number_of_Doors         39499 non-null  int64  \n",
      " 5   Furnishing              38457 non-null  object \n",
      " 6   Frequency_of_Powercuts  38116 non-null  float64\n",
      " 7   Power_Backup            39499 non-null  object \n",
      " 8   Water_Supply            39499 non-null  object \n",
      " 9   Traffic_Density_Score   39499 non-null  float64\n",
      " 10  Crime_Rate              38712 non-null  object \n",
      " 11  Dust_and_Noise          38280 non-null  object \n",
      " 12  Air_Quality_Index       39499 non-null  float64\n",
      " 13  Neighborhood_Review     39499 non-null  float64\n",
      " 14  Habitability_score      39499 non-null  float64\n",
      "dtypes: float64(6), int64(2), object(7)\n",
      "memory usage: 4.5+ MB\n"
     ]
    }
   ],
   "source": [
    "data.info()"
   ]
  },
  {
   "cell_type": "code",
   "execution_count": 16,
   "id": "61bc06dd",
   "metadata": {},
   "outputs": [
    {
     "data": {
      "text/plain": [
       "Property_Type             0\n",
       "Property_Area             0\n",
       "Number_of_Windows         0\n",
       "Number_of_Doors           0\n",
       "Furnishing                0\n",
       "Frequency_of_Powercuts    0\n",
       "Power_Backup              0\n",
       "Water_Supply              0\n",
       "Traffic_Density_Score     0\n",
       "Crime_Rate                0\n",
       "Dust_and_Noise            0\n",
       "Air_Quality_Index         0\n",
       "Neighborhood_Review       0\n",
       "Habitability_score        0\n",
       "dtype: int64"
      ]
     },
     "execution_count": 16,
     "metadata": {},
     "output_type": "execute_result"
    }
   ],
   "source": [
    "data.isnull().sum()"
   ]
  },
  {
   "cell_type": "code",
   "execution_count": 15,
   "id": "e5bfc2fe",
   "metadata": {},
   "outputs": [],
   "source": [
    "data.fillna(0, inplace = True)"
   ]
  },
  {
   "cell_type": "code",
   "execution_count": 7,
   "id": "b0f6be07",
   "metadata": {},
   "outputs": [],
   "source": [
    "data.drop(['Property_ID'], axis = 1, inplace = True)"
   ]
  },
  {
   "cell_type": "code",
   "execution_count": 90,
   "id": "e8b7b231",
   "metadata": {},
   "outputs": [
    {
     "data": {
      "text/plain": [
       "(39499, 15)"
      ]
     },
     "execution_count": 90,
     "metadata": {},
     "output_type": "execute_result"
    }
   ],
   "source": [
    "data.shape"
   ]
  },
  {
   "cell_type": "code",
   "execution_count": 116,
   "id": "fd77efb5",
   "metadata": {},
   "outputs": [
    {
     "data": {
      "text/html": [
       "<div>\n",
       "<style scoped>\n",
       "    .dataframe tbody tr th:only-of-type {\n",
       "        vertical-align: middle;\n",
       "    }\n",
       "\n",
       "    .dataframe tbody tr th {\n",
       "        vertical-align: top;\n",
       "    }\n",
       "\n",
       "    .dataframe thead th {\n",
       "        text-align: right;\n",
       "    }\n",
       "</style>\n",
       "<table border=\"1\" class=\"dataframe\">\n",
       "  <thead>\n",
       "    <tr style=\"text-align: right;\">\n",
       "      <th></th>\n",
       "      <th>Property_Type</th>\n",
       "      <th>Property_Area</th>\n",
       "      <th>Number_of_Windows</th>\n",
       "      <th>Number_of_Doors</th>\n",
       "      <th>Furnishing</th>\n",
       "      <th>Frequency_of_Powercuts</th>\n",
       "      <th>Power_Backup</th>\n",
       "      <th>Water_Supply</th>\n",
       "      <th>Traffic_Density_Score</th>\n",
       "      <th>Crime_Rate</th>\n",
       "      <th>Dust_and_Noise</th>\n",
       "      <th>Air_Quality_Index</th>\n",
       "      <th>Neighborhood_Review</th>\n",
       "      <th>Habitability_score</th>\n",
       "    </tr>\n",
       "  </thead>\n",
       "  <tbody>\n",
       "    <tr>\n",
       "      <th>count</th>\n",
       "      <td>39499.000000</td>\n",
       "      <td>39499.000000</td>\n",
       "      <td>39499.000000</td>\n",
       "      <td>39499.000000</td>\n",
       "      <td>39499.000000</td>\n",
       "      <td>39499.000000</td>\n",
       "      <td>39499.000000</td>\n",
       "      <td>39499.000000</td>\n",
       "      <td>39499.000000</td>\n",
       "      <td>39499.000000</td>\n",
       "      <td>39499.000000</td>\n",
       "      <td>39499.000000</td>\n",
       "      <td>39499.000000</td>\n",
       "      <td>39499.000000</td>\n",
       "    </tr>\n",
       "    <tr>\n",
       "      <th>mean</th>\n",
       "      <td>2.843034</td>\n",
       "      <td>1391.715638</td>\n",
       "      <td>3.759462</td>\n",
       "      <td>2.331375</td>\n",
       "      <td>2.012760</td>\n",
       "      <td>0.467708</td>\n",
       "      <td>1.205803</td>\n",
       "      <td>1.351680</td>\n",
       "      <td>6.354772</td>\n",
       "      <td>3.179599</td>\n",
       "      <td>1.909415</td>\n",
       "      <td>121.352566</td>\n",
       "      <td>3.735945</td>\n",
       "      <td>73.482297</td>\n",
       "    </tr>\n",
       "    <tr>\n",
       "      <th>std</th>\n",
       "      <td>1.728091</td>\n",
       "      <td>1953.287544</td>\n",
       "      <td>2.748803</td>\n",
       "      <td>1.179964</td>\n",
       "      <td>0.750741</td>\n",
       "      <td>0.744272</td>\n",
       "      <td>0.453187</td>\n",
       "      <td>1.417895</td>\n",
       "      <td>1.219681</td>\n",
       "      <td>1.006485</td>\n",
       "      <td>0.499021</td>\n",
       "      <td>62.384669</td>\n",
       "      <td>0.796843</td>\n",
       "      <td>14.118753</td>\n",
       "    </tr>\n",
       "    <tr>\n",
       "      <th>min</th>\n",
       "      <td>0.000000</td>\n",
       "      <td>100.000000</td>\n",
       "      <td>0.000000</td>\n",
       "      <td>1.000000</td>\n",
       "      <td>0.000000</td>\n",
       "      <td>0.000000</td>\n",
       "      <td>0.000000</td>\n",
       "      <td>0.000000</td>\n",
       "      <td>0.000000</td>\n",
       "      <td>0.000000</td>\n",
       "      <td>0.000000</td>\n",
       "      <td>0.000000</td>\n",
       "      <td>0.000000</td>\n",
       "      <td>7.280000</td>\n",
       "    </tr>\n",
       "    <tr>\n",
       "      <th>25%</th>\n",
       "      <td>1.000000</td>\n",
       "      <td>494.000000</td>\n",
       "      <td>2.000000</td>\n",
       "      <td>1.000000</td>\n",
       "      <td>2.000000</td>\n",
       "      <td>0.000000</td>\n",
       "      <td>1.000000</td>\n",
       "      <td>0.000000</td>\n",
       "      <td>5.600000</td>\n",
       "      <td>3.000000</td>\n",
       "      <td>2.000000</td>\n",
       "      <td>95.000000</td>\n",
       "      <td>3.220000</td>\n",
       "      <td>69.660000</td>\n",
       "    </tr>\n",
       "    <tr>\n",
       "      <th>50%</th>\n",
       "      <td>3.000000</td>\n",
       "      <td>932.000000</td>\n",
       "      <td>3.000000</td>\n",
       "      <td>2.000000</td>\n",
       "      <td>2.000000</td>\n",
       "      <td>0.000000</td>\n",
       "      <td>1.000000</td>\n",
       "      <td>1.000000</td>\n",
       "      <td>6.470000</td>\n",
       "      <td>3.000000</td>\n",
       "      <td>2.000000</td>\n",
       "      <td>113.000000</td>\n",
       "      <td>3.850000</td>\n",
       "      <td>75.760000</td>\n",
       "    </tr>\n",
       "    <tr>\n",
       "      <th>75%</th>\n",
       "      <td>5.000000</td>\n",
       "      <td>1770.000000</td>\n",
       "      <td>5.000000</td>\n",
       "      <td>3.000000</td>\n",
       "      <td>3.000000</td>\n",
       "      <td>1.000000</td>\n",
       "      <td>1.000000</td>\n",
       "      <td>3.000000</td>\n",
       "      <td>7.220000</td>\n",
       "      <td>4.000000</td>\n",
       "      <td>2.000000</td>\n",
       "      <td>140.000000</td>\n",
       "      <td>4.260000</td>\n",
       "      <td>82.260000</td>\n",
       "    </tr>\n",
       "    <tr>\n",
       "      <th>max</th>\n",
       "      <td>5.000000</td>\n",
       "      <td>28064.000000</td>\n",
       "      <td>15.000000</td>\n",
       "      <td>6.000000</td>\n",
       "      <td>3.000000</td>\n",
       "      <td>3.000000</td>\n",
       "      <td>2.000000</td>\n",
       "      <td>4.000000</td>\n",
       "      <td>9.910000</td>\n",
       "      <td>4.000000</td>\n",
       "      <td>3.000000</td>\n",
       "      <td>1044.000000</td>\n",
       "      <td>5.000000</td>\n",
       "      <td>100.000000</td>\n",
       "    </tr>\n",
       "  </tbody>\n",
       "</table>\n",
       "</div>"
      ],
      "text/plain": [
       "       Property_Type  Property_Area  Number_of_Windows  Number_of_Doors  \\\n",
       "count   39499.000000   39499.000000       39499.000000     39499.000000   \n",
       "mean        2.843034    1391.715638           3.759462         2.331375   \n",
       "std         1.728091    1953.287544           2.748803         1.179964   \n",
       "min         0.000000     100.000000           0.000000         1.000000   \n",
       "25%         1.000000     494.000000           2.000000         1.000000   \n",
       "50%         3.000000     932.000000           3.000000         2.000000   \n",
       "75%         5.000000    1770.000000           5.000000         3.000000   \n",
       "max         5.000000   28064.000000          15.000000         6.000000   \n",
       "\n",
       "         Furnishing  Frequency_of_Powercuts  Power_Backup  Water_Supply  \\\n",
       "count  39499.000000            39499.000000  39499.000000  39499.000000   \n",
       "mean       2.012760                0.467708      1.205803      1.351680   \n",
       "std        0.750741                0.744272      0.453187      1.417895   \n",
       "min        0.000000                0.000000      0.000000      0.000000   \n",
       "25%        2.000000                0.000000      1.000000      0.000000   \n",
       "50%        2.000000                0.000000      1.000000      1.000000   \n",
       "75%        3.000000                1.000000      1.000000      3.000000   \n",
       "max        3.000000                3.000000      2.000000      4.000000   \n",
       "\n",
       "       Traffic_Density_Score    Crime_Rate  Dust_and_Noise  Air_Quality_Index  \\\n",
       "count           39499.000000  39499.000000    39499.000000       39499.000000   \n",
       "mean                6.354772      3.179599        1.909415         121.352566   \n",
       "std                 1.219681      1.006485        0.499021          62.384669   \n",
       "min                 0.000000      0.000000        0.000000           0.000000   \n",
       "25%                 5.600000      3.000000        2.000000          95.000000   \n",
       "50%                 6.470000      3.000000        2.000000         113.000000   \n",
       "75%                 7.220000      4.000000        2.000000         140.000000   \n",
       "max                 9.910000      4.000000        3.000000        1044.000000   \n",
       "\n",
       "       Neighborhood_Review  Habitability_score  \n",
       "count         39499.000000        39499.000000  \n",
       "mean              3.735945           73.482297  \n",
       "std               0.796843           14.118753  \n",
       "min               0.000000            7.280000  \n",
       "25%               3.220000           69.660000  \n",
       "50%               3.850000           75.760000  \n",
       "75%               4.260000           82.260000  \n",
       "max               5.000000          100.000000  "
      ]
     },
     "execution_count": 116,
     "metadata": {},
     "output_type": "execute_result"
    }
   ],
   "source": [
    "data.describe()"
   ]
  },
  {
   "cell_type": "code",
   "execution_count": 20,
   "id": "79ef4058",
   "metadata": {},
   "outputs": [
    {
     "data": {
      "text/plain": [
       "array(['Once in a day - Morning', 'Once in a day - Evening', 'All time',\n",
       "       'NOT MENTIONED', 'Once in two days'], dtype=object)"
      ]
     },
     "execution_count": 20,
     "metadata": {},
     "output_type": "execute_result"
    }
   ],
   "source": [
    "data['Water_Supply'].unique()"
   ]
  },
  {
   "cell_type": "code",
   "execution_count": 9,
   "id": "2f050f54",
   "metadata": {},
   "outputs": [],
   "source": [
    "from sklearn.linear_model import LinearRegression\n",
    "from sklearn.model_selection import train_test_split\n",
    "from sklearn import metrics\n",
    "from sklearn.preprocessing import StandardScaler\n",
    "from sklearn.preprocessing import LabelEncoder"
   ]
  },
  {
   "cell_type": "code",
   "execution_count": 10,
   "id": "e0986c72",
   "metadata": {},
   "outputs": [],
   "source": [
    "le = LabelEncoder()"
   ]
  },
  {
   "cell_type": "code",
   "execution_count": 11,
   "id": "ca6b9a6b",
   "metadata": {},
   "outputs": [],
   "source": [
    "data['Property_Type'] = le.fit_transform(data['Property_Type'])\n",
    "data['Power_Backup'] = le.fit_transform(data['Power_Backup'])\n",
    "data['Water_Supply'] = le.fit_transform(data['Water_Supply'])"
   ]
  },
  {
   "cell_type": "code",
   "execution_count": 70,
   "id": "01e7244c",
   "metadata": {},
   "outputs": [
    {
     "data": {
      "text/plain": [
       "array(['Medium', 0, 'High', 'Low'], dtype=object)"
      ]
     },
     "execution_count": 70,
     "metadata": {},
     "output_type": "execute_result"
    }
   ],
   "source": [
    "data['Dust_and_Noise'].unique()"
   ]
  },
  {
   "cell_type": "code",
   "execution_count": 12,
   "id": "9b7315f8",
   "metadata": {},
   "outputs": [],
   "source": [
    "def label_furnishing(data):\n",
    "    if isinstance(data['Furnishing'], str) and 'Fully Furnished' in data['Furnishing']:\n",
    "        return 1\n",
    "    if isinstance(data['Furnishing'], str) and 'Semi_Furnished' in data['Furnishing']:\n",
    "        return 2\n",
    "    if isinstance(data['Furnishing'], str) and 'Unfurnished' in data['Furnishing']:\n",
    "        return 3\n",
    "    \n",
    "data['Furnishing'] = data.apply(label_furnishing, axis=1)    "
   ]
  },
  {
   "cell_type": "code",
   "execution_count": 13,
   "id": "f9688f65",
   "metadata": {},
   "outputs": [],
   "source": [
    "def label_Crime_Rate(data):\n",
    "    if isinstance(data['Crime_Rate'], str) and 'Slightly above average' in data['Crime_Rate']:\n",
    "        return 2\n",
    "    if isinstance(data['Crime_Rate'], str) and 'Well above average' in data['Crime_Rate']:\n",
    "        return 1\n",
    "    if isinstance(data['Crime_Rate'], str) and 'Slightly below average' in data['Crime_Rate']:\n",
    "        return 3\n",
    "    if isinstance(data['Crime_Rate'], str) and 'Well below average' in data['Crime_Rate']:\n",
    "        return 4\n",
    "data['Crime_Rate'] = data.apply(label_Crime_Rate, axis = 1)    "
   ]
  },
  {
   "cell_type": "code",
   "execution_count": 14,
   "id": "68f80490",
   "metadata": {},
   "outputs": [],
   "source": [
    "def label_Dust_and_Noise(data):\n",
    "    if isinstance(data['Dust_and_Noise'], str) and 'High' in data['Dust_and_Noise']:\n",
    "        return 1\n",
    "    if isinstance(data['Dust_and_Noise'], str) and 'Medium' in data['Dust_and_Noise']:\n",
    "        return 2\n",
    "    if isinstance(data['Dust_and_Noise'], str) and 'Low' in data['Dust_and_Noise']:\n",
    "        return 3\n",
    "    \n",
    "data['Dust_and_Noise'] = data.apply(label_Dust_and_Noise, axis =1)    "
   ]
  },
  {
   "cell_type": "code",
   "execution_count": 30,
   "id": "559cc792",
   "metadata": {},
   "outputs": [
    {
     "data": {
      "text/plain": [
       "<matplotlib.collections.PathCollection at 0x1e8e7ad7340>"
      ]
     },
     "execution_count": 30,
     "metadata": {},
     "output_type": "execute_result"
    },
    {
     "data": {
      "image/png": "[encoded data removed]",
      "text/plain": [
       "<Figure size 432x288 with 1 Axes>"
      ]
     },
     "metadata": {
      "needs_background": "light"
     },
     "output_type": "display_data"
    }
   ],
   "source": [
    "plt.scatter(x = data['Property_Type'], y = data['Habitability_score'])"
   ]
  },
  {
   "cell_type": "code",
   "execution_count": 31,
   "id": "1df16734",
   "metadata": {},
   "outputs": [
    {
     "data": {
      "text/plain": [
       "<AxesSubplot:xlabel='Property_Type', ylabel='Habitability_score'>"
      ]
     },
     "execution_count": 31,
     "metadata": {},
     "output_type": "execute_result"
    },
    {
     "data": {
      "image/png": "[encoded data removed]",
      "text/plain": [
       "<Figure size 432x288 with 1 Axes>"
      ]
     },
     "metadata": {
      "needs_background": "light"
     },
     "output_type": "display_data"
    }
   ],
   "source": [
    "sns.scatterplot(x = data['Property_Type'], y = data['Habitability_score'])"
   ]
  },
  {
   "cell_type": "code",
   "execution_count": 120,
   "id": "4b6040da",
   "metadata": {},
   "outputs": [
    {
     "data": {
      "text/plain": [
       "<AxesSubplot:>"
      ]
     },
     "execution_count": 120,
     "metadata": {},
     "output_type": "execute_result"
    },
    {
     "data": {
      "image/png": "[encoded data removed]",
      "text/plain": [
       "<Figure size 432x288 with 2 Axes>"
      ]
     },
     "metadata": {
      "needs_background": "light"
     },
     "output_type": "display_data"
    }
   ],
   "source": [
    "sns.heatmap(data= data.corr(), annot = True)"
   ]
  },
  {
   "cell_type": "code",
   "execution_count": 17,
   "id": "5ab3e5b2",
   "metadata": {},
   "outputs": [],
   "source": [
    "x = data.iloc[:, 0:-1].values\n",
    "y = data.iloc[:,-1].values"
   ]
  },
  {
   "cell_type": "code",
   "execution_count": 18,
   "id": "b8ecfb8c",
   "metadata": {},
   "outputs": [],
   "source": [
    "X = data[['Property_Area','Furnishing','Frequency_of_Powercuts','Power_Backup','Water_Supply','Crime_Rate'\n",
    "      ,'Neighborhood_Review']]\n",
    "Y= data['Habitability_score']"
   ]
  },
  {
   "cell_type": "code",
   "execution_count": 193,
   "id": "e804c877",
   "metadata": {},
   "outputs": [
    {
     "data": {
      "text/plain": [
       "0        71.98\n",
       "1        71.20\n",
       "2        71.39\n",
       "3        31.46\n",
       "4        93.70\n",
       "         ...  \n",
       "39494    73.43\n",
       "39495    79.91\n",
       "39496    81.44\n",
       "39497    71.33\n",
       "39498    83.25\n",
       "Name: Habitability_score, Length: 39499, dtype: float64"
      ]
     },
     "execution_count": 193,
     "metadata": {},
     "output_type": "execute_result"
    }
   ],
   "source": [
    "\n"
   ]
  },
  {
   "cell_type": "code",
   "execution_count": 98,
   "id": "e5f2ce28",
   "metadata": {},
   "outputs": [],
   "source": [
    "x_train, x_test, y_train, y_test = train_test_split(x,y, test_size=0.33, random_state=45)"
   ]
  },
  {
   "cell_type": "code",
   "execution_count": 99,
   "id": "e2e7a0c4",
   "metadata": {},
   "outputs": [
    {
     "data": {
      "text/plain": [
       "(26464, 13)"
      ]
     },
     "execution_count": 99,
     "metadata": {},
     "output_type": "execute_result"
    }
   ],
   "source": [
    "x_train.shape"
   ]
  },
  {
   "cell_type": "code",
   "execution_count": 100,
   "id": "ffc430ef",
   "metadata": {},
   "outputs": [],
   "source": [
    "ss = StandardScaler()"
   ]
  },
  {
   "cell_type": "code",
   "execution_count": 101,
   "id": "6f804088",
   "metadata": {},
   "outputs": [],
   "source": [
    "x_train = ss.fit_transform(x_train)"
   ]
  },
  {
   "cell_type": "code",
   "execution_count": 102,
   "id": "1f16b104",
   "metadata": {},
   "outputs": [],
   "source": [
    "x_test = ss.transform(x_test)"
   ]
  },
  {
   "cell_type": "code",
   "execution_count": 103,
   "id": "efb44004",
   "metadata": {},
   "outputs": [],
   "source": [
    "reg = LinearRegression()"
   ]
  },
  {
   "cell_type": "code",
   "execution_count": 104,
   "id": "017b9415",
   "metadata": {},
   "outputs": [
    {
     "data": {
      "text/plain": [
       "LinearRegression()"
      ]
     },
     "execution_count": 104,
     "metadata": {},
     "output_type": "execute_result"
    }
   ],
   "source": [
    "reg.fit(x_train,y_train)"
   ]
  },
  {
   "cell_type": "code",
   "execution_count": 105,
   "id": "d9c800bb",
   "metadata": {},
   "outputs": [],
   "source": [
    "y_pred = reg.predict(x_test)"
   ]
  },
  {
   "cell_type": "code",
   "execution_count": 106,
   "id": "e34cff50",
   "metadata": {},
   "outputs": [
    {
     "data": {
      "text/plain": [
       "array([ 0.77282521,  0.31556977,  0.88010139,  0.57621466, -5.38895433,\n",
       "        1.51240052,  3.56325963,  0.13252836, -0.51100393,  0.32594143,\n",
       "        0.6396218 , -0.09479732,  8.32208554])"
      ]
     },
     "execution_count": 106,
     "metadata": {},
     "output_type": "execute_result"
    }
   ],
   "source": [
    "reg.coef_"
   ]
  },
  {
   "cell_type": "code",
   "execution_count": 107,
   "id": "46e7fd4a",
   "metadata": {},
   "outputs": [
    {
     "data": {
      "text/plain": [
       "73.48442714631146"
      ]
     },
     "execution_count": 107,
     "metadata": {},
     "output_type": "execute_result"
    }
   ],
   "source": [
    "reg.intercept_"
   ]
  },
  {
   "cell_type": "code",
   "execution_count": 108,
   "id": "d1efc0b6",
   "metadata": {},
   "outputs": [
    {
     "data": {
      "text/plain": [
       "(13035,)"
      ]
     },
     "execution_count": 108,
     "metadata": {},
     "output_type": "execute_result"
    }
   ],
   "source": [
    "y_test.shape"
   ]
  },
  {
   "cell_type": "code",
   "execution_count": 109,
   "id": "f95f2928",
   "metadata": {},
   "outputs": [
    {
     "data": {
      "text/plain": [
       "(13035,)"
      ]
     },
     "execution_count": 109,
     "metadata": {},
     "output_type": "execute_result"
    }
   ],
   "source": [
    "y_pred.shape"
   ]
  },
  {
   "cell_type": "code",
   "execution_count": 110,
   "id": "d9899ef7",
   "metadata": {},
   "outputs": [
    {
     "name": "stdout",
     "output_type": "stream",
     "text": [
      "Mean absolute error : 7.581543469531807\n",
      "Mean Squared error : 95.3532050747783\n",
      "Root mean squared error : 9.764896572661602\n",
      "Root squared error : 0.518529089939405\n"
     ]
    }
   ],
   "source": [
    "print('Mean absolute error :', metrics.mean_absolute_error(y_test,y_pred))\n",
    "print('Mean Squared error :', metrics.mean_squared_error(y_test,y_pred))\n",
    "print('Root mean squared error :', np.sqrt(metrics.mean_squared_error(y_test,y_pred)))\n",
    "print('Root squared error :',metrics.r2_score(y_test,y_pred))"
   ]
  },
  {
   "cell_type": "code",
   "execution_count": null,
   "id": "14715be8",
   "metadata": {},
   "outputs": [],
   "source": []
  },
  {
   "cell_type": "code",
   "execution_count": null,
   "id": "5602125d",
   "metadata": {},
   "outputs": [],
   "source": []
  },
  {
   "cell_type": "code",
   "execution_count": null,
   "id": "6d73f61a",
   "metadata": {},
   "outputs": [],
   "source": []
  }
 ],
 "metadata": {
  "kernelspec": {
   "display_name": "Python 3 (ipykernel)",
   "language": "python",
   "name": "python3"
  },
  "language_info": {
   "codemirror_mode": {
    "name": "ipython",
    "version": 3
   },
   "file_extension": ".py",
   "mimetype": "text/x-python",
   "name": "python",
   "nbconvert_exporter": "python",
   "pygments_lexer": "ipython3",
   "version": "3.9.12"
  }
 },
 "nbformat": 4,
 "nbformat_minor": 5
}
