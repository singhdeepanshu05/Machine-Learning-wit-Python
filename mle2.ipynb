{
 "cells": [
  {
   "cell_type": "code",
   "execution_count": 22,
   "id": "bbe42941",
   "metadata": {},
   "outputs": [],
   "source": [
    "import numpy as np\n",
    "import pandas as pd\n",
    "import matplotlib.pyplot as plt\n",
    "import seaborn as sns"
   ]
  },
  {
   "cell_type": "code",
   "execution_count": 23,
   "id": "602e03dc",
   "metadata": {},
   "outputs": [],
   "source": [
    "data = pd.read_csv('Health_insurance - Health_insurance.csv')"
   ]
  },
  {
   "cell_type": "code",
   "execution_count": 24,
   "id": "24d3f56f",
   "metadata": {},
   "outputs": [
    {
     "data": {
      "text/html": [
       "<div>\n",
       "<style scoped>\n",
       "    .dataframe tbody tr th:only-of-type {\n",
       "        vertical-align: middle;\n",
       "    }\n",
       "\n",
       "    .dataframe tbody tr th {\n",
       "        vertical-align: top;\n",
       "    }\n",
       "\n",
       "    .dataframe thead th {\n",
       "        text-align: right;\n",
       "    }\n",
       "</style>\n",
       "<table border=\"1\" class=\"dataframe\">\n",
       "  <thead>\n",
       "    <tr style=\"text-align: right;\">\n",
       "      <th></th>\n",
       "      <th>age</th>\n",
       "      <th>sex</th>\n",
       "      <th>bmi</th>\n",
       "      <th>children</th>\n",
       "      <th>smoker</th>\n",
       "      <th>region</th>\n",
       "      <th>charges</th>\n",
       "    </tr>\n",
       "  </thead>\n",
       "  <tbody>\n",
       "    <tr>\n",
       "      <th>0</th>\n",
       "      <td>19</td>\n",
       "      <td>female</td>\n",
       "      <td>27.9</td>\n",
       "      <td>0.0</td>\n",
       "      <td>yes</td>\n",
       "      <td>southwest</td>\n",
       "      <td>16884.924$</td>\n",
       "    </tr>\n",
       "    <tr>\n",
       "      <th>1</th>\n",
       "      <td>18</td>\n",
       "      <td>male</td>\n",
       "      <td>33.77</td>\n",
       "      <td>1.0</td>\n",
       "      <td>no</td>\n",
       "      <td>southeast</td>\n",
       "      <td>1725.5523$</td>\n",
       "    </tr>\n",
       "    <tr>\n",
       "      <th>2</th>\n",
       "      <td>28</td>\n",
       "      <td>male</td>\n",
       "      <td>33</td>\n",
       "      <td>3.0</td>\n",
       "      <td>no</td>\n",
       "      <td>southeast</td>\n",
       "      <td>4449.462$</td>\n",
       "    </tr>\n",
       "    <tr>\n",
       "      <th>3</th>\n",
       "      <td>33</td>\n",
       "      <td>male</td>\n",
       "      <td>22.705</td>\n",
       "      <td>0.0</td>\n",
       "      <td>no</td>\n",
       "      <td>northwest</td>\n",
       "      <td>21984.47061$</td>\n",
       "    </tr>\n",
       "    <tr>\n",
       "      <th>4</th>\n",
       "      <td>32</td>\n",
       "      <td>male</td>\n",
       "      <td>28.88</td>\n",
       "      <td>0.0</td>\n",
       "      <td>no</td>\n",
       "      <td>northwest</td>\n",
       "      <td>3866.8552$</td>\n",
       "    </tr>\n",
       "    <tr>\n",
       "      <th>...</th>\n",
       "      <td>...</td>\n",
       "      <td>...</td>\n",
       "      <td>...</td>\n",
       "      <td>...</td>\n",
       "      <td>...</td>\n",
       "      <td>...</td>\n",
       "      <td>...</td>\n",
       "    </tr>\n",
       "    <tr>\n",
       "      <th>1558</th>\n",
       "      <td>42</td>\n",
       "      <td>male</td>\n",
       "      <td>20.3</td>\n",
       "      <td>NaN</td>\n",
       "      <td>no</td>\n",
       "      <td>southwest</td>\n",
       "      <td>1984.4533$</td>\n",
       "    </tr>\n",
       "    <tr>\n",
       "      <th>1559</th>\n",
       "      <td>48</td>\n",
       "      <td>male</td>\n",
       "      <td>35.3</td>\n",
       "      <td>NaN</td>\n",
       "      <td>no</td>\n",
       "      <td>southwest</td>\n",
       "      <td>2457.502$</td>\n",
       "    </tr>\n",
       "    <tr>\n",
       "      <th>1560</th>\n",
       "      <td>39</td>\n",
       "      <td>male</td>\n",
       "      <td>24.32</td>\n",
       "      <td>NaN</td>\n",
       "      <td>no</td>\n",
       "      <td>southeast</td>\n",
       "      <td>12146.971$</td>\n",
       "    </tr>\n",
       "    <tr>\n",
       "      <th>1561</th>\n",
       "      <td>63</td>\n",
       "      <td>male</td>\n",
       "      <td>18.5</td>\n",
       "      <td>NaN</td>\n",
       "      <td>no</td>\n",
       "      <td>southwest</td>\n",
       "      <td>9566.9909$</td>\n",
       "    </tr>\n",
       "    <tr>\n",
       "      <th>1562</th>\n",
       "      <td>54</td>\n",
       "      <td>female</td>\n",
       "      <td>26.41</td>\n",
       "      <td>NaN</td>\n",
       "      <td>no</td>\n",
       "      <td>northeast</td>\n",
       "      <td>13112.6048$</td>\n",
       "    </tr>\n",
       "  </tbody>\n",
       "</table>\n",
       "<p>1563 rows × 7 columns</p>\n",
       "</div>"
      ],
      "text/plain": [
       "     age     sex     bmi  children smoker     region       charges\n",
       "0     19  female    27.9       0.0    yes  southwest    16884.924$\n",
       "1     18    male   33.77       1.0     no  southeast    1725.5523$\n",
       "2     28    male      33       3.0     no  southeast     4449.462$\n",
       "3     33    male  22.705       0.0     no  northwest  21984.47061$\n",
       "4     32    male   28.88       0.0     no  northwest    3866.8552$\n",
       "...   ..     ...     ...       ...    ...        ...           ...\n",
       "1558  42    male    20.3       NaN     no  southwest    1984.4533$\n",
       "1559  48    male    35.3       NaN     no  southwest     2457.502$\n",
       "1560  39    male   24.32       NaN     no  southeast    12146.971$\n",
       "1561  63    male    18.5       NaN     no  southwest    9566.9909$\n",
       "1562  54  female   26.41       NaN     no  northeast   13112.6048$\n",
       "\n",
       "[1563 rows x 7 columns]"
      ]
     },
     "execution_count": 24,
     "metadata": {},
     "output_type": "execute_result"
    }
   ],
   "source": [
    "data"
   ]
  },
  {
   "cell_type": "markdown",
   "id": "41693df8",
   "metadata": {},
   "source": [
    "1. Explore the dataset -\n",
    "a. Find the null values in different columns\n",
    "b. Check the data types of each columns\n",
    "c. Find the 5 point summary of the numerical columns (eg. Age, BMI,\n",
    "Children, Charges)\n",
    "d. Find the different unique values in each categorical columns\n"
   ]
  },
  {
   "cell_type": "code",
   "execution_count": 25,
   "id": "f46dcead",
   "metadata": {},
   "outputs": [
    {
     "data": {
      "text/html": [
       "<div>\n",
       "<style scoped>\n",
       "    .dataframe tbody tr th:only-of-type {\n",
       "        vertical-align: middle;\n",
       "    }\n",
       "\n",
       "    .dataframe tbody tr th {\n",
       "        vertical-align: top;\n",
       "    }\n",
       "\n",
       "    .dataframe thead th {\n",
       "        text-align: right;\n",
       "    }\n",
       "</style>\n",
       "<table border=\"1\" class=\"dataframe\">\n",
       "  <thead>\n",
       "    <tr style=\"text-align: right;\">\n",
       "      <th></th>\n",
       "      <th>age</th>\n",
       "      <th>sex</th>\n",
       "      <th>bmi</th>\n",
       "      <th>children</th>\n",
       "      <th>smoker</th>\n",
       "      <th>region</th>\n",
       "      <th>charges</th>\n",
       "    </tr>\n",
       "  </thead>\n",
       "  <tbody>\n",
       "    <tr>\n",
       "      <th>0</th>\n",
       "      <td>19</td>\n",
       "      <td>female</td>\n",
       "      <td>27.9</td>\n",
       "      <td>0.0</td>\n",
       "      <td>yes</td>\n",
       "      <td>southwest</td>\n",
       "      <td>16884.924$</td>\n",
       "    </tr>\n",
       "    <tr>\n",
       "      <th>1</th>\n",
       "      <td>18</td>\n",
       "      <td>male</td>\n",
       "      <td>33.77</td>\n",
       "      <td>1.0</td>\n",
       "      <td>no</td>\n",
       "      <td>southeast</td>\n",
       "      <td>1725.5523$</td>\n",
       "    </tr>\n",
       "    <tr>\n",
       "      <th>2</th>\n",
       "      <td>28</td>\n",
       "      <td>male</td>\n",
       "      <td>33</td>\n",
       "      <td>3.0</td>\n",
       "      <td>no</td>\n",
       "      <td>southeast</td>\n",
       "      <td>4449.462$</td>\n",
       "    </tr>\n",
       "    <tr>\n",
       "      <th>3</th>\n",
       "      <td>33</td>\n",
       "      <td>male</td>\n",
       "      <td>22.705</td>\n",
       "      <td>0.0</td>\n",
       "      <td>no</td>\n",
       "      <td>northwest</td>\n",
       "      <td>21984.47061$</td>\n",
       "    </tr>\n",
       "    <tr>\n",
       "      <th>4</th>\n",
       "      <td>32</td>\n",
       "      <td>male</td>\n",
       "      <td>28.88</td>\n",
       "      <td>0.0</td>\n",
       "      <td>no</td>\n",
       "      <td>northwest</td>\n",
       "      <td>3866.8552$</td>\n",
       "    </tr>\n",
       "  </tbody>\n",
       "</table>\n",
       "</div>"
      ],
      "text/plain": [
       "  age     sex     bmi  children smoker     region       charges\n",
       "0  19  female    27.9       0.0    yes  southwest    16884.924$\n",
       "1  18    male   33.77       1.0     no  southeast    1725.5523$\n",
       "2  28    male      33       3.0     no  southeast     4449.462$\n",
       "3  33    male  22.705       0.0     no  northwest  21984.47061$\n",
       "4  32    male   28.88       0.0     no  northwest    3866.8552$"
      ]
     },
     "execution_count": 25,
     "metadata": {},
     "output_type": "execute_result"
    }
   ],
   "source": [
    "data.head(5)"
   ]
  },
  {
   "cell_type": "markdown",
   "id": "1a07e888",
   "metadata": {},
   "source": [
    "### a. Find the null values in different columns"
   ]
  },
  {
   "cell_type": "code",
   "execution_count": 26,
   "id": "af2b5df5",
   "metadata": {
    "scrolled": false
   },
   "outputs": [
    {
     "data": {
      "text/plain": [
       "age          0\n",
       "sex          0\n",
       "bmi          1\n",
       "children    21\n",
       "smoker       0\n",
       "region       0\n",
       "charges      0\n",
       "dtype: int64"
      ]
     },
     "execution_count": 26,
     "metadata": {},
     "output_type": "execute_result"
    }
   ],
   "source": [
    "data.isnull().sum()"
   ]
  },
  {
   "cell_type": "markdown",
   "id": "b41a19ea",
   "metadata": {},
   "source": [
    "### b. Check the data types of each columns"
   ]
  },
  {
   "cell_type": "code",
   "execution_count": 27,
   "id": "a883a27a",
   "metadata": {
    "scrolled": true
   },
   "outputs": [
    {
     "name": "stdout",
     "output_type": "stream",
     "text": [
      "<class 'pandas.core.frame.DataFrame'>\n",
      "RangeIndex: 1563 entries, 0 to 1562\n",
      "Data columns (total 7 columns):\n",
      " #   Column    Non-Null Count  Dtype  \n",
      "---  ------    --------------  -----  \n",
      " 0   age       1563 non-null   object \n",
      " 1   sex       1563 non-null   object \n",
      " 2   bmi       1562 non-null   object \n",
      " 3   children  1542 non-null   float64\n",
      " 4   smoker    1563 non-null   object \n",
      " 5   region    1563 non-null   object \n",
      " 6   charges   1563 non-null   object \n",
      "dtypes: float64(1), object(6)\n",
      "memory usage: 85.6+ KB\n"
     ]
    }
   ],
   "source": [
    "data.info()"
   ]
  },
  {
   "cell_type": "code",
   "execution_count": null,
   "id": "02e35e1a",
   "metadata": {},
   "outputs": [],
   "source": []
  },
  {
   "cell_type": "markdown",
   "id": "dd31a6c5",
   "metadata": {},
   "source": [
    "###  Find the 5 point summary of the numerical columns (eg. Age, BMI,Children, Charges)"
   ]
  },
  {
   "cell_type": "code",
   "execution_count": 28,
   "id": "cdc22f84",
   "metadata": {
    "scrolled": false
   },
   "outputs": [
    {
     "data": {
      "text/html": [
       "<div>\n",
       "<style scoped>\n",
       "    .dataframe tbody tr th:only-of-type {\n",
       "        vertical-align: middle;\n",
       "    }\n",
       "\n",
       "    .dataframe tbody tr th {\n",
       "        vertical-align: top;\n",
       "    }\n",
       "\n",
       "    .dataframe thead th {\n",
       "        text-align: right;\n",
       "    }\n",
       "</style>\n",
       "<table border=\"1\" class=\"dataframe\">\n",
       "  <thead>\n",
       "    <tr style=\"text-align: right;\">\n",
       "      <th></th>\n",
       "      <th>children</th>\n",
       "    </tr>\n",
       "  </thead>\n",
       "  <tbody>\n",
       "    <tr>\n",
       "      <th>count</th>\n",
       "      <td>1542.000000</td>\n",
       "    </tr>\n",
       "    <tr>\n",
       "      <th>mean</th>\n",
       "      <td>1.099870</td>\n",
       "    </tr>\n",
       "    <tr>\n",
       "      <th>std</th>\n",
       "      <td>1.201508</td>\n",
       "    </tr>\n",
       "    <tr>\n",
       "      <th>min</th>\n",
       "      <td>0.000000</td>\n",
       "    </tr>\n",
       "    <tr>\n",
       "      <th>25%</th>\n",
       "      <td>0.000000</td>\n",
       "    </tr>\n",
       "    <tr>\n",
       "      <th>50%</th>\n",
       "      <td>1.000000</td>\n",
       "    </tr>\n",
       "    <tr>\n",
       "      <th>75%</th>\n",
       "      <td>2.000000</td>\n",
       "    </tr>\n",
       "    <tr>\n",
       "      <th>max</th>\n",
       "      <td>5.000000</td>\n",
       "    </tr>\n",
       "  </tbody>\n",
       "</table>\n",
       "</div>"
      ],
      "text/plain": [
       "          children\n",
       "count  1542.000000\n",
       "mean      1.099870\n",
       "std       1.201508\n",
       "min       0.000000\n",
       "25%       0.000000\n",
       "50%       1.000000\n",
       "75%       2.000000\n",
       "max       5.000000"
      ]
     },
     "execution_count": 28,
     "metadata": {},
     "output_type": "execute_result"
    }
   ],
   "source": [
    "data.describe()"
   ]
  },
  {
   "cell_type": "markdown",
   "id": "27a6e984",
   "metadata": {},
   "source": [
    "### d. Find the different unique values in each categorical columns"
   ]
  },
  {
   "cell_type": "code",
   "execution_count": 29,
   "id": "2736b3af",
   "metadata": {},
   "outputs": [
    {
     "data": {
      "text/plain": [
       "Index(['age', 'sex', 'bmi', 'children', 'smoker', 'region', 'charges'], dtype='object')"
      ]
     },
     "execution_count": 29,
     "metadata": {},
     "output_type": "execute_result"
    }
   ],
   "source": [
    "data.columns"
   ]
  },
  {
   "cell_type": "code",
   "execution_count": 33,
   "id": "67e584f0",
   "metadata": {
    "scrolled": true
   },
   "outputs": [
    {
     "data": {
      "text/plain": [
       "array(['19', '18', '28', '33', '32', '31', '46', '37', '60', '25', '62',\n",
       "       '23', '56', '27', '52', '30', '34', '59', '63', '55', '22', '26',\n",
       "       '35', '24', '41', '38', '36', '21', '48', '40', '58', '53', '43',\n",
       "       '64', '20', '61', '44', '57', '29', '45', '54', '49', '47', '51',\n",
       "       '42', '50', '39'], dtype=object)"
      ]
     },
     "execution_count": 33,
     "metadata": {},
     "output_type": "execute_result"
    }
   ],
   "source": [
    "data['age'].unique()"
   ]
  },
  {
   "cell_type": "code",
   "execution_count": 32,
   "id": "c1ddbfa7",
   "metadata": {},
   "outputs": [],
   "source": [
    "data.drop([1320], axis=0, inplace=True)"
   ]
  },
  {
   "cell_type": "code",
   "execution_count": 37,
   "id": "b96a3eaf",
   "metadata": {},
   "outputs": [
    {
     "data": {
      "text/plain": [
       "array(['female', 'male'], dtype=object)"
      ]
     },
     "execution_count": 37,
     "metadata": {},
     "output_type": "execute_result"
    }
   ],
   "source": [
    "data['sex'].unique()"
   ]
  },
  {
   "cell_type": "code",
   "execution_count": 35,
   "id": "ebc0719b",
   "metadata": {},
   "outputs": [],
   "source": [
    "data.drop([1184], axis=0, inplace=True)"
   ]
  },
  {
   "cell_type": "code",
   "execution_count": 36,
   "id": "697bd5ed",
   "metadata": {},
   "outputs": [],
   "source": [
    "data.drop([1332], axis=0, inplace=True)"
   ]
  },
  {
   "cell_type": "code",
   "execution_count": 15,
   "id": "ac9853c3",
   "metadata": {},
   "outputs": [
    {
     "data": {
      "text/plain": [
       "array(['female', 'male'], dtype=object)"
      ]
     },
     "execution_count": 15,
     "metadata": {},
     "output_type": "execute_result"
    }
   ],
   "source": [
    "data['sex'].unique()"
   ]
  },
  {
   "cell_type": "code",
   "execution_count": 16,
   "id": "0e5c0185",
   "metadata": {
    "scrolled": true
   },
   "outputs": [],
   "source": [
    "data = data['age'].astype(int, copy = True)"
   ]
  },
  {
   "cell_type": "code",
   "execution_count": 38,
   "id": "8a57ba76",
   "metadata": {},
   "outputs": [
    {
     "data": {
      "text/plain": [
       "0         27.9\n",
       "1        33.77\n",
       "2           33\n",
       "3       22.705\n",
       "4        28.88\n",
       "         ...  \n",
       "1558      20.3\n",
       "1559      35.3\n",
       "1560     24.32\n",
       "1561      18.5\n",
       "1562     26.41\n",
       "Name: bmi, Length: 1560, dtype: object"
      ]
     },
     "execution_count": 38,
     "metadata": {},
     "output_type": "execute_result"
    }
   ],
   "source": [
    "data['bmi']"
   ]
  },
  {
   "cell_type": "code",
   "execution_count": 39,
   "id": "3b2c08c8",
   "metadata": {
    "scrolled": true
   },
   "outputs": [
    {
     "data": {
      "text/plain": [
       "array(['27.9', '33.77', '33', '22.705', '28.88', '25.74', '33.44',\n",
       "       '27.74', '29.83', '25.84', '26.22', '26.29', '34.4', '39.82',\n",
       "       '42.13', '24.6', '30.78', '23.845', '40.3', '35.3', '36.005',\n",
       "       '32.4', '34.1', '31.92', '28.025', '27.72', '23.085', '32.775',\n",
       "       '17.385', '36.3', '35.6', '26.315', '28.6', '28.31', '36.4',\n",
       "       '20.425', '32.965', '20.8', '36.67', '39.9', '26.6', '36.63',\n",
       "       '21.78', '30.8', '37.05', '37.3', '38.665', '34.77', '24.53',\n",
       "       '35.2', '35.625', '33.63', '28', '34.43', '28.69', '36.955',\n",
       "       '31.825', '31.68', '22.88', '37.335', '27.36', '33.66', '24.7',\n",
       "       '25.935', '22.42', '28.9', '39.1', '36.19', '23.98', '24.75',\n",
       "       '28.5', '28.1', '32.01', '27.4', '34.01', '29.59', '35.53',\n",
       "       '39.805', '26.885', '38.285', '37.62', '41.23', '34.8', '22.895',\n",
       "       '31.16', '27.2', '26.98', '39.49', '24.795', '31.3', '38.28',\n",
       "       '19.95', '19.3', '31.6', '25.46', '30.115', '29.92', '27.5',\n",
       "       '28.4', '30.875', '27.94', '35.09', '29.7', '35.72', '32.205',\n",
       "       '28.595', '49.06', '27.17', '23.37', '37.1', '23.75', '28.975',\n",
       "       '31.35', '33.915', '28.785', '28.3', '37.4', '17.765', '34.7',\n",
       "       '26.505', '22.04', '35.9', '25.555', '28.05', '25.175', '31.9',\n",
       "       '36', '32.49', '25.3', '29.735', '38.83', '30.495', '37.73',\n",
       "       '37.43', '24.13', '37.145', '39.52', '24.42', '27.83', '36.85',\n",
       "       '39.6', '29.8', '29.64', '28.215', '37', '33.155', '18.905',\n",
       "       '41.47', '30.3', '15.96', '33.345', '37.7', '27.835', '29.2',\n",
       "       '26.41', '30.69', '41.895', '30.9', '32.2', '32.11', '31.57',\n",
       "       '26.2', '30.59', '32.8', '18.05', '39.33', '32.23', '24.035',\n",
       "       '36.08', '22.3', '26.4', '31.8', '26.73', '23.1', '23.21', '33.7',\n",
       "       '33.25', '24.64', '33.88', '38.06', '41.91', '31.635', '36.195',\n",
       "       '17.8', '24.51', '22.22', '38.39', '29.07', '22.135', '26.8',\n",
       "       '30.02', '35.86', '20.9', '17.29', '34.21', '25.365', '40.15',\n",
       "       '24.415', '25.2', '26.84', '24.32', '42.35', '19.8', '32.395',\n",
       "       '30.2', '29.37', '34.2', '27.455', '27.55', '20.615', '24.3',\n",
       "       '31.79', '21.56', '28.12', '40.565', '27.645', '31.2', '26.62',\n",
       "       '48.07', '36.765', '33.4', '45.54', '28.82', '22.99', '27.7',\n",
       "       '25.41', '34.39', '22.61', '37.51', '38', '33.33', '34.865',\n",
       "       '33.06', '35.97', '31.4', '25.27', '40.945', '34.105', '36.48',\n",
       "       '33.8', '36.7', '36.385', '34.5', '32.3', '27.6', '29.26', '35.75',\n",
       "       '23.18', '25.6', '35.245', '43.89', '20.79', '30.5', '21.7',\n",
       "       '21.89', '24.985', '32.015', '30.4', '21.09', '22.23', '32.9',\n",
       "       '24.89', '31.46', '17.955', '30.685', '43.34', '39.05', '30.21',\n",
       "       '31.445', '19.855', '31.02', '38.17', '20.6', '47.52', '20.4',\n",
       "       '38.38', '24.31', '23.6', '21.12', '30.03', '17.48', '20.235',\n",
       "       '17.195', '23.9', '35.15', '35.64', '22.6', '39.16', '27.265',\n",
       "       '29.165', '16.815', '33.1', '26.9', '33.11', '31.73', '46.75',\n",
       "       '29.45', '32.68', '33.5', '43.01', '36.52', '26.695', '25.65',\n",
       "       '29.6', '38.6', '23.4', '46.53', '30.14', '30', '38.095', '28.38',\n",
       "       '28.7', '33.82', '24.09', '32.67', '25.1', '32.56', '41.325',\n",
       "       '39.5', '34.3', '31.065', '21.47', '25.08', '43.4', '25.7',\n",
       "       '27.93', '39.2', '26.03', '30.25', '28.93', '35.7', '35.31', '31',\n",
       "       '44.22', '26.07', '25.8', '39.425', '40.48', '38.9', '47.41',\n",
       "       '35.435', '46.7', '46.2', '21.4', '23.8', '44.77', '32.12', '29.1',\n",
       "       '37.29', '43.12', '36.86', '34.295', '23.465', '45.43', '23.65',\n",
       "       '20.7', '28.27', '35.91', '29', '19.57', '31.13', '21.85', '40.26',\n",
       "       '33.725', '29.48', '32.6', '37.525', '23.655', '37.8', '19',\n",
       "       '21.3', '33.535', '42.46', '38.95', '36.1', '29.3', '39.7',\n",
       "       '38.19', '42.4', '34.96', '42.68', '31.54', '29.81', '21.375',\n",
       "       '40.81', '17.4', '20.3', '18.5', '26.125', '41.69', '24.1', '36.2',\n",
       "       '40.185', '39.27', '34.87', '44.745', '29.545', '23.54', '40.47',\n",
       "       '40.66', '36.6', '35.4', '27.075', nan, '28.405', '21.755',\n",
       "       '40.28', '30.1', '32.1', '23.7', '35.5', '29.15', '27', '37.905',\n",
       "       '22.77', '22.8', '34.58', '27.1', '19.475', '26.7', '34.32',\n",
       "       '24.4', '41.14', '22.515', '41.8', '26.18', '42.24', '26.51',\n",
       "       '35.815', '41.42', '36.575', '42.94', '21.01', '24.225', '17.67',\n",
       "       '31.5', '31.1', '32.78', '32.45', '50.38', '47.6', '25.4', '29.9',\n",
       "       '43.7', '24.86', '28.8', '29.5', '29.04', '38.94', '44', '20.045',\n",
       "       '40.92', '35.1', '29.355', '32.585', '32.34', '39.8', '24.605',\n",
       "       '33.99', '28.2', '25', '33.2', '23.2', '20.1', '32.5', '37.18',\n",
       "       '46.09', '39.93', '35.8', '31.255', '18.335', '42.9', '0',\n",
       "       '39.615', '25.9', '25.745', '28.16', '23.56', '40.5', '35.42',\n",
       "       '39.995', '34.675', '20.52', '23.275', '36.29', '32.7', '19.19',\n",
       "       '20.13', '23.32', '45.32', '34.6', '18.715', '21.565', '23',\n",
       "       '37.07', '52.58', '42.655', '21.66', '32', '18.3', '47.74', '22.1',\n",
       "       '19.095', '31.24', '29.925', '20.35', '25.85', '42.75', '18.6',\n",
       "       '23.87', '45.9', '%', '21.5', '30.305', '44.88', '41.1', '40.37',\n",
       "       '33.55', '40.375', '27.28', '17.86', '33.3', '39.14', '21.945',\n",
       "       '24.97', '23.94', '34.485', '21.8', '23.3', '36.96', '21.28',\n",
       "       '29.4', '27.3', '37.9', '37.715', '23.76', '25.52', '27.61',\n",
       "       '27.06', '26.79', '39.4', '34.9', '22', '30.36', '27.8', '53.13',\n",
       "       '39.71', '32.87', '30.97'], dtype=object)"
      ]
     },
     "execution_count": 39,
     "metadata": {},
     "output_type": "execute_result"
    }
   ],
   "source": [
    "data['bmi'].unique()"
   ]
  },
  {
   "cell_type": "code",
   "execution_count": 40,
   "id": "d121db11",
   "metadata": {},
   "outputs": [],
   "source": [
    "data.drop([1138], axis = 0, inplace = True)"
   ]
  },
  {
   "cell_type": "code",
   "execution_count": 41,
   "id": "db1c20e1",
   "metadata": {},
   "outputs": [],
   "source": [
    "data['bmi'] = data['bmi'].astype(float, copy = True)"
   ]
  },
  {
   "cell_type": "code",
   "execution_count": 42,
   "id": "b8f82ffd",
   "metadata": {},
   "outputs": [
    {
     "data": {
      "text/plain": [
       "array([ 0.,  1.,  3.,  2.,  5.,  4., nan])"
      ]
     },
     "execution_count": 42,
     "metadata": {},
     "output_type": "execute_result"
    }
   ],
   "source": [
    "data['children'].unique()"
   ]
  },
  {
   "cell_type": "code",
   "execution_count": 47,
   "id": "5aa91f38",
   "metadata": {},
   "outputs": [
    {
     "data": {
      "text/plain": [
       "array(['yes', 'no'], dtype=object)"
      ]
     },
     "execution_count": 47,
     "metadata": {},
     "output_type": "execute_result"
    }
   ],
   "source": [
    "data['smoker'].unique()"
   ]
  },
  {
   "cell_type": "code",
   "execution_count": 44,
   "id": "46d47a21",
   "metadata": {},
   "outputs": [
    {
     "data": {
      "text/html": [
       "<div>\n",
       "<style scoped>\n",
       "    .dataframe tbody tr th:only-of-type {\n",
       "        vertical-align: middle;\n",
       "    }\n",
       "\n",
       "    .dataframe tbody tr th {\n",
       "        vertical-align: top;\n",
       "    }\n",
       "\n",
       "    .dataframe thead th {\n",
       "        text-align: right;\n",
       "    }\n",
       "</style>\n",
       "<table border=\"1\" class=\"dataframe\">\n",
       "  <thead>\n",
       "    <tr style=\"text-align: right;\">\n",
       "      <th></th>\n",
       "      <th>age</th>\n",
       "      <th>sex</th>\n",
       "      <th>bmi</th>\n",
       "      <th>children</th>\n",
       "      <th>smoker</th>\n",
       "      <th>region</th>\n",
       "      <th>charges</th>\n",
       "    </tr>\n",
       "  </thead>\n",
       "  <tbody>\n",
       "    <tr>\n",
       "      <th>818</th>\n",
       "      <td>47</td>\n",
       "      <td>female</td>\n",
       "      <td>26.125</td>\n",
       "      <td>1.0</td>\n",
       "      <td>0</td>\n",
       "      <td>northeast</td>\n",
       "      <td>23401.30575$</td>\n",
       "    </tr>\n",
       "  </tbody>\n",
       "</table>\n",
       "</div>"
      ],
      "text/plain": [
       "    age     sex     bmi  children smoker     region       charges\n",
       "818  47  female  26.125       1.0      0  northeast  23401.30575$"
      ]
     },
     "execution_count": 44,
     "metadata": {},
     "output_type": "execute_result"
    }
   ],
   "source": [
    "data[data['smoker'] == '0']"
   ]
  },
  {
   "cell_type": "code",
   "execution_count": 45,
   "id": "a25609c4",
   "metadata": {},
   "outputs": [],
   "source": [
    "data.drop([650], axis = 0, inplace = True)"
   ]
  },
  {
   "cell_type": "code",
   "execution_count": 46,
   "id": "657e2079",
   "metadata": {},
   "outputs": [],
   "source": [
    "data.drop([818], axis = 0, inplace = True)"
   ]
  },
  {
   "cell_type": "code",
   "execution_count": 48,
   "id": "aa204223",
   "metadata": {
    "scrolled": true
   },
   "outputs": [
    {
     "data": {
      "text/plain": [
       "array(['southwest', 'southeast', 'northwest', 'northeast', '\" \"'],\n",
       "      dtype=object)"
      ]
     },
     "execution_count": 48,
     "metadata": {},
     "output_type": "execute_result"
    }
   ],
   "source": [
    "data['region'].unique()"
   ]
  },
  {
   "cell_type": "code",
   "execution_count": 49,
   "id": "4bbc9c89",
   "metadata": {},
   "outputs": [
    {
     "data": {
      "text/html": [
       "<div>\n",
       "<style scoped>\n",
       "    .dataframe tbody tr th:only-of-type {\n",
       "        vertical-align: middle;\n",
       "    }\n",
       "\n",
       "    .dataframe tbody tr th {\n",
       "        vertical-align: top;\n",
       "    }\n",
       "\n",
       "    .dataframe thead th {\n",
       "        text-align: right;\n",
       "    }\n",
       "</style>\n",
       "<table border=\"1\" class=\"dataframe\">\n",
       "  <thead>\n",
       "    <tr style=\"text-align: right;\">\n",
       "      <th></th>\n",
       "      <th>age</th>\n",
       "      <th>sex</th>\n",
       "      <th>bmi</th>\n",
       "      <th>children</th>\n",
       "      <th>smoker</th>\n",
       "      <th>region</th>\n",
       "      <th>charges</th>\n",
       "    </tr>\n",
       "  </thead>\n",
       "  <tbody>\n",
       "    <tr>\n",
       "      <th>1188</th>\n",
       "      <td>43</td>\n",
       "      <td>female</td>\n",
       "      <td>25.270</td>\n",
       "      <td>1.0</td>\n",
       "      <td>yes</td>\n",
       "      <td>\" \"</td>\n",
       "      <td>21771.3423$</td>\n",
       "    </tr>\n",
       "    <tr>\n",
       "      <th>1323</th>\n",
       "      <td>42</td>\n",
       "      <td>female</td>\n",
       "      <td>40.370</td>\n",
       "      <td>2.0</td>\n",
       "      <td>yes</td>\n",
       "      <td>\" \"</td>\n",
       "      <td>43896.3763$</td>\n",
       "    </tr>\n",
       "    <tr>\n",
       "      <th>1348</th>\n",
       "      <td>22</td>\n",
       "      <td>female</td>\n",
       "      <td>23.845</td>\n",
       "      <td>0.0</td>\n",
       "      <td>no</td>\n",
       "      <td>\" \"</td>\n",
       "      <td>4433.9159$</td>\n",
       "    </tr>\n",
       "  </tbody>\n",
       "</table>\n",
       "</div>"
      ],
      "text/plain": [
       "     age     sex     bmi  children smoker region      charges\n",
       "1188  43  female  25.270       1.0    yes    \" \"  21771.3423$\n",
       "1323  42  female  40.370       2.0    yes    \" \"  43896.3763$\n",
       "1348  22  female  23.845       0.0     no    \" \"   4433.9159$"
      ]
     },
     "execution_count": 49,
     "metadata": {},
     "output_type": "execute_result"
    }
   ],
   "source": [
    "data[data['region'] == '\" \"']"
   ]
  },
  {
   "cell_type": "code",
   "execution_count": 50,
   "id": "ebd71095",
   "metadata": {},
   "outputs": [],
   "source": [
    "data.drop([1188], axis = 0, inplace = True)"
   ]
  },
  {
   "cell_type": "code",
   "execution_count": 51,
   "id": "c0c07d50",
   "metadata": {},
   "outputs": [],
   "source": [
    "data.drop([1348], axis = 0, inplace = True)"
   ]
  },
  {
   "cell_type": "code",
   "execution_count": 52,
   "id": "89ae5400",
   "metadata": {},
   "outputs": [
    {
     "data": {
      "text/plain": [
       "array(['southwest', 'southeast', 'northwest', 'northeast', '\" \"'],\n",
       "      dtype=object)"
      ]
     },
     "execution_count": 52,
     "metadata": {},
     "output_type": "execute_result"
    }
   ],
   "source": [
    "data['region'].unique()"
   ]
  },
  {
   "cell_type": "code",
   "execution_count": 53,
   "id": "c2413a58",
   "metadata": {},
   "outputs": [
    {
     "data": {
      "text/plain": [
       "array(['16884.924$', '1725.5523$', '4449.462$', ..., '18328.2381$',\n",
       "       '21771.3423$', '9800.8882$'], dtype=object)"
      ]
     },
     "execution_count": 53,
     "metadata": {},
     "output_type": "execute_result"
    }
   ],
   "source": [
    "data['charges'].unique()"
   ]
  },
  {
   "cell_type": "markdown",
   "id": "c23980e6",
   "metadata": {},
   "source": [
    "### a. Handle the missing values and noise values"
   ]
  },
  {
   "cell_type": "code",
   "execution_count": 54,
   "id": "70839840",
   "metadata": {
    "scrolled": true
   },
   "outputs": [
    {
     "data": {
      "text/plain": [
       "age          0\n",
       "sex          0\n",
       "bmi          1\n",
       "children    21\n",
       "smoker       0\n",
       "region       0\n",
       "charges      0\n",
       "dtype: int64"
      ]
     },
     "execution_count": 54,
     "metadata": {},
     "output_type": "execute_result"
    }
   ],
   "source": [
    "data.isnull().sum()"
   ]
  },
  {
   "cell_type": "code",
   "execution_count": 55,
   "id": "81ac265d",
   "metadata": {},
   "outputs": [],
   "source": [
    "data.fillna(0, inplace = True)"
   ]
  },
  {
   "cell_type": "code",
   "execution_count": 56,
   "id": "cde8c88a",
   "metadata": {},
   "outputs": [],
   "source": [
    "data['age'] = data['age'].astype(int, copy = True)"
   ]
  },
  {
   "cell_type": "code",
   "execution_count": 57,
   "id": "502771cb",
   "metadata": {},
   "outputs": [],
   "source": [
    "data['bmi'] = data['bmi'].astype(float, copy = True)"
   ]
  },
  {
   "cell_type": "code",
   "execution_count": 58,
   "id": "d4c18374",
   "metadata": {},
   "outputs": [
    {
     "data": {
      "text/plain": [
       "<bound method DataFrame.drop of Empty DataFrame\n",
       "Columns: [age, sex, bmi, children, smoker, region, charges]\n",
       "Index: []>"
      ]
     },
     "execution_count": 58,
     "metadata": {},
     "output_type": "execute_result"
    }
   ],
   "source": [
    "data[data['charges'] == ''].drop"
   ]
  },
  {
   "cell_type": "code",
   "execution_count": 59,
   "id": "d1f2e556",
   "metadata": {
    "scrolled": true
   },
   "outputs": [],
   "source": [
    "data.drop([232], axis =0, inplace = True)"
   ]
  },
  {
   "cell_type": "code",
   "execution_count": 60,
   "id": "56314697",
   "metadata": {},
   "outputs": [],
   "source": [
    "data.drop([316], axis =0, inplace = True)"
   ]
  },
  {
   "cell_type": "code",
   "execution_count": 61,
   "id": "a348a381",
   "metadata": {},
   "outputs": [],
   "source": [
    "data.drop([411], axis =0, inplace = True)"
   ]
  },
  {
   "cell_type": "code",
   "execution_count": 62,
   "id": "d32c8b6e",
   "metadata": {},
   "outputs": [],
   "source": [
    "data.drop([492], axis =0, inplace = True)"
   ]
  },
  {
   "cell_type": "code",
   "execution_count": 63,
   "id": "a53bec2c",
   "metadata": {},
   "outputs": [],
   "source": [
    "data.drop([578], axis =0, inplace = True)"
   ]
  },
  {
   "cell_type": "code",
   "execution_count": 64,
   "id": "fa92337d",
   "metadata": {},
   "outputs": [
    {
     "name": "stderr",
     "output_type": "stream",
     "text": [
      "C:\\Users\\singh\\AppData\\Local\\Temp\\ipykernel_4452\\2371857045.py:1: FutureWarning: The default value of regex will change from True to False in a future version. In addition, single character regular expressions will *not* be treated as literal strings when regex=True.\n",
      "  data['charges'] = data['charges'].str.replace('$', '')\n"
     ]
    }
   ],
   "source": [
    "data['charges'] = data['charges'].str.replace('$', '')"
   ]
  },
  {
   "cell_type": "code",
   "execution_count": 65,
   "id": "38713f41",
   "metadata": {
    "scrolled": true
   },
   "outputs": [],
   "source": [
    "data.drop([1328], axis =0, inplace = True)"
   ]
  },
  {
   "cell_type": "code",
   "execution_count": 66,
   "id": "a036f0d6",
   "metadata": {
    "scrolled": true
   },
   "outputs": [],
   "source": [
    "data.drop([409], axis =0, inplace = True)"
   ]
  },
  {
   "cell_type": "code",
   "execution_count": 67,
   "id": "4606e368",
   "metadata": {},
   "outputs": [],
   "source": [
    "data.drop([529], axis =0, inplace = True)"
   ]
  },
  {
   "cell_type": "code",
   "execution_count": 68,
   "id": "c2254b47",
   "metadata": {
    "scrolled": true
   },
   "outputs": [
    {
     "data": {
      "text/plain": [
       "array(['16884.924', '1725.5523', '4449.462', ..., '18328.2381',\n",
       "       '21771.3423', '9800.8882'], dtype=object)"
      ]
     },
     "execution_count": 68,
     "metadata": {},
     "output_type": "execute_result"
    }
   ],
   "source": [
    "data['charges'].unique()"
   ]
  },
  {
   "cell_type": "code",
   "execution_count": 69,
   "id": "314e747a",
   "metadata": {},
   "outputs": [],
   "source": [
    "data['charges'] = data['charges'].astype(float, copy = True)"
   ]
  },
  {
   "cell_type": "code",
   "execution_count": 70,
   "id": "5626ada0",
   "metadata": {},
   "outputs": [
    {
     "name": "stdout",
     "output_type": "stream",
     "text": [
      "<class 'pandas.core.frame.DataFrame'>\n",
      "Int64Index: 1547 entries, 0 to 1562\n",
      "Data columns (total 7 columns):\n",
      " #   Column    Non-Null Count  Dtype  \n",
      "---  ------    --------------  -----  \n",
      " 0   age       1547 non-null   int32  \n",
      " 1   sex       1547 non-null   object \n",
      " 2   bmi       1547 non-null   float64\n",
      " 3   children  1547 non-null   float64\n",
      " 4   smoker    1547 non-null   object \n",
      " 5   region    1547 non-null   object \n",
      " 6   charges   1547 non-null   float64\n",
      "dtypes: float64(3), int32(1), object(3)\n",
      "memory usage: 90.6+ KB\n"
     ]
    }
   ],
   "source": [
    "data.info()"
   ]
  },
  {
   "cell_type": "code",
   "execution_count": 71,
   "id": "7cc55556",
   "metadata": {},
   "outputs": [
    {
     "data": {
      "text/plain": [
       "<AxesSubplot:ylabel='children'>"
      ]
     },
     "execution_count": 71,
     "metadata": {},
     "output_type": "execute_result"
    },
    {
     "data": {
      "image/png": "[encoded data removed]",
      "text/plain": [
       "<Figure size 432x288 with 1 Axes>"
      ]
     },
     "metadata": {
      "needs_background": "light"
     },
     "output_type": "display_data"
    }
   ],
   "source": [
    "sns.boxplot(y = data['children'], data = data)"
   ]
  },
  {
   "cell_type": "code",
   "execution_count": 72,
   "id": "a5af5038",
   "metadata": {},
   "outputs": [
    {
     "data": {
      "text/plain": [
       "<AxesSubplot:ylabel='age'>"
      ]
     },
     "execution_count": 72,
     "metadata": {},
     "output_type": "execute_result"
    },
    {
     "data": {
      "image/png": "[encoded data removed]",
      "text/plain": [
       "<Figure size 432x288 with 1 Axes>"
      ]
     },
     "metadata": {
      "needs_background": "light"
     },
     "output_type": "display_data"
    }
   ],
   "source": [
    "sns.boxplot(y = data['age'], data = data)"
   ]
  },
  {
   "cell_type": "code",
   "execution_count": 73,
   "id": "663e7555",
   "metadata": {},
   "outputs": [
    {
     "data": {
      "text/plain": [
       "<AxesSubplot:ylabel='bmi'>"
      ]
     },
     "execution_count": 73,
     "metadata": {},
     "output_type": "execute_result"
    },
    {
     "data": {
      "image/png": "[encoded data removed]",
      "text/plain": [
       "<Figure size 432x288 with 1 Axes>"
      ]
     },
     "metadata": {
      "needs_background": "light"
     },
     "output_type": "display_data"
    }
   ],
   "source": [
    "sns.boxplot(y = data['bmi'], data = data)"
   ]
  },
  {
   "cell_type": "code",
   "execution_count": 74,
   "id": "a598e3be",
   "metadata": {},
   "outputs": [],
   "source": [
    "percentile25=data['bmi'].quantile(0.25)\n",
    "percentile75=data['bmi'].quantile(0.75)"
   ]
  },
  {
   "cell_type": "code",
   "execution_count": 75,
   "id": "fe5f7e7b",
   "metadata": {},
   "outputs": [],
   "source": [
    "iqr=percentile75-percentile25"
   ]
  },
  {
   "cell_type": "code",
   "execution_count": 76,
   "id": "c2003f2a",
   "metadata": {},
   "outputs": [],
   "source": [
    "upper_limit=percentile75+(1.5*iqr)\n",
    "lower_limit=percentile25-(1.5*iqr)"
   ]
  },
  {
   "cell_type": "code",
   "execution_count": 77,
   "id": "60c62a0f",
   "metadata": {},
   "outputs": [],
   "source": [
    "data=data[(data['bmi']<upper_limit) & (data['bmi']>lower_limit)]"
   ]
  },
  {
   "cell_type": "code",
   "execution_count": 78,
   "id": "6f76d364",
   "metadata": {},
   "outputs": [
    {
     "data": {
      "text/plain": [
       "<AxesSubplot:ylabel='charges'>"
      ]
     },
     "execution_count": 78,
     "metadata": {},
     "output_type": "execute_result"
    },
    {
     "data": {
      "image/png": "[encoded data removed]",
      "text/plain": [
       "<Figure size 432x288 with 1 Axes>"
      ]
     },
     "metadata": {
      "needs_background": "light"
     },
     "output_type": "display_data"
    }
   ],
   "source": [
    "sns.boxplot(y = data['charges'], data = data)"
   ]
  },
  {
   "cell_type": "code",
   "execution_count": 79,
   "id": "8a237264",
   "metadata": {},
   "outputs": [],
   "source": [
    "p25 = data['charges'].quantile(0.25)\n",
    "p75 = data['charges'].quantile(.75)"
   ]
  },
  {
   "cell_type": "code",
   "execution_count": 80,
   "id": "5537d6a7",
   "metadata": {},
   "outputs": [],
   "source": [
    "iq = p75-p25"
   ]
  },
  {
   "cell_type": "code",
   "execution_count": 81,
   "id": "12a91cd7",
   "metadata": {},
   "outputs": [],
   "source": [
    "upperlimit=p75+(1.5*iq)\n",
    "lowerlimit=p25-(1.5*iq)"
   ]
  },
  {
   "cell_type": "code",
   "execution_count": 82,
   "id": "5999d027",
   "metadata": {},
   "outputs": [],
   "source": [
    "data=data[(data['charges']<upperlimit) & (data['charges']>lowerlimit)]"
   ]
  },
  {
   "cell_type": "code",
   "execution_count": 83,
   "id": "c3510a3b",
   "metadata": {
    "scrolled": true
   },
   "outputs": [
    {
     "data": {
      "text/plain": [
       "<seaborn.axisgrid.PairGrid at 0x13c8b5ddf10>"
      ]
     },
     "execution_count": 83,
     "metadata": {},
     "output_type": "execute_result"
    },
    {
     "data": {
      "image/png": "[encoded data removed]",
      "text/plain": [
       "<Figure size 720x720 with 20 Axes>"
      ]
     },
     "metadata": {
      "needs_background": "light"
     },
     "output_type": "display_data"
    }
   ],
   "source": [
    "sns.pairplot(data)"
   ]
  },
  {
   "cell_type": "code",
   "execution_count": 84,
   "id": "8f964499",
   "metadata": {},
   "outputs": [
    {
     "data": {
      "text/html": [
       "<div>\n",
       "<style scoped>\n",
       "    .dataframe tbody tr th:only-of-type {\n",
       "        vertical-align: middle;\n",
       "    }\n",
       "\n",
       "    .dataframe tbody tr th {\n",
       "        vertical-align: top;\n",
       "    }\n",
       "\n",
       "    .dataframe thead th {\n",
       "        text-align: right;\n",
       "    }\n",
       "</style>\n",
       "<table border=\"1\" class=\"dataframe\">\n",
       "  <thead>\n",
       "    <tr style=\"text-align: right;\">\n",
       "      <th></th>\n",
       "      <th>age</th>\n",
       "      <th>bmi</th>\n",
       "      <th>children</th>\n",
       "      <th>charges</th>\n",
       "    </tr>\n",
       "  </thead>\n",
       "  <tbody>\n",
       "    <tr>\n",
       "      <th>age</th>\n",
       "      <td>1.000000</td>\n",
       "      <td>0.103971</td>\n",
       "      <td>0.035758</td>\n",
       "      <td>0.394358</td>\n",
       "    </tr>\n",
       "    <tr>\n",
       "      <th>bmi</th>\n",
       "      <td>0.103971</td>\n",
       "      <td>1.000000</td>\n",
       "      <td>0.011331</td>\n",
       "      <td>-0.041457</td>\n",
       "    </tr>\n",
       "    <tr>\n",
       "      <th>children</th>\n",
       "      <td>0.035758</td>\n",
       "      <td>0.011331</td>\n",
       "      <td>1.000000</td>\n",
       "      <td>0.094897</td>\n",
       "    </tr>\n",
       "    <tr>\n",
       "      <th>charges</th>\n",
       "      <td>0.394358</td>\n",
       "      <td>-0.041457</td>\n",
       "      <td>0.094897</td>\n",
       "      <td>1.000000</td>\n",
       "    </tr>\n",
       "  </tbody>\n",
       "</table>\n",
       "</div>"
      ],
      "text/plain": [
       "               age       bmi  children   charges\n",
       "age       1.000000  0.103971  0.035758  0.394358\n",
       "bmi       0.103971  1.000000  0.011331 -0.041457\n",
       "children  0.035758  0.011331  1.000000  0.094897\n",
       "charges   0.394358 -0.041457  0.094897  1.000000"
      ]
     },
     "execution_count": 84,
     "metadata": {},
     "output_type": "execute_result"
    }
   ],
   "source": [
    "data.corr()"
   ]
  },
  {
   "cell_type": "code",
   "execution_count": 85,
   "id": "db54136c",
   "metadata": {},
   "outputs": [
    {
     "data": {
      "text/plain": [
       "<AxesSubplot:>"
      ]
     },
     "execution_count": 85,
     "metadata": {},
     "output_type": "execute_result"
    },
    {
     "data": {
      "image/png": "[encoded data removed]",
      "text/plain": [
       "<Figure size 432x288 with 2 Axes>"
      ]
     },
     "metadata": {
      "needs_background": "light"
     },
     "output_type": "display_data"
    }
   ],
   "source": [
    "sns.heatmap(data.corr(), annot = True)"
   ]
  },
  {
   "cell_type": "code",
   "execution_count": 86,
   "id": "88e85352",
   "metadata": {
    "scrolled": true
   },
   "outputs": [
    {
     "data": {
      "text/html": [
       "<div>\n",
       "<style scoped>\n",
       "    .dataframe tbody tr th:only-of-type {\n",
       "        vertical-align: middle;\n",
       "    }\n",
       "\n",
       "    .dataframe tbody tr th {\n",
       "        vertical-align: top;\n",
       "    }\n",
       "\n",
       "    .dataframe thead th {\n",
       "        text-align: right;\n",
       "    }\n",
       "</style>\n",
       "<table border=\"1\" class=\"dataframe\">\n",
       "  <thead>\n",
       "    <tr style=\"text-align: right;\">\n",
       "      <th></th>\n",
       "      <th>age</th>\n",
       "      <th>bmi</th>\n",
       "      <th>children</th>\n",
       "      <th>charges</th>\n",
       "    </tr>\n",
       "  </thead>\n",
       "  <tbody>\n",
       "    <tr>\n",
       "      <th>count</th>\n",
       "      <td>1369.000000</td>\n",
       "      <td>1369.000000</td>\n",
       "      <td>1369.000000</td>\n",
       "      <td>1369.000000</td>\n",
       "    </tr>\n",
       "    <tr>\n",
       "      <th>mean</th>\n",
       "      <td>39.105186</td>\n",
       "      <td>30.110091</td>\n",
       "      <td>1.083272</td>\n",
       "      <td>9748.327461</td>\n",
       "    </tr>\n",
       "    <tr>\n",
       "      <th>std</th>\n",
       "      <td>14.141176</td>\n",
       "      <td>5.861081</td>\n",
       "      <td>1.212902</td>\n",
       "      <td>6999.471755</td>\n",
       "    </tr>\n",
       "    <tr>\n",
       "      <th>min</th>\n",
       "      <td>18.000000</td>\n",
       "      <td>15.960000</td>\n",
       "      <td>0.000000</td>\n",
       "      <td>1121.873900</td>\n",
       "    </tr>\n",
       "    <tr>\n",
       "      <th>25%</th>\n",
       "      <td>26.000000</td>\n",
       "      <td>25.840000</td>\n",
       "      <td>0.000000</td>\n",
       "      <td>4433.915900</td>\n",
       "    </tr>\n",
       "    <tr>\n",
       "      <th>50%</th>\n",
       "      <td>39.000000</td>\n",
       "      <td>29.800000</td>\n",
       "      <td>1.000000</td>\n",
       "      <td>8280.622700</td>\n",
       "    </tr>\n",
       "    <tr>\n",
       "      <th>75%</th>\n",
       "      <td>51.000000</td>\n",
       "      <td>34.100000</td>\n",
       "      <td>2.000000</td>\n",
       "      <td>12741.167450</td>\n",
       "    </tr>\n",
       "    <tr>\n",
       "      <th>max</th>\n",
       "      <td>64.000000</td>\n",
       "      <td>46.750000</td>\n",
       "      <td>5.000000</td>\n",
       "      <td>33750.291800</td>\n",
       "    </tr>\n",
       "  </tbody>\n",
       "</table>\n",
       "</div>"
      ],
      "text/plain": [
       "               age          bmi     children       charges\n",
       "count  1369.000000  1369.000000  1369.000000   1369.000000\n",
       "mean     39.105186    30.110091     1.083272   9748.327461\n",
       "std      14.141176     5.861081     1.212902   6999.471755\n",
       "min      18.000000    15.960000     0.000000   1121.873900\n",
       "25%      26.000000    25.840000     0.000000   4433.915900\n",
       "50%      39.000000    29.800000     1.000000   8280.622700\n",
       "75%      51.000000    34.100000     2.000000  12741.167450\n",
       "max      64.000000    46.750000     5.000000  33750.291800"
      ]
     },
     "execution_count": 86,
     "metadata": {},
     "output_type": "execute_result"
    }
   ],
   "source": [
    "data.describe()"
   ]
  },
  {
   "cell_type": "code",
   "execution_count": 87,
   "id": "f4513517",
   "metadata": {},
   "outputs": [
    {
     "data": {
      "text/html": [
       "<div>\n",
       "<style scoped>\n",
       "    .dataframe tbody tr th:only-of-type {\n",
       "        vertical-align: middle;\n",
       "    }\n",
       "\n",
       "    .dataframe tbody tr th {\n",
       "        vertical-align: top;\n",
       "    }\n",
       "\n",
       "    .dataframe thead th {\n",
       "        text-align: right;\n",
       "    }\n",
       "</style>\n",
       "<table border=\"1\" class=\"dataframe\">\n",
       "  <thead>\n",
       "    <tr style=\"text-align: right;\">\n",
       "      <th></th>\n",
       "      <th>age</th>\n",
       "      <th>sex</th>\n",
       "      <th>bmi</th>\n",
       "      <th>children</th>\n",
       "      <th>smoker</th>\n",
       "      <th>region</th>\n",
       "      <th>charges</th>\n",
       "    </tr>\n",
       "  </thead>\n",
       "  <tbody>\n",
       "    <tr>\n",
       "      <th>0</th>\n",
       "      <td>19</td>\n",
       "      <td>female</td>\n",
       "      <td>27.900</td>\n",
       "      <td>0.0</td>\n",
       "      <td>yes</td>\n",
       "      <td>southwest</td>\n",
       "      <td>16884.92400</td>\n",
       "    </tr>\n",
       "    <tr>\n",
       "      <th>1</th>\n",
       "      <td>18</td>\n",
       "      <td>male</td>\n",
       "      <td>33.770</td>\n",
       "      <td>1.0</td>\n",
       "      <td>no</td>\n",
       "      <td>southeast</td>\n",
       "      <td>1725.55230</td>\n",
       "    </tr>\n",
       "    <tr>\n",
       "      <th>2</th>\n",
       "      <td>28</td>\n",
       "      <td>male</td>\n",
       "      <td>33.000</td>\n",
       "      <td>3.0</td>\n",
       "      <td>no</td>\n",
       "      <td>southeast</td>\n",
       "      <td>4449.46200</td>\n",
       "    </tr>\n",
       "    <tr>\n",
       "      <th>3</th>\n",
       "      <td>33</td>\n",
       "      <td>male</td>\n",
       "      <td>22.705</td>\n",
       "      <td>0.0</td>\n",
       "      <td>no</td>\n",
       "      <td>northwest</td>\n",
       "      <td>21984.47061</td>\n",
       "    </tr>\n",
       "    <tr>\n",
       "      <th>4</th>\n",
       "      <td>32</td>\n",
       "      <td>male</td>\n",
       "      <td>28.880</td>\n",
       "      <td>0.0</td>\n",
       "      <td>no</td>\n",
       "      <td>northwest</td>\n",
       "      <td>3866.85520</td>\n",
       "    </tr>\n",
       "    <tr>\n",
       "      <th>...</th>\n",
       "      <td>...</td>\n",
       "      <td>...</td>\n",
       "      <td>...</td>\n",
       "      <td>...</td>\n",
       "      <td>...</td>\n",
       "      <td>...</td>\n",
       "      <td>...</td>\n",
       "    </tr>\n",
       "    <tr>\n",
       "      <th>1558</th>\n",
       "      <td>42</td>\n",
       "      <td>male</td>\n",
       "      <td>20.300</td>\n",
       "      <td>0.0</td>\n",
       "      <td>no</td>\n",
       "      <td>southwest</td>\n",
       "      <td>1984.45330</td>\n",
       "    </tr>\n",
       "    <tr>\n",
       "      <th>1559</th>\n",
       "      <td>48</td>\n",
       "      <td>male</td>\n",
       "      <td>35.300</td>\n",
       "      <td>0.0</td>\n",
       "      <td>no</td>\n",
       "      <td>southwest</td>\n",
       "      <td>2457.50200</td>\n",
       "    </tr>\n",
       "    <tr>\n",
       "      <th>1560</th>\n",
       "      <td>39</td>\n",
       "      <td>male</td>\n",
       "      <td>24.320</td>\n",
       "      <td>0.0</td>\n",
       "      <td>no</td>\n",
       "      <td>southeast</td>\n",
       "      <td>12146.97100</td>\n",
       "    </tr>\n",
       "    <tr>\n",
       "      <th>1561</th>\n",
       "      <td>63</td>\n",
       "      <td>male</td>\n",
       "      <td>18.500</td>\n",
       "      <td>0.0</td>\n",
       "      <td>no</td>\n",
       "      <td>southwest</td>\n",
       "      <td>9566.99090</td>\n",
       "    </tr>\n",
       "    <tr>\n",
       "      <th>1562</th>\n",
       "      <td>54</td>\n",
       "      <td>female</td>\n",
       "      <td>26.410</td>\n",
       "      <td>0.0</td>\n",
       "      <td>no</td>\n",
       "      <td>northeast</td>\n",
       "      <td>13112.60480</td>\n",
       "    </tr>\n",
       "  </tbody>\n",
       "</table>\n",
       "<p>1369 rows × 7 columns</p>\n",
       "</div>"
      ],
      "text/plain": [
       "      age     sex     bmi  children smoker     region      charges\n",
       "0      19  female  27.900       0.0    yes  southwest  16884.92400\n",
       "1      18    male  33.770       1.0     no  southeast   1725.55230\n",
       "2      28    male  33.000       3.0     no  southeast   4449.46200\n",
       "3      33    male  22.705       0.0     no  northwest  21984.47061\n",
       "4      32    male  28.880       0.0     no  northwest   3866.85520\n",
       "...   ...     ...     ...       ...    ...        ...          ...\n",
       "1558   42    male  20.300       0.0     no  southwest   1984.45330\n",
       "1559   48    male  35.300       0.0     no  southwest   2457.50200\n",
       "1560   39    male  24.320       0.0     no  southeast  12146.97100\n",
       "1561   63    male  18.500       0.0     no  southwest   9566.99090\n",
       "1562   54  female  26.410       0.0     no  northeast  13112.60480\n",
       "\n",
       "[1369 rows x 7 columns]"
      ]
     },
     "execution_count": 87,
     "metadata": {},
     "output_type": "execute_result"
    }
   ],
   "source": [
    "data"
   ]
  },
  {
   "cell_type": "code",
   "execution_count": 88,
   "id": "68ee7a78",
   "metadata": {},
   "outputs": [],
   "source": [
    "x = data[['age','bmi','children','charges']]"
   ]
  },
  {
   "cell_type": "code",
   "execution_count": 104,
   "id": "fd098f31",
   "metadata": {
    "scrolled": false
   },
   "outputs": [
    {
     "data": {
      "text/plain": [
       "(1369, 6)"
      ]
     },
     "execution_count": 104,
     "metadata": {},
     "output_type": "execute_result"
    }
   ],
   "source": [
    "X.shape"
   ]
  },
  {
   "cell_type": "code",
   "execution_count": 90,
   "id": "5e7bf1e7",
   "metadata": {},
   "outputs": [],
   "source": [
    "from sklearn.linear_model import LinearRegression\n",
    "from sklearn.model_selection import train_test_split\n",
    "from sklearn import metrics\n",
    "from sklearn.preprocessing import StandardScaler\n",
    "from sklearn.preprocessing import LabelEncoder\n",
    "from sklearn.preprocessing import OneHotEncoder"
   ]
  },
  {
   "cell_type": "code",
   "execution_count": 91,
   "id": "46d479e5",
   "metadata": {},
   "outputs": [],
   "source": [
    "sc=StandardScaler()"
   ]
  },
  {
   "cell_type": "code",
   "execution_count": 92,
   "id": "94f804ee",
   "metadata": {},
   "outputs": [],
   "source": [
    "x=sc.fit_transform(x)"
   ]
  },
  {
   "cell_type": "code",
   "execution_count": 93,
   "id": "35b9df54",
   "metadata": {},
   "outputs": [],
   "source": [
    "le=LabelEncoder()"
   ]
  },
  {
   "cell_type": "code",
   "execution_count": 94,
   "id": "ce7fe771",
   "metadata": {},
   "outputs": [],
   "source": [
    "data['sex']=le.fit_transform(data['sex'])"
   ]
  },
  {
   "cell_type": "code",
   "execution_count": 95,
   "id": "cd03f978",
   "metadata": {},
   "outputs": [],
   "source": [
    "data['smoker']=le.fit_transform(data['smoker'])"
   ]
  },
  {
   "cell_type": "code",
   "execution_count": 96,
   "id": "a9f9d613",
   "metadata": {},
   "outputs": [],
   "source": [
    "data['region']=le.fit_transform(data['region'])"
   ]
  },
  {
   "cell_type": "code",
   "execution_count": 97,
   "id": "1cddea68",
   "metadata": {},
   "outputs": [
    {
     "data": {
      "text/html": [
       "<div>\n",
       "<style scoped>\n",
       "    .dataframe tbody tr th:only-of-type {\n",
       "        vertical-align: middle;\n",
       "    }\n",
       "\n",
       "    .dataframe tbody tr th {\n",
       "        vertical-align: top;\n",
       "    }\n",
       "\n",
       "    .dataframe thead th {\n",
       "        text-align: right;\n",
       "    }\n",
       "</style>\n",
       "<table border=\"1\" class=\"dataframe\">\n",
       "  <thead>\n",
       "    <tr style=\"text-align: right;\">\n",
       "      <th></th>\n",
       "      <th>age</th>\n",
       "      <th>sex</th>\n",
       "      <th>bmi</th>\n",
       "      <th>children</th>\n",
       "      <th>smoker</th>\n",
       "      <th>region</th>\n",
       "      <th>charges</th>\n",
       "    </tr>\n",
       "  </thead>\n",
       "  <tbody>\n",
       "    <tr>\n",
       "      <th>0</th>\n",
       "      <td>19</td>\n",
       "      <td>0</td>\n",
       "      <td>27.900</td>\n",
       "      <td>0.0</td>\n",
       "      <td>1</td>\n",
       "      <td>3</td>\n",
       "      <td>16884.92400</td>\n",
       "    </tr>\n",
       "    <tr>\n",
       "      <th>1</th>\n",
       "      <td>18</td>\n",
       "      <td>1</td>\n",
       "      <td>33.770</td>\n",
       "      <td>1.0</td>\n",
       "      <td>0</td>\n",
       "      <td>2</td>\n",
       "      <td>1725.55230</td>\n",
       "    </tr>\n",
       "    <tr>\n",
       "      <th>2</th>\n",
       "      <td>28</td>\n",
       "      <td>1</td>\n",
       "      <td>33.000</td>\n",
       "      <td>3.0</td>\n",
       "      <td>0</td>\n",
       "      <td>2</td>\n",
       "      <td>4449.46200</td>\n",
       "    </tr>\n",
       "    <tr>\n",
       "      <th>3</th>\n",
       "      <td>33</td>\n",
       "      <td>1</td>\n",
       "      <td>22.705</td>\n",
       "      <td>0.0</td>\n",
       "      <td>0</td>\n",
       "      <td>1</td>\n",
       "      <td>21984.47061</td>\n",
       "    </tr>\n",
       "    <tr>\n",
       "      <th>4</th>\n",
       "      <td>32</td>\n",
       "      <td>1</td>\n",
       "      <td>28.880</td>\n",
       "      <td>0.0</td>\n",
       "      <td>0</td>\n",
       "      <td>1</td>\n",
       "      <td>3866.85520</td>\n",
       "    </tr>\n",
       "    <tr>\n",
       "      <th>...</th>\n",
       "      <td>...</td>\n",
       "      <td>...</td>\n",
       "      <td>...</td>\n",
       "      <td>...</td>\n",
       "      <td>...</td>\n",
       "      <td>...</td>\n",
       "      <td>...</td>\n",
       "    </tr>\n",
       "    <tr>\n",
       "      <th>1558</th>\n",
       "      <td>42</td>\n",
       "      <td>1</td>\n",
       "      <td>20.300</td>\n",
       "      <td>0.0</td>\n",
       "      <td>0</td>\n",
       "      <td>3</td>\n",
       "      <td>1984.45330</td>\n",
       "    </tr>\n",
       "    <tr>\n",
       "      <th>1559</th>\n",
       "      <td>48</td>\n",
       "      <td>1</td>\n",
       "      <td>35.300</td>\n",
       "      <td>0.0</td>\n",
       "      <td>0</td>\n",
       "      <td>3</td>\n",
       "      <td>2457.50200</td>\n",
       "    </tr>\n",
       "    <tr>\n",
       "      <th>1560</th>\n",
       "      <td>39</td>\n",
       "      <td>1</td>\n",
       "      <td>24.320</td>\n",
       "      <td>0.0</td>\n",
       "      <td>0</td>\n",
       "      <td>2</td>\n",
       "      <td>12146.97100</td>\n",
       "    </tr>\n",
       "    <tr>\n",
       "      <th>1561</th>\n",
       "      <td>63</td>\n",
       "      <td>1</td>\n",
       "      <td>18.500</td>\n",
       "      <td>0.0</td>\n",
       "      <td>0</td>\n",
       "      <td>3</td>\n",
       "      <td>9566.99090</td>\n",
       "    </tr>\n",
       "    <tr>\n",
       "      <th>1562</th>\n",
       "      <td>54</td>\n",
       "      <td>0</td>\n",
       "      <td>26.410</td>\n",
       "      <td>0.0</td>\n",
       "      <td>0</td>\n",
       "      <td>0</td>\n",
       "      <td>13112.60480</td>\n",
       "    </tr>\n",
       "  </tbody>\n",
       "</table>\n",
       "<p>1369 rows × 7 columns</p>\n",
       "</div>"
      ],
      "text/plain": [
       "      age  sex     bmi  children  smoker  region      charges\n",
       "0      19    0  27.900       0.0       1       3  16884.92400\n",
       "1      18    1  33.770       1.0       0       2   1725.55230\n",
       "2      28    1  33.000       3.0       0       2   4449.46200\n",
       "3      33    1  22.705       0.0       0       1  21984.47061\n",
       "4      32    1  28.880       0.0       0       1   3866.85520\n",
       "...   ...  ...     ...       ...     ...     ...          ...\n",
       "1558   42    1  20.300       0.0       0       3   1984.45330\n",
       "1559   48    1  35.300       0.0       0       3   2457.50200\n",
       "1560   39    1  24.320       0.0       0       2  12146.97100\n",
       "1561   63    1  18.500       0.0       0       3   9566.99090\n",
       "1562   54    0  26.410       0.0       0       0  13112.60480\n",
       "\n",
       "[1369 rows x 7 columns]"
      ]
     },
     "execution_count": 97,
     "metadata": {},
     "output_type": "execute_result"
    }
   ],
   "source": [
    "data"
   ]
  },
  {
   "cell_type": "code",
   "execution_count": 98,
   "id": "abd7f4d1",
   "metadata": {},
   "outputs": [],
   "source": [
    "X = data.iloc[:,0:-1].values\n",
    "Y = data.iloc[:,-1].values"
   ]
  },
  {
   "cell_type": "code",
   "execution_count": 99,
   "id": "51e06827",
   "metadata": {},
   "outputs": [
    {
     "data": {
      "text/plain": [
       "array([[19.  ,  0.  , 27.9 ,  0.  ,  1.  ,  3.  ],\n",
       "       [18.  ,  1.  , 33.77,  1.  ,  0.  ,  2.  ],\n",
       "       [28.  ,  1.  , 33.  ,  3.  ,  0.  ,  2.  ],\n",
       "       ...,\n",
       "       [39.  ,  1.  , 24.32,  0.  ,  0.  ,  2.  ],\n",
       "       [63.  ,  1.  , 18.5 ,  0.  ,  0.  ,  3.  ],\n",
       "       [54.  ,  0.  , 26.41,  0.  ,  0.  ,  0.  ]])"
      ]
     },
     "execution_count": 99,
     "metadata": {},
     "output_type": "execute_result"
    }
   ],
   "source": [
    "X"
   ]
  },
  {
   "cell_type": "code",
   "execution_count": 100,
   "id": "45f72e2a",
   "metadata": {},
   "outputs": [],
   "source": [
    "X_train, X_test, Y_train, Y_test=train_test_split(X,Y,test_size=0.35,random_state=40)"
   ]
  },
  {
   "cell_type": "code",
   "execution_count": 101,
   "id": "9e033036",
   "metadata": {},
   "outputs": [],
   "source": [
    "scaler = StandardScaler()"
   ]
  },
  {
   "cell_type": "code",
   "execution_count": 102,
   "id": "597c4aa6",
   "metadata": {},
   "outputs": [],
   "source": [
    "X_train=scaler.fit_transform(X_train)"
   ]
  },
  {
   "cell_type": "code",
   "execution_count": 105,
   "id": "a86ce034",
   "metadata": {},
   "outputs": [
    {
     "data": {
      "text/plain": [
       "array([[-0.03040744,  0.97226303,  2.10505233, -0.89679549, -0.38929989,\n",
       "        -1.37812862],\n",
       "       [ 0.81655494, -1.02852825,  1.76567757, -0.89679549, -0.38929989,\n",
       "        -1.37812862],\n",
       "       [ 0.60481434, -1.02852825,  1.86264179,  2.37733671, -0.38929989,\n",
       "        -0.47727837],\n",
       "       ...,\n",
       "       [-0.17156784, -1.02852825, -0.43217801,  1.55880366, -0.38929989,\n",
       "        -0.47727837],\n",
       "       [-1.44201141,  0.97226303, -1.59574861, -0.07826244, -0.38929989,\n",
       "         1.32442214],\n",
       "       [ 0.32249355,  0.97226303, -0.26886985, -0.89679549, -0.38929989,\n",
       "        -1.37812862]])"
      ]
     },
     "execution_count": 105,
     "metadata": {},
     "output_type": "execute_result"
    }
   ],
   "source": [
    "X_train"
   ]
  },
  {
   "cell_type": "code",
   "execution_count": 106,
   "id": "d2d7a384",
   "metadata": {},
   "outputs": [],
   "source": [
    "X_test=scaler.transform(X_test)"
   ]
  },
  {
   "cell_type": "code",
   "execution_count": 107,
   "id": "95b71aea",
   "metadata": {},
   "outputs": [],
   "source": [
    "reg=LinearRegression()"
   ]
  },
  {
   "cell_type": "code",
   "execution_count": 108,
   "id": "74d7de72",
   "metadata": {},
   "outputs": [
    {
     "data": {
      "text/plain": [
       "LinearRegression()"
      ]
     },
     "execution_count": 108,
     "metadata": {},
     "output_type": "execute_result"
    }
   ],
   "source": [
    "reg.fit(X_train, Y_train)"
   ]
  },
  {
   "cell_type": "code",
   "execution_count": 109,
   "id": "1715ce59",
   "metadata": {},
   "outputs": [],
   "source": [
    "y_pred = reg.predict(X_test)"
   ]
  },
  {
   "cell_type": "code",
   "execution_count": 125,
   "id": "5a38e4ca",
   "metadata": {},
   "outputs": [],
   "source": [
    "y_train_pred = reg.predict(X_train) #for training prediction"
   ]
  },
  {
   "cell_type": "code",
   "execution_count": 123,
   "id": "c7d5bc82",
   "metadata": {},
   "outputs": [
    {
     "data": {
      "text/plain": [
       "(889,)"
      ]
     },
     "execution_count": 123,
     "metadata": {},
     "output_type": "execute_result"
    }
   ],
   "source": [
    "y_train_pred.shape"
   ]
  },
  {
   "cell_type": "code",
   "execution_count": 111,
   "id": "a64e92b6",
   "metadata": {
    "scrolled": false
   },
   "outputs": [
    {
     "data": {
      "text/plain": [
       "(889,)"
      ]
     },
     "execution_count": 111,
     "metadata": {},
     "output_type": "execute_result"
    }
   ],
   "source": [
    "Y_train.shape"
   ]
  },
  {
   "cell_type": "code",
   "execution_count": 121,
   "id": "df6aed66",
   "metadata": {},
   "outputs": [
    {
     "data": {
      "text/plain": [
       "(480,)"
      ]
     },
     "execution_count": 121,
     "metadata": {},
     "output_type": "execute_result"
    }
   ],
   "source": [
    "Y_test.shape"
   ]
  },
  {
   "cell_type": "code",
   "execution_count": 119,
   "id": "208e190a",
   "metadata": {},
   "outputs": [
    {
     "data": {
      "text/plain": [
       "(480,)"
      ]
     },
     "execution_count": 119,
     "metadata": {},
     "output_type": "execute_result"
    }
   ],
   "source": [
    "y_pred.shape"
   ]
  },
  {
   "cell_type": "code",
   "execution_count": 112,
   "id": "a7ce737c",
   "metadata": {
    "scrolled": true
   },
   "outputs": [
    {
     "name": "stdout",
     "output_type": "stream",
     "text": [
      "Mean absolute error : 3157.104091145248\n",
      "Mean Squared error : 27954502.82073427\n",
      "Root mean squared error : 5287.201794970027\n",
      "R2 score : 0.3757989791173246\n"
     ]
    }
   ],
   "source": [
    "print('Mean absolute error :', metrics.mean_absolute_error(Y_test,y_pred))\n",
    "print('Mean Squared error :', metrics.mean_squared_error(Y_test,y_pred))\n",
    "print('Root mean squared error :', np.sqrt(metrics.mean_squared_error(Y_test,y_pred)))\n",
    "print('R2 score :', metrics.r2_score(Y_test,y_pred))"
   ]
  },
  {
   "cell_type": "code",
   "execution_count": 124,
   "id": "50c65b21",
   "metadata": {},
   "outputs": [
    {
     "name": "stdout",
     "output_type": "stream",
     "text": [
      "Mean absolute error : 3252.3612109809656\n",
      "Mean Squared error : 28373328.782016777\n",
      "Root mean squared error : 5326.66206756321\n",
      "R2 score : 0.4440728089139483\n"
     ]
    }
   ],
   "source": [
    "print('Mean absolute error :', metrics.mean_absolute_error(Y_train,y_train_pred))\n",
    "print('Mean Squared error :', metrics.mean_squared_error(Y_train,y_train_pred))\n",
    "print('Root mean squared error :', np.sqrt(metrics.mean_squared_error(Y_train,y_train_pred)))\n",
    "print('R2 score :', metrics.r2_score(Y_train,y_train_pred))"
   ]
  },
  {
   "cell_type": "code",
   "execution_count": 113,
   "id": "4f0fdc19",
   "metadata": {},
   "outputs": [
    {
     "data": {
      "text/plain": [
       "9993.731467412825"
      ]
     },
     "execution_count": 113,
     "metadata": {},
     "output_type": "execute_result"
    }
   ],
   "source": [
    "reg.intercept_"
   ]
  },
  {
   "cell_type": "code",
   "execution_count": 114,
   "id": "ae8379ac",
   "metadata": {},
   "outputs": [
    {
     "data": {
      "text/plain": [
       "array([2884.57503392,  -56.41610937,  281.03575052,  608.42629025,\n",
       "       3952.90598816, -421.46540444])"
      ]
     },
     "execution_count": 114,
     "metadata": {},
     "output_type": "execute_result"
    }
   ],
   "source": [
    "reg.coef_"
   ]
  },
  {
   "cell_type": "code",
   "execution_count": 115,
   "id": "cabf8d17",
   "metadata": {},
   "outputs": [
    {
     "data": {
      "text/plain": [
       "age         0\n",
       "sex         0\n",
       "bmi         0\n",
       "children    0\n",
       "smoker      0\n",
       "region      0\n",
       "charges     0\n",
       "dtype: int64"
      ]
     },
     "execution_count": 115,
     "metadata": {},
     "output_type": "execute_result"
    }
   ],
   "source": [
    "data.isnull().sum()"
   ]
  },
  {
   "cell_type": "code",
   "execution_count": 116,
   "id": "92b60c64",
   "metadata": {},
   "outputs": [
    {
     "data": {
      "text/html": [
       "<div>\n",
       "<style scoped>\n",
       "    .dataframe tbody tr th:only-of-type {\n",
       "        vertical-align: middle;\n",
       "    }\n",
       "\n",
       "    .dataframe tbody tr th {\n",
       "        vertical-align: top;\n",
       "    }\n",
       "\n",
       "    .dataframe thead th {\n",
       "        text-align: right;\n",
       "    }\n",
       "</style>\n",
       "<table border=\"1\" class=\"dataframe\">\n",
       "  <thead>\n",
       "    <tr style=\"text-align: right;\">\n",
       "      <th></th>\n",
       "      <th>age</th>\n",
       "      <th>sex</th>\n",
       "      <th>bmi</th>\n",
       "      <th>children</th>\n",
       "      <th>smoker</th>\n",
       "      <th>region</th>\n",
       "      <th>charges</th>\n",
       "    </tr>\n",
       "  </thead>\n",
       "  <tbody>\n",
       "    <tr>\n",
       "      <th>581</th>\n",
       "      <td>19</td>\n",
       "      <td>1</td>\n",
       "      <td>30.59</td>\n",
       "      <td>0.0</td>\n",
       "      <td>0</td>\n",
       "      <td>1</td>\n",
       "      <td>1639.5631</td>\n",
       "    </tr>\n",
       "  </tbody>\n",
       "</table>\n",
       "</div>"
      ],
      "text/plain": [
       "     age  sex    bmi  children  smoker  region    charges\n",
       "581   19    1  30.59       0.0       0       1  1639.5631"
      ]
     },
     "execution_count": 116,
     "metadata": {},
     "output_type": "execute_result"
    }
   ],
   "source": [
    "data[data.duplicated()]"
   ]
  },
  {
   "cell_type": "code",
   "execution_count": 117,
   "id": "40d20641",
   "metadata": {},
   "outputs": [
    {
     "name": "stdout",
     "output_type": "stream",
     "text": [
      "<class 'pandas.core.frame.DataFrame'>\n",
      "Int64Index: 1369 entries, 0 to 1562\n",
      "Data columns (total 7 columns):\n",
      " #   Column    Non-Null Count  Dtype  \n",
      "---  ------    --------------  -----  \n",
      " 0   age       1369 non-null   int32  \n",
      " 1   sex       1369 non-null   int32  \n",
      " 2   bmi       1369 non-null   float64\n",
      " 3   children  1369 non-null   float64\n",
      " 4   smoker    1369 non-null   int32  \n",
      " 5   region    1369 non-null   int32  \n",
      " 6   charges   1369 non-null   float64\n",
      "dtypes: float64(3), int32(4)\n",
      "memory usage: 96.5 KB\n"
     ]
    }
   ],
   "source": [
    "data.info()"
   ]
  },
  {
   "cell_type": "code",
   "execution_count": null,
   "id": "8d372d2b",
   "metadata": {},
   "outputs": [],
   "source": []
  }
 ],
 "metadata": {
  "kernelspec": {
   "display_name": "Python 3 (ipykernel)",
   "language": "python",
   "name": "python3"
  },
  "language_info": {
   "codemirror_mode": {
    "name": "ipython",
    "version": 3
   },
   "file_extension": ".py",
   "mimetype": "text/x-python",
   "name": "python",
   "nbconvert_exporter": "python",
   "pygments_lexer": "ipython3",
   "version": "3.9.12"
  }
 },
 "nbformat": 4,
 "nbformat_minor": 5
}
