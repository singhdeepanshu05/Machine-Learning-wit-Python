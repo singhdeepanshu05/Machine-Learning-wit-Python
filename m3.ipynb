{
 "cells": [
  {
   "cell_type": "code",
   "execution_count": 1,
   "id": "761708c9",
   "metadata": {},
   "outputs": [],
   "source": [
    "import numpy as np\n",
    "import pandas as pd\n",
    "import matplotlib.pyplot as plt\n",
    "import seaborn as sns"
   ]
  },
  {
   "cell_type": "code",
   "execution_count": 2,
   "id": "a7fb3f1f",
   "metadata": {},
   "outputs": [],
   "source": [
    "from sklearn.linear_model import LinearRegression\n",
    "from sklearn.model_selection import train_test_split\n",
    "from sklearn import metrics\n",
    "from sklearn.preprocessing import StandardScaler\n",
    "from sklearn.preprocessing import LabelEncoder\n",
    "from sklearn.preprocessing import OneHotEncoder"
   ]
  },
  {
   "cell_type": "code",
   "execution_count": 3,
   "id": "ad80aabb",
   "metadata": {},
   "outputs": [],
   "source": [
    "data = pd.read_csv('Acoustic_Extinguisher_Fire_Dataset.csv')"
   ]
  },
  {
   "cell_type": "code",
   "execution_count": 4,
   "id": "c9c8ccbe",
   "metadata": {},
   "outputs": [
    {
     "data": {
      "text/html": [
       "<div>\n",
       "<style scoped>\n",
       "    .dataframe tbody tr th:only-of-type {\n",
       "        vertical-align: middle;\n",
       "    }\n",
       "\n",
       "    .dataframe tbody tr th {\n",
       "        vertical-align: top;\n",
       "    }\n",
       "\n",
       "    .dataframe thead th {\n",
       "        text-align: right;\n",
       "    }\n",
       "</style>\n",
       "<table border=\"1\" class=\"dataframe\">\n",
       "  <thead>\n",
       "    <tr style=\"text-align: right;\">\n",
       "      <th></th>\n",
       "      <th>SIZE</th>\n",
       "      <th>FUEL</th>\n",
       "      <th>DISTANCE</th>\n",
       "      <th>DESIBEL</th>\n",
       "      <th>AIRFLOW</th>\n",
       "      <th>FREQUENCY</th>\n",
       "      <th>STATUS</th>\n",
       "    </tr>\n",
       "  </thead>\n",
       "  <tbody>\n",
       "    <tr>\n",
       "      <th>0</th>\n",
       "      <td>1.0</td>\n",
       "      <td>gasoline</td>\n",
       "      <td>10</td>\n",
       "      <td>96.0</td>\n",
       "      <td>0.0</td>\n",
       "      <td>75.0</td>\n",
       "      <td>0</td>\n",
       "    </tr>\n",
       "    <tr>\n",
       "      <th>1</th>\n",
       "      <td>1.0</td>\n",
       "      <td>gasoline</td>\n",
       "      <td>10</td>\n",
       "      <td>96.0</td>\n",
       "      <td>0.0</td>\n",
       "      <td>72.0</td>\n",
       "      <td>1</td>\n",
       "    </tr>\n",
       "    <tr>\n",
       "      <th>2</th>\n",
       "      <td>1.0</td>\n",
       "      <td>gasoline</td>\n",
       "      <td>10</td>\n",
       "      <td>96.0</td>\n",
       "      <td>2.6</td>\n",
       "      <td>70.0</td>\n",
       "      <td>1</td>\n",
       "    </tr>\n",
       "    <tr>\n",
       "      <th>3</th>\n",
       "      <td>1.0</td>\n",
       "      <td>gasoline</td>\n",
       "      <td>10</td>\n",
       "      <td>96.0</td>\n",
       "      <td>3.2</td>\n",
       "      <td>68.0</td>\n",
       "      <td>1</td>\n",
       "    </tr>\n",
       "    <tr>\n",
       "      <th>4</th>\n",
       "      <td>NaN</td>\n",
       "      <td>gasoline</td>\n",
       "      <td>10</td>\n",
       "      <td>109.0</td>\n",
       "      <td>4.5</td>\n",
       "      <td>67.0</td>\n",
       "      <td>1</td>\n",
       "    </tr>\n",
       "    <tr>\n",
       "      <th>...</th>\n",
       "      <td>...</td>\n",
       "      <td>...</td>\n",
       "      <td>...</td>\n",
       "      <td>...</td>\n",
       "      <td>...</td>\n",
       "      <td>...</td>\n",
       "      <td>...</td>\n",
       "    </tr>\n",
       "    <tr>\n",
       "      <th>17437</th>\n",
       "      <td>7.0</td>\n",
       "      <td>lpg</td>\n",
       "      <td>190</td>\n",
       "      <td>86.0</td>\n",
       "      <td>2.2</td>\n",
       "      <td>5.0</td>\n",
       "      <td>0</td>\n",
       "    </tr>\n",
       "    <tr>\n",
       "      <th>17438</th>\n",
       "      <td>7.0</td>\n",
       "      <td>lpg</td>\n",
       "      <td>190</td>\n",
       "      <td>84.0</td>\n",
       "      <td>2.0</td>\n",
       "      <td>4.0</td>\n",
       "      <td>0</td>\n",
       "    </tr>\n",
       "    <tr>\n",
       "      <th>17439</th>\n",
       "      <td>7.0</td>\n",
       "      <td>lpg</td>\n",
       "      <td>190</td>\n",
       "      <td>80.0</td>\n",
       "      <td>1.5</td>\n",
       "      <td>3.0</td>\n",
       "      <td>0</td>\n",
       "    </tr>\n",
       "    <tr>\n",
       "      <th>17440</th>\n",
       "      <td>7.0</td>\n",
       "      <td>lpg</td>\n",
       "      <td>190</td>\n",
       "      <td>76.0</td>\n",
       "      <td>0.4</td>\n",
       "      <td>2.0</td>\n",
       "      <td>0</td>\n",
       "    </tr>\n",
       "    <tr>\n",
       "      <th>17441</th>\n",
       "      <td>7.0</td>\n",
       "      <td>lpg</td>\n",
       "      <td>190</td>\n",
       "      <td>72.0</td>\n",
       "      <td>0.0</td>\n",
       "      <td>NaN</td>\n",
       "      <td>0</td>\n",
       "    </tr>\n",
       "  </tbody>\n",
       "</table>\n",
       "<p>17442 rows × 7 columns</p>\n",
       "</div>"
      ],
      "text/plain": [
       "       SIZE      FUEL DISTANCE  DESIBEL  AIRFLOW  FREQUENCY  STATUS\n",
       "0       1.0  gasoline       10     96.0      0.0       75.0       0\n",
       "1       1.0  gasoline       10     96.0      0.0       72.0       1\n",
       "2       1.0  gasoline       10     96.0      2.6       70.0       1\n",
       "3       1.0  gasoline       10     96.0      3.2       68.0       1\n",
       "4       NaN  gasoline       10    109.0      4.5       67.0       1\n",
       "...     ...       ...      ...      ...      ...        ...     ...\n",
       "17437   7.0       lpg      190     86.0      2.2        5.0       0\n",
       "17438   7.0       lpg      190     84.0      2.0        4.0       0\n",
       "17439   7.0       lpg      190     80.0      1.5        3.0       0\n",
       "17440   7.0       lpg      190     76.0      0.4        2.0       0\n",
       "17441   7.0       lpg      190     72.0      0.0        NaN       0\n",
       "\n",
       "[17442 rows x 7 columns]"
      ]
     },
     "execution_count": 4,
     "metadata": {},
     "output_type": "execute_result"
    }
   ],
   "source": [
    "data"
   ]
  },
  {
   "cell_type": "code",
   "execution_count": 5,
   "id": "526bdfc6",
   "metadata": {},
   "outputs": [
    {
     "name": "stdout",
     "output_type": "stream",
     "text": [
      "<class 'pandas.core.frame.DataFrame'>\n",
      "RangeIndex: 17442 entries, 0 to 17441\n",
      "Data columns (total 7 columns):\n",
      " #   Column     Non-Null Count  Dtype  \n",
      "---  ------     --------------  -----  \n",
      " 0   SIZE       16919 non-null  float64\n",
      " 1   FUEL       16920 non-null  object \n",
      " 2   DISTANCE   16920 non-null  object \n",
      " 3   DESIBEL    16919 non-null  float64\n",
      " 4   AIRFLOW    16919 non-null  float64\n",
      " 5   FREQUENCY  16919 non-null  float64\n",
      " 6   STATUS     17442 non-null  int64  \n",
      "dtypes: float64(4), int64(1), object(2)\n",
      "memory usage: 954.0+ KB\n"
     ]
    }
   ],
   "source": [
    "data.info()"
   ]
  },
  {
   "cell_type": "code",
   "execution_count": 6,
   "id": "ed921435",
   "metadata": {},
   "outputs": [
    {
     "data": {
      "text/html": [
       "<div>\n",
       "<style scoped>\n",
       "    .dataframe tbody tr th:only-of-type {\n",
       "        vertical-align: middle;\n",
       "    }\n",
       "\n",
       "    .dataframe tbody tr th {\n",
       "        vertical-align: top;\n",
       "    }\n",
       "\n",
       "    .dataframe thead th {\n",
       "        text-align: right;\n",
       "    }\n",
       "</style>\n",
       "<table border=\"1\" class=\"dataframe\">\n",
       "  <thead>\n",
       "    <tr style=\"text-align: right;\">\n",
       "      <th></th>\n",
       "      <th>SIZE</th>\n",
       "      <th>DESIBEL</th>\n",
       "      <th>AIRFLOW</th>\n",
       "      <th>FREQUENCY</th>\n",
       "      <th>STATUS</th>\n",
       "    </tr>\n",
       "  </thead>\n",
       "  <tbody>\n",
       "    <tr>\n",
       "      <th>count</th>\n",
       "      <td>16919.000000</td>\n",
       "      <td>16919.000000</td>\n",
       "      <td>16919.000000</td>\n",
       "      <td>16919.000000</td>\n",
       "      <td>17442.000000</td>\n",
       "    </tr>\n",
       "    <tr>\n",
       "      <th>mean</th>\n",
       "      <td>3.415214</td>\n",
       "      <td>96.376441</td>\n",
       "      <td>6.977499</td>\n",
       "      <td>31.615639</td>\n",
       "      <td>0.497821</td>\n",
       "    </tr>\n",
       "    <tr>\n",
       "      <th>std</th>\n",
       "      <td>1.752139</td>\n",
       "      <td>8.160081</td>\n",
       "      <td>4.736850</td>\n",
       "      <td>20.954487</td>\n",
       "      <td>0.500010</td>\n",
       "    </tr>\n",
       "    <tr>\n",
       "      <th>min</th>\n",
       "      <td>1.000000</td>\n",
       "      <td>72.000000</td>\n",
       "      <td>0.000000</td>\n",
       "      <td>1.000000</td>\n",
       "      <td>0.000000</td>\n",
       "    </tr>\n",
       "    <tr>\n",
       "      <th>25%</th>\n",
       "      <td>2.000000</td>\n",
       "      <td>90.000000</td>\n",
       "      <td>3.200000</td>\n",
       "      <td>14.000000</td>\n",
       "      <td>0.000000</td>\n",
       "    </tr>\n",
       "    <tr>\n",
       "      <th>50%</th>\n",
       "      <td>3.000000</td>\n",
       "      <td>95.000000</td>\n",
       "      <td>5.800000</td>\n",
       "      <td>27.000000</td>\n",
       "      <td>0.000000</td>\n",
       "    </tr>\n",
       "    <tr>\n",
       "      <th>75%</th>\n",
       "      <td>5.000000</td>\n",
       "      <td>104.000000</td>\n",
       "      <td>11.200000</td>\n",
       "      <td>47.000000</td>\n",
       "      <td>1.000000</td>\n",
       "    </tr>\n",
       "    <tr>\n",
       "      <th>max</th>\n",
       "      <td>7.000000</td>\n",
       "      <td>113.000000</td>\n",
       "      <td>17.000000</td>\n",
       "      <td>75.000000</td>\n",
       "      <td>1.000000</td>\n",
       "    </tr>\n",
       "  </tbody>\n",
       "</table>\n",
       "</div>"
      ],
      "text/plain": [
       "               SIZE       DESIBEL       AIRFLOW     FREQUENCY        STATUS\n",
       "count  16919.000000  16919.000000  16919.000000  16919.000000  17442.000000\n",
       "mean       3.415214     96.376441      6.977499     31.615639      0.497821\n",
       "std        1.752139      8.160081      4.736850     20.954487      0.500010\n",
       "min        1.000000     72.000000      0.000000      1.000000      0.000000\n",
       "25%        2.000000     90.000000      3.200000     14.000000      0.000000\n",
       "50%        3.000000     95.000000      5.800000     27.000000      0.000000\n",
       "75%        5.000000    104.000000     11.200000     47.000000      1.000000\n",
       "max        7.000000    113.000000     17.000000     75.000000      1.000000"
      ]
     },
     "execution_count": 6,
     "metadata": {},
     "output_type": "execute_result"
    }
   ],
   "source": [
    "data.describe()"
   ]
  },
  {
   "cell_type": "code",
   "execution_count": 48,
   "id": "55dcb5ac",
   "metadata": {},
   "outputs": [
    {
     "data": {
      "text/plain": [
       "(17442, 7)"
      ]
     },
     "execution_count": 48,
     "metadata": {},
     "output_type": "execute_result"
    }
   ],
   "source": [
    "data.shape"
   ]
  },
  {
   "cell_type": "code",
   "execution_count": 8,
   "id": "997893d8",
   "metadata": {},
   "outputs": [
    {
     "data": {
      "text/plain": [
       "SIZE         523\n",
       "FUEL         522\n",
       "DISTANCE     522\n",
       "DESIBEL      523\n",
       "AIRFLOW      523\n",
       "FREQUENCY    523\n",
       "STATUS         0\n",
       "dtype: int64"
      ]
     },
     "execution_count": 8,
     "metadata": {},
     "output_type": "execute_result"
    }
   ],
   "source": [
    "data.isnull().sum()"
   ]
  },
  {
   "cell_type": "code",
   "execution_count": 9,
   "id": "d910075a",
   "metadata": {},
   "outputs": [],
   "source": [
    "columns = ['SIZE','DESIBEL', 'AIRFLOW', 'FREQUENCY','STATUS']\n",
    "for i in columns:\n",
    "    data[i] = data[i].fillna(data[i].median())"
   ]
  },
  {
   "cell_type": "code",
   "execution_count": 11,
   "id": "85427c87",
   "metadata": {},
   "outputs": [],
   "source": [
    "data['FUEL'] = data['FUEL'].fillna(data['FUEL'].mode()[0])"
   ]
  },
  {
   "cell_type": "code",
   "execution_count": 12,
   "id": "5006cbe5",
   "metadata": {
    "scrolled": true
   },
   "outputs": [
    {
     "data": {
      "text/plain": [
       "SIZE           0\n",
       "FUEL           0\n",
       "DISTANCE     522\n",
       "DESIBEL        0\n",
       "AIRFLOW        0\n",
       "FREQUENCY      0\n",
       "STATUS         0\n",
       "dtype: int64"
      ]
     },
     "execution_count": 12,
     "metadata": {},
     "output_type": "execute_result"
    }
   ],
   "source": [
    "data.isnull().sum()"
   ]
  },
  {
   "cell_type": "code",
   "execution_count": 56,
   "id": "4dc8600c",
   "metadata": {},
   "outputs": [
    {
     "data": {
      "text/plain": [
       "3.0    3506\n",
       "5.0    2991\n",
       "4.0    2990\n",
       "1.0    2985\n",
       "2.0    2972\n",
       "7.0    1001\n",
       "6.0     997\n",
       "Name: SIZE, dtype: int64"
      ]
     },
     "execution_count": 56,
     "metadata": {},
     "output_type": "execute_result"
    }
   ],
   "source": [
    "data['SIZE'].value_counts()"
   ]
  },
  {
   "cell_type": "code",
   "execution_count": 16,
   "id": "8ce9f173",
   "metadata": {
    "scrolled": true
   },
   "outputs": [
    {
     "data": {
      "text/plain": [
       "array(['10', '20', nan, '30', '40', '50', '60', '70', '80', '90', '100',\n",
       "       '110', '120', '130', '140', '150', '160', '170', '180', '190'],\n",
       "      dtype=object)"
      ]
     },
     "execution_count": 16,
     "metadata": {},
     "output_type": "execute_result"
    }
   ],
   "source": [
    "data['DISTANCE'].unique()"
   ]
  },
  {
   "cell_type": "code",
   "execution_count": 18,
   "id": "68a4288d",
   "metadata": {},
   "outputs": [],
   "source": [
    "data['DISTANCE'] = data['DISTANCE'].fillna(data['DISTANCE'].median())"
   ]
  },
  {
   "cell_type": "code",
   "execution_count": 19,
   "id": "448dccde",
   "metadata": {
    "scrolled": false
   },
   "outputs": [],
   "source": [
    "data['DISTANCE'] = data['DISTANCE'].astype(int)"
   ]
  },
  {
   "cell_type": "code",
   "execution_count": 14,
   "id": "03ce34be",
   "metadata": {},
   "outputs": [
    {
     "data": {
      "text/html": [
       "<div>\n",
       "<style scoped>\n",
       "    .dataframe tbody tr th:only-of-type {\n",
       "        vertical-align: middle;\n",
       "    }\n",
       "\n",
       "    .dataframe tbody tr th {\n",
       "        vertical-align: top;\n",
       "    }\n",
       "\n",
       "    .dataframe thead th {\n",
       "        text-align: right;\n",
       "    }\n",
       "</style>\n",
       "<table border=\"1\" class=\"dataframe\">\n",
       "  <thead>\n",
       "    <tr style=\"text-align: right;\">\n",
       "      <th></th>\n",
       "      <th>SIZE</th>\n",
       "      <th>FUEL</th>\n",
       "      <th>DISTANCE</th>\n",
       "      <th>DESIBEL</th>\n",
       "      <th>AIRFLOW</th>\n",
       "      <th>FREQUENCY</th>\n",
       "      <th>STATUS</th>\n",
       "    </tr>\n",
       "  </thead>\n",
       "  <tbody>\n",
       "    <tr>\n",
       "      <th>371</th>\n",
       "      <td>1.0</td>\n",
       "      <td>gasoline</td>\n",
       "      <td>$$</td>\n",
       "      <td>90.0</td>\n",
       "      <td>10.2</td>\n",
       "      <td>7.0</td>\n",
       "      <td>1</td>\n",
       "    </tr>\n",
       "  </tbody>\n",
       "</table>\n",
       "</div>"
      ],
      "text/plain": [
       "     SIZE      FUEL DISTANCE  DESIBEL  AIRFLOW  FREQUENCY  STATUS\n",
       "371   1.0  gasoline       $$     90.0     10.2        7.0       1"
      ]
     },
     "execution_count": 14,
     "metadata": {},
     "output_type": "execute_result"
    }
   ],
   "source": [
    "data[data['DISTANCE'] == '$$']"
   ]
  },
  {
   "cell_type": "code",
   "execution_count": 15,
   "id": "12e8dbb8",
   "metadata": {},
   "outputs": [],
   "source": [
    "data.drop([371], axis = 0, inplace = True)"
   ]
  },
  {
   "cell_type": "code",
   "execution_count": 20,
   "id": "20876fb8",
   "metadata": {},
   "outputs": [
    {
     "name": "stdout",
     "output_type": "stream",
     "text": [
      "<class 'pandas.core.frame.DataFrame'>\n",
      "Int64Index: 17441 entries, 0 to 17441\n",
      "Data columns (total 7 columns):\n",
      " #   Column     Non-Null Count  Dtype  \n",
      "---  ------     --------------  -----  \n",
      " 0   SIZE       17441 non-null  float64\n",
      " 1   FUEL       17441 non-null  object \n",
      " 2   DISTANCE   17441 non-null  int32  \n",
      " 3   DESIBEL    17441 non-null  float64\n",
      " 4   AIRFLOW    17441 non-null  float64\n",
      " 5   FREQUENCY  17441 non-null  float64\n",
      " 6   STATUS     17441 non-null  int64  \n",
      "dtypes: float64(4), int32(1), int64(1), object(1)\n",
      "memory usage: 1021.9+ KB\n"
     ]
    }
   ],
   "source": [
    "data.info()"
   ]
  },
  {
   "cell_type": "code",
   "execution_count": 24,
   "id": "8571117e",
   "metadata": {},
   "outputs": [
    {
     "data": {
      "text/plain": [
       "array(['gasoline', 'kerosene', 'thinner', 'lpg'], dtype=object)"
      ]
     },
     "execution_count": 24,
     "metadata": {},
     "output_type": "execute_result"
    }
   ],
   "source": [
    "data['FUEL'].unique()"
   ]
  },
  {
   "cell_type": "code",
   "execution_count": 22,
   "id": "38754edd",
   "metadata": {},
   "outputs": [
    {
     "data": {
      "text/html": [
       "<div>\n",
       "<style scoped>\n",
       "    .dataframe tbody tr th:only-of-type {\n",
       "        vertical-align: middle;\n",
       "    }\n",
       "\n",
       "    .dataframe tbody tr th {\n",
       "        vertical-align: top;\n",
       "    }\n",
       "\n",
       "    .dataframe thead th {\n",
       "        text-align: right;\n",
       "    }\n",
       "</style>\n",
       "<table border=\"1\" class=\"dataframe\">\n",
       "  <thead>\n",
       "    <tr style=\"text-align: right;\">\n",
       "      <th></th>\n",
       "      <th>SIZE</th>\n",
       "      <th>FUEL</th>\n",
       "      <th>DISTANCE</th>\n",
       "      <th>DESIBEL</th>\n",
       "      <th>AIRFLOW</th>\n",
       "      <th>FREQUENCY</th>\n",
       "      <th>STATUS</th>\n",
       "    </tr>\n",
       "  </thead>\n",
       "  <tbody>\n",
       "    <tr>\n",
       "      <th>194</th>\n",
       "      <td>1.0</td>\n",
       "      <td>%%</td>\n",
       "      <td>40</td>\n",
       "      <td>87.0</td>\n",
       "      <td>13.2</td>\n",
       "      <td>22.0</td>\n",
       "      <td>1</td>\n",
       "    </tr>\n",
       "  </tbody>\n",
       "</table>\n",
       "</div>"
      ],
      "text/plain": [
       "     SIZE FUEL  DISTANCE  DESIBEL  AIRFLOW  FREQUENCY  STATUS\n",
       "194   1.0   %%        40     87.0     13.2       22.0       1"
      ]
     },
     "execution_count": 22,
     "metadata": {},
     "output_type": "execute_result"
    }
   ],
   "source": [
    "data[data['FUEL'] == '%%']"
   ]
  },
  {
   "cell_type": "code",
   "execution_count": 23,
   "id": "016afa6b",
   "metadata": {},
   "outputs": [],
   "source": [
    "data.drop([194], axis = 0, inplace = True)"
   ]
  },
  {
   "cell_type": "code",
   "execution_count": 15,
   "id": "9e4d2c64",
   "metadata": {},
   "outputs": [
    {
     "data": {
      "image/png": "[encoded data removed]",
      "text/plain": [
       "<Figure size 432x288 with 1 Axes>"
      ]
     },
     "metadata": {
      "needs_background": "light"
     },
     "output_type": "display_data"
    }
   ],
   "source": [
    "plt.hist(x = data['STATUS'])\n",
    "plt.show()"
   ]
  },
  {
   "cell_type": "code",
   "execution_count": 16,
   "id": "c06e671d",
   "metadata": {},
   "outputs": [
    {
     "data": {
      "text/plain": [
       "Index(['SIZE', 'FUEL', 'DISTANCE', 'DESIBEL', 'AIRFLOW', 'FREQUENCY',\n",
       "       'STATUS'],\n",
       "      dtype='object')"
      ]
     },
     "execution_count": 16,
     "metadata": {},
     "output_type": "execute_result"
    }
   ],
   "source": [
    "data.columns"
   ]
  },
  {
   "cell_type": "code",
   "execution_count": 17,
   "id": "90565675",
   "metadata": {},
   "outputs": [
    {
     "data": {
      "text/plain": [
       "array([1., 2., 3., 4., 5., 6., 7.])"
      ]
     },
     "execution_count": 17,
     "metadata": {},
     "output_type": "execute_result"
    }
   ],
   "source": [
    "data['SIZE'].unique()"
   ]
  },
  {
   "cell_type": "code",
   "execution_count": 18,
   "id": "b40563b3",
   "metadata": {},
   "outputs": [
    {
     "data": {
      "text/plain": [
       "1.0    2594\n",
       "3.0    2577\n",
       "5.0    2566\n",
       "2.0    2555\n",
       "4.0    2527\n",
       "7.0     858\n",
       "6.0     847\n",
       "Name: SIZE, dtype: int64"
      ]
     },
     "execution_count": 18,
     "metadata": {},
     "output_type": "execute_result"
    }
   ],
   "source": [
    "data['SIZE'].value_counts()"
   ]
  },
  {
   "cell_type": "code",
   "execution_count": 25,
   "id": "1df7e01d",
   "metadata": {},
   "outputs": [
    {
     "data": {
      "text/plain": [
       "<seaborn.axisgrid.PairGrid at 0x1cc6a8ca880>"
      ]
     },
     "execution_count": 25,
     "metadata": {},
     "output_type": "execute_result"
    },
    {
     "data": {
      "image/png": "[encoded data removed]",
      "text/plain": [
       "<Figure size 1080x1080 with 42 Axes>"
      ]
     },
     "metadata": {
      "needs_background": "light"
     },
     "output_type": "display_data"
    }
   ],
   "source": [
    "sns.pairplot(data)"
   ]
  },
  {
   "cell_type": "code",
   "execution_count": 76,
   "id": "c49a7127",
   "metadata": {},
   "outputs": [
    {
     "data": {
      "text/html": [
       "<div>\n",
       "<style scoped>\n",
       "    .dataframe tbody tr th:only-of-type {\n",
       "        vertical-align: middle;\n",
       "    }\n",
       "\n",
       "    .dataframe tbody tr th {\n",
       "        vertical-align: top;\n",
       "    }\n",
       "\n",
       "    .dataframe thead th {\n",
       "        text-align: right;\n",
       "    }\n",
       "</style>\n",
       "<table border=\"1\" class=\"dataframe\">\n",
       "  <thead>\n",
       "    <tr style=\"text-align: right;\">\n",
       "      <th></th>\n",
       "      <th>SIZE</th>\n",
       "      <th>DISTANCE</th>\n",
       "      <th>DESIBEL</th>\n",
       "      <th>AIRFLOW</th>\n",
       "      <th>FREQUENCY</th>\n",
       "      <th>STATUS</th>\n",
       "    </tr>\n",
       "  </thead>\n",
       "  <tbody>\n",
       "    <tr>\n",
       "      <th>SIZE</th>\n",
       "      <td>1.000000</td>\n",
       "      <td>0.002616</td>\n",
       "      <td>0.000813</td>\n",
       "      <td>-0.000787</td>\n",
       "      <td>-0.001862</td>\n",
       "      <td>-0.094812</td>\n",
       "    </tr>\n",
       "    <tr>\n",
       "      <th>DISTANCE</th>\n",
       "      <td>0.002616</td>\n",
       "      <td>1.000000</td>\n",
       "      <td>-0.231422</td>\n",
       "      <td>-0.684741</td>\n",
       "      <td>-0.002290</td>\n",
       "      <td>-0.633771</td>\n",
       "    </tr>\n",
       "    <tr>\n",
       "      <th>DESIBEL</th>\n",
       "      <td>0.000813</td>\n",
       "      <td>-0.231422</td>\n",
       "      <td>1.000000</td>\n",
       "      <td>0.364335</td>\n",
       "      <td>0.545626</td>\n",
       "      <td>0.199058</td>\n",
       "    </tr>\n",
       "    <tr>\n",
       "      <th>AIRFLOW</th>\n",
       "      <td>-0.000787</td>\n",
       "      <td>-0.684741</td>\n",
       "      <td>0.364335</td>\n",
       "      <td>1.000000</td>\n",
       "      <td>-0.204416</td>\n",
       "      <td>0.749292</td>\n",
       "    </tr>\n",
       "    <tr>\n",
       "      <th>FREQUENCY</th>\n",
       "      <td>-0.001862</td>\n",
       "      <td>-0.002290</td>\n",
       "      <td>0.545626</td>\n",
       "      <td>-0.204416</td>\n",
       "      <td>1.000000</td>\n",
       "      <td>-0.239714</td>\n",
       "    </tr>\n",
       "    <tr>\n",
       "      <th>STATUS</th>\n",
       "      <td>-0.094812</td>\n",
       "      <td>-0.633771</td>\n",
       "      <td>0.199058</td>\n",
       "      <td>0.749292</td>\n",
       "      <td>-0.239714</td>\n",
       "      <td>1.000000</td>\n",
       "    </tr>\n",
       "  </tbody>\n",
       "</table>\n",
       "</div>"
      ],
      "text/plain": [
       "               SIZE  DISTANCE   DESIBEL   AIRFLOW  FREQUENCY    STATUS\n",
       "SIZE       1.000000  0.002616  0.000813 -0.000787  -0.001862 -0.094812\n",
       "DISTANCE   0.002616  1.000000 -0.231422 -0.684741  -0.002290 -0.633771\n",
       "DESIBEL    0.000813 -0.231422  1.000000  0.364335   0.545626  0.199058\n",
       "AIRFLOW   -0.000787 -0.684741  0.364335  1.000000  -0.204416  0.749292\n",
       "FREQUENCY -0.001862 -0.002290  0.545626 -0.204416   1.000000 -0.239714\n",
       "STATUS    -0.094812 -0.633771  0.199058  0.749292  -0.239714  1.000000"
      ]
     },
     "execution_count": 76,
     "metadata": {},
     "output_type": "execute_result"
    }
   ],
   "source": [
    "data.corr()"
   ]
  },
  {
   "cell_type": "code",
   "execution_count": 77,
   "id": "9f5e91f5",
   "metadata": {
    "scrolled": true
   },
   "outputs": [
    {
     "data": {
      "text/plain": [
       "<AxesSubplot:xlabel='STATUS', ylabel='DISTANCE'>"
      ]
     },
     "execution_count": 77,
     "metadata": {},
     "output_type": "execute_result"
    },
    {
     "data": {
      "image/png": "[encoded data removed]",
      "text/plain": [
       "<Figure size 432x288 with 1 Axes>"
      ]
     },
     "metadata": {
      "needs_background": "light"
     },
     "output_type": "display_data"
    }
   ],
   "source": [
    "sns.boxplot(x = 'STATUS', y = 'DISTANCE', data = data)"
   ]
  },
  {
   "cell_type": "code",
   "execution_count": 78,
   "id": "3dc49efb",
   "metadata": {},
   "outputs": [
    {
     "data": {
      "text/plain": [
       "<AxesSubplot:xlabel='STATUS', ylabel='AIRFLOW'>"
      ]
     },
     "execution_count": 78,
     "metadata": {},
     "output_type": "execute_result"
    },
    {
     "data": {
      "image/png": "[encoded data removed]",
      "text/plain": [
       "<Figure size 432x288 with 1 Axes>"
      ]
     },
     "metadata": {
      "needs_background": "light"
     },
     "output_type": "display_data"
    }
   ],
   "source": [
    "sns.boxplot(x = 'STATUS', y = 'AIRFLOW', data = data)"
   ]
  },
  {
   "cell_type": "code",
   "execution_count": 82,
   "id": "b071e9cb",
   "metadata": {},
   "outputs": [
    {
     "data": {
      "text/plain": [
       "<AxesSubplot:>"
      ]
     },
     "execution_count": 82,
     "metadata": {},
     "output_type": "execute_result"
    },
    {
     "data": {
      "image/png": "[encoded data removed]",
      "text/plain": [
       "<Figure size 432x288 with 2 Axes>"
      ]
     },
     "metadata": {
      "needs_background": "light"
     },
     "output_type": "display_data"
    }
   ],
   "source": [
    "sns.heatmap(data.corr(), annot = True)"
   ]
  },
  {
   "cell_type": "code",
   "execution_count": 99,
   "id": "a082abe2",
   "metadata": {},
   "outputs": [
    {
     "data": {
      "text/plain": [
       "array(['gasoline', 'kerosene', 'thinner', 'lpg'], dtype=object)"
      ]
     },
     "execution_count": 99,
     "metadata": {},
     "output_type": "execute_result"
    }
   ],
   "source": [
    "data['FUEL'].unique()"
   ]
  },
  {
   "cell_type": "code",
   "execution_count": 26,
   "id": "64cb4f61",
   "metadata": {},
   "outputs": [],
   "source": [
    "oe = OneHotEncoder(sparse = False)"
   ]
  },
  {
   "cell_type": "code",
   "execution_count": 27,
   "id": "6989ae5e",
   "metadata": {},
   "outputs": [],
   "source": [
    "fuel = pd.DataFrame(oe.fit_transform(data[['FUEL']]),columns =['gasoline', 'kerosene', 'thinner', 'lpg'])"
   ]
  },
  {
   "cell_type": "code",
   "execution_count": 28,
   "id": "6da27a9c",
   "metadata": {},
   "outputs": [],
   "source": [
    "data = data.join(fuel)"
   ]
  },
  {
   "cell_type": "code",
   "execution_count": 29,
   "id": "2ed7868f",
   "metadata": {},
   "outputs": [],
   "source": [
    "data.drop('FUEL', axis = 1, inplace = True)"
   ]
  },
  {
   "cell_type": "code",
   "execution_count": 30,
   "id": "8a0590c9",
   "metadata": {},
   "outputs": [
    {
     "data": {
      "text/plain": [
       "(17440, 10)"
      ]
     },
     "execution_count": 30,
     "metadata": {},
     "output_type": "execute_result"
    }
   ],
   "source": [
    "data.shape"
   ]
  },
  {
   "cell_type": "code",
   "execution_count": 31,
   "id": "12007cc5",
   "metadata": {},
   "outputs": [
    {
     "data": {
      "text/html": [
       "<div>\n",
       "<style scoped>\n",
       "    .dataframe tbody tr th:only-of-type {\n",
       "        vertical-align: middle;\n",
       "    }\n",
       "\n",
       "    .dataframe tbody tr th {\n",
       "        vertical-align: top;\n",
       "    }\n",
       "\n",
       "    .dataframe thead th {\n",
       "        text-align: right;\n",
       "    }\n",
       "</style>\n",
       "<table border=\"1\" class=\"dataframe\">\n",
       "  <thead>\n",
       "    <tr style=\"text-align: right;\">\n",
       "      <th></th>\n",
       "      <th>SIZE</th>\n",
       "      <th>DISTANCE</th>\n",
       "      <th>DESIBEL</th>\n",
       "      <th>AIRFLOW</th>\n",
       "      <th>FREQUENCY</th>\n",
       "      <th>STATUS</th>\n",
       "      <th>gasoline</th>\n",
       "      <th>kerosene</th>\n",
       "      <th>thinner</th>\n",
       "      <th>lpg</th>\n",
       "    </tr>\n",
       "  </thead>\n",
       "  <tbody>\n",
       "    <tr>\n",
       "      <th>0</th>\n",
       "      <td>1.0</td>\n",
       "      <td>10</td>\n",
       "      <td>96.0</td>\n",
       "      <td>0.0</td>\n",
       "      <td>75.0</td>\n",
       "      <td>0</td>\n",
       "      <td>1.0</td>\n",
       "      <td>0.0</td>\n",
       "      <td>0.0</td>\n",
       "      <td>0.0</td>\n",
       "    </tr>\n",
       "    <tr>\n",
       "      <th>1</th>\n",
       "      <td>1.0</td>\n",
       "      <td>10</td>\n",
       "      <td>96.0</td>\n",
       "      <td>0.0</td>\n",
       "      <td>72.0</td>\n",
       "      <td>1</td>\n",
       "      <td>1.0</td>\n",
       "      <td>0.0</td>\n",
       "      <td>0.0</td>\n",
       "      <td>0.0</td>\n",
       "    </tr>\n",
       "    <tr>\n",
       "      <th>2</th>\n",
       "      <td>1.0</td>\n",
       "      <td>10</td>\n",
       "      <td>96.0</td>\n",
       "      <td>2.6</td>\n",
       "      <td>70.0</td>\n",
       "      <td>1</td>\n",
       "      <td>1.0</td>\n",
       "      <td>0.0</td>\n",
       "      <td>0.0</td>\n",
       "      <td>0.0</td>\n",
       "    </tr>\n",
       "    <tr>\n",
       "      <th>3</th>\n",
       "      <td>1.0</td>\n",
       "      <td>10</td>\n",
       "      <td>96.0</td>\n",
       "      <td>3.2</td>\n",
       "      <td>68.0</td>\n",
       "      <td>1</td>\n",
       "      <td>1.0</td>\n",
       "      <td>0.0</td>\n",
       "      <td>0.0</td>\n",
       "      <td>0.0</td>\n",
       "    </tr>\n",
       "    <tr>\n",
       "      <th>4</th>\n",
       "      <td>3.0</td>\n",
       "      <td>10</td>\n",
       "      <td>109.0</td>\n",
       "      <td>4.5</td>\n",
       "      <td>67.0</td>\n",
       "      <td>1</td>\n",
       "      <td>1.0</td>\n",
       "      <td>0.0</td>\n",
       "      <td>0.0</td>\n",
       "      <td>0.0</td>\n",
       "    </tr>\n",
       "    <tr>\n",
       "      <th>...</th>\n",
       "      <td>...</td>\n",
       "      <td>...</td>\n",
       "      <td>...</td>\n",
       "      <td>...</td>\n",
       "      <td>...</td>\n",
       "      <td>...</td>\n",
       "      <td>...</td>\n",
       "      <td>...</td>\n",
       "      <td>...</td>\n",
       "      <td>...</td>\n",
       "    </tr>\n",
       "    <tr>\n",
       "      <th>17437</th>\n",
       "      <td>7.0</td>\n",
       "      <td>190</td>\n",
       "      <td>86.0</td>\n",
       "      <td>2.2</td>\n",
       "      <td>5.0</td>\n",
       "      <td>0</td>\n",
       "      <td>0.0</td>\n",
       "      <td>0.0</td>\n",
       "      <td>1.0</td>\n",
       "      <td>0.0</td>\n",
       "    </tr>\n",
       "    <tr>\n",
       "      <th>17438</th>\n",
       "      <td>7.0</td>\n",
       "      <td>190</td>\n",
       "      <td>84.0</td>\n",
       "      <td>2.0</td>\n",
       "      <td>4.0</td>\n",
       "      <td>0</td>\n",
       "      <td>0.0</td>\n",
       "      <td>0.0</td>\n",
       "      <td>1.0</td>\n",
       "      <td>0.0</td>\n",
       "    </tr>\n",
       "    <tr>\n",
       "      <th>17439</th>\n",
       "      <td>7.0</td>\n",
       "      <td>190</td>\n",
       "      <td>80.0</td>\n",
       "      <td>1.5</td>\n",
       "      <td>3.0</td>\n",
       "      <td>0</td>\n",
       "      <td>0.0</td>\n",
       "      <td>0.0</td>\n",
       "      <td>1.0</td>\n",
       "      <td>0.0</td>\n",
       "    </tr>\n",
       "    <tr>\n",
       "      <th>17440</th>\n",
       "      <td>7.0</td>\n",
       "      <td>190</td>\n",
       "      <td>76.0</td>\n",
       "      <td>0.4</td>\n",
       "      <td>2.0</td>\n",
       "      <td>0</td>\n",
       "      <td>NaN</td>\n",
       "      <td>NaN</td>\n",
       "      <td>NaN</td>\n",
       "      <td>NaN</td>\n",
       "    </tr>\n",
       "    <tr>\n",
       "      <th>17441</th>\n",
       "      <td>7.0</td>\n",
       "      <td>190</td>\n",
       "      <td>72.0</td>\n",
       "      <td>0.0</td>\n",
       "      <td>27.0</td>\n",
       "      <td>0</td>\n",
       "      <td>NaN</td>\n",
       "      <td>NaN</td>\n",
       "      <td>NaN</td>\n",
       "      <td>NaN</td>\n",
       "    </tr>\n",
       "  </tbody>\n",
       "</table>\n",
       "<p>17440 rows × 10 columns</p>\n",
       "</div>"
      ],
      "text/plain": [
       "       SIZE  DISTANCE  DESIBEL  AIRFLOW  FREQUENCY  STATUS  gasoline  \\\n",
       "0       1.0        10     96.0      0.0       75.0       0       1.0   \n",
       "1       1.0        10     96.0      0.0       72.0       1       1.0   \n",
       "2       1.0        10     96.0      2.6       70.0       1       1.0   \n",
       "3       1.0        10     96.0      3.2       68.0       1       1.0   \n",
       "4       3.0        10    109.0      4.5       67.0       1       1.0   \n",
       "...     ...       ...      ...      ...        ...     ...       ...   \n",
       "17437   7.0       190     86.0      2.2        5.0       0       0.0   \n",
       "17438   7.0       190     84.0      2.0        4.0       0       0.0   \n",
       "17439   7.0       190     80.0      1.5        3.0       0       0.0   \n",
       "17440   7.0       190     76.0      0.4        2.0       0       NaN   \n",
       "17441   7.0       190     72.0      0.0       27.0       0       NaN   \n",
       "\n",
       "       kerosene  thinner  lpg  \n",
       "0           0.0      0.0  0.0  \n",
       "1           0.0      0.0  0.0  \n",
       "2           0.0      0.0  0.0  \n",
       "3           0.0      0.0  0.0  \n",
       "4           0.0      0.0  0.0  \n",
       "...         ...      ...  ...  \n",
       "17437       0.0      1.0  0.0  \n",
       "17438       0.0      1.0  0.0  \n",
       "17439       0.0      1.0  0.0  \n",
       "17440       NaN      NaN  NaN  \n",
       "17441       NaN      NaN  NaN  \n",
       "\n",
       "[17440 rows x 10 columns]"
      ]
     },
     "execution_count": 31,
     "metadata": {},
     "output_type": "execute_result"
    }
   ],
   "source": [
    "data"
   ]
  },
  {
   "cell_type": "code",
   "execution_count": 32,
   "id": "af6f82b5",
   "metadata": {},
   "outputs": [
    {
     "name": "stdout",
     "output_type": "stream",
     "text": [
      "<class 'pandas.core.frame.DataFrame'>\n",
      "Int64Index: 17440 entries, 0 to 17441\n",
      "Data columns (total 10 columns):\n",
      " #   Column     Non-Null Count  Dtype  \n",
      "---  ------     --------------  -----  \n",
      " 0   SIZE       17440 non-null  float64\n",
      " 1   DISTANCE   17440 non-null  int32  \n",
      " 2   DESIBEL    17440 non-null  float64\n",
      " 3   AIRFLOW    17440 non-null  float64\n",
      " 4   FREQUENCY  17440 non-null  float64\n",
      " 5   STATUS     17440 non-null  int64  \n",
      " 6   gasoline   17438 non-null  float64\n",
      " 7   kerosene   17438 non-null  float64\n",
      " 8   thinner    17438 non-null  float64\n",
      " 9   lpg        17438 non-null  float64\n",
      "dtypes: float64(8), int32(1), int64(1)\n",
      "memory usage: 1.9 MB\n"
     ]
    }
   ],
   "source": [
    "data.info()"
   ]
  },
  {
   "cell_type": "code",
   "execution_count": 35,
   "id": "a8e6d39e",
   "metadata": {},
   "outputs": [
    {
     "data": {
      "text/plain": [
       "SIZE         0\n",
       "DISTANCE     0\n",
       "DESIBEL      0\n",
       "AIRFLOW      0\n",
       "FREQUENCY    0\n",
       "STATUS       0\n",
       "gasoline     0\n",
       "kerosene     0\n",
       "thinner      0\n",
       "lpg          0\n",
       "dtype: int64"
      ]
     },
     "execution_count": 35,
     "metadata": {},
     "output_type": "execute_result"
    }
   ],
   "source": [
    "data.isnull().sum()"
   ]
  },
  {
   "cell_type": "code",
   "execution_count": 113,
   "id": "2168e479",
   "metadata": {},
   "outputs": [
    {
     "data": {
      "text/plain": [
       "Index(['SIZE', 'DISTANCE', 'DESIBEL', 'AIRFLOW', 'FREQUENCY', 'STATUS',\n",
       "       'gasoline', 'kerosene', 'thinner', 'lpg'],\n",
       "      dtype='object')"
      ]
     },
     "execution_count": 113,
     "metadata": {},
     "output_type": "execute_result"
    }
   ],
   "source": [
    "data.columns"
   ]
  },
  {
   "cell_type": "code",
   "execution_count": 34,
   "id": "20dce6d2",
   "metadata": {},
   "outputs": [],
   "source": [
    "col = ['gasoline', 'kerosene', 'thinner', 'lpg']\n",
    "for i in col:\n",
    "    data[i] = data[i].fillna(data[i].median())"
   ]
  },
  {
   "cell_type": "code",
   "execution_count": 117,
   "id": "bf14d9ce",
   "metadata": {},
   "outputs": [
    {
     "data": {
      "text/html": [
       "<div>\n",
       "<style scoped>\n",
       "    .dataframe tbody tr th:only-of-type {\n",
       "        vertical-align: middle;\n",
       "    }\n",
       "\n",
       "    .dataframe tbody tr th {\n",
       "        vertical-align: top;\n",
       "    }\n",
       "\n",
       "    .dataframe thead th {\n",
       "        text-align: right;\n",
       "    }\n",
       "</style>\n",
       "<table border=\"1\" class=\"dataframe\">\n",
       "  <thead>\n",
       "    <tr style=\"text-align: right;\">\n",
       "      <th></th>\n",
       "      <th>SIZE</th>\n",
       "      <th>DISTANCE</th>\n",
       "      <th>DESIBEL</th>\n",
       "      <th>AIRFLOW</th>\n",
       "      <th>FREQUENCY</th>\n",
       "      <th>STATUS</th>\n",
       "      <th>gasoline</th>\n",
       "      <th>kerosene</th>\n",
       "      <th>thinner</th>\n",
       "      <th>lpg</th>\n",
       "    </tr>\n",
       "  </thead>\n",
       "  <tbody>\n",
       "    <tr>\n",
       "      <th>SIZE</th>\n",
       "      <td>1.000000</td>\n",
       "      <td>0.002616</td>\n",
       "      <td>0.000813</td>\n",
       "      <td>-0.000787</td>\n",
       "      <td>-0.001862</td>\n",
       "      <td>-0.094812</td>\n",
       "      <td>-0.146223</td>\n",
       "      <td>-0.142496</td>\n",
       "      <td>0.623273</td>\n",
       "      <td>-0.146367</td>\n",
       "    </tr>\n",
       "    <tr>\n",
       "      <th>DISTANCE</th>\n",
       "      <td>0.002616</td>\n",
       "      <td>1.000000</td>\n",
       "      <td>-0.231422</td>\n",
       "      <td>-0.684741</td>\n",
       "      <td>-0.002290</td>\n",
       "      <td>-0.633771</td>\n",
       "      <td>-0.001161</td>\n",
       "      <td>-0.001494</td>\n",
       "      <td>0.002166</td>\n",
       "      <td>0.000750</td>\n",
       "    </tr>\n",
       "    <tr>\n",
       "      <th>DESIBEL</th>\n",
       "      <td>0.000813</td>\n",
       "      <td>-0.231422</td>\n",
       "      <td>1.000000</td>\n",
       "      <td>0.364335</td>\n",
       "      <td>0.545626</td>\n",
       "      <td>0.199058</td>\n",
       "      <td>0.003185</td>\n",
       "      <td>-0.001755</td>\n",
       "      <td>-0.000159</td>\n",
       "      <td>-0.000557</td>\n",
       "    </tr>\n",
       "    <tr>\n",
       "      <th>AIRFLOW</th>\n",
       "      <td>-0.000787</td>\n",
       "      <td>-0.684741</td>\n",
       "      <td>0.364335</td>\n",
       "      <td>1.000000</td>\n",
       "      <td>-0.204416</td>\n",
       "      <td>0.749292</td>\n",
       "      <td>-0.000436</td>\n",
       "      <td>0.001265</td>\n",
       "      <td>-0.001619</td>\n",
       "      <td>0.000639</td>\n",
       "    </tr>\n",
       "    <tr>\n",
       "      <th>FREQUENCY</th>\n",
       "      <td>-0.001862</td>\n",
       "      <td>-0.002290</td>\n",
       "      <td>0.545626</td>\n",
       "      <td>-0.204416</td>\n",
       "      <td>1.000000</td>\n",
       "      <td>-0.239714</td>\n",
       "      <td>0.001137</td>\n",
       "      <td>-0.001374</td>\n",
       "      <td>0.000589</td>\n",
       "      <td>0.000074</td>\n",
       "    </tr>\n",
       "    <tr>\n",
       "      <th>STATUS</th>\n",
       "      <td>-0.094812</td>\n",
       "      <td>-0.633771</td>\n",
       "      <td>0.199058</td>\n",
       "      <td>0.749292</td>\n",
       "      <td>-0.239714</td>\n",
       "      <td>1.000000</td>\n",
       "      <td>0.048452</td>\n",
       "      <td>-0.060576</td>\n",
       "      <td>0.042742</td>\n",
       "      <td>-0.015845</td>\n",
       "    </tr>\n",
       "    <tr>\n",
       "      <th>gasoline</th>\n",
       "      <td>-0.146223</td>\n",
       "      <td>-0.001161</td>\n",
       "      <td>0.003185</td>\n",
       "      <td>-0.000436</td>\n",
       "      <td>0.001137</td>\n",
       "      <td>0.048452</td>\n",
       "      <td>1.000000</td>\n",
       "      <td>-0.428833</td>\n",
       "      <td>-0.226094</td>\n",
       "      <td>-0.398108</td>\n",
       "    </tr>\n",
       "    <tr>\n",
       "      <th>kerosene</th>\n",
       "      <td>-0.142496</td>\n",
       "      <td>-0.001494</td>\n",
       "      <td>-0.001755</td>\n",
       "      <td>0.001265</td>\n",
       "      <td>-0.001374</td>\n",
       "      <td>-0.060576</td>\n",
       "      <td>-0.428833</td>\n",
       "      <td>1.000000</td>\n",
       "      <td>-0.244024</td>\n",
       "      <td>-0.429679</td>\n",
       "    </tr>\n",
       "    <tr>\n",
       "      <th>thinner</th>\n",
       "      <td>0.623273</td>\n",
       "      <td>0.002166</td>\n",
       "      <td>-0.000159</td>\n",
       "      <td>-0.001619</td>\n",
       "      <td>0.000589</td>\n",
       "      <td>0.042742</td>\n",
       "      <td>-0.226094</td>\n",
       "      <td>-0.244024</td>\n",
       "      <td>1.000000</td>\n",
       "      <td>-0.226540</td>\n",
       "    </tr>\n",
       "    <tr>\n",
       "      <th>lpg</th>\n",
       "      <td>-0.146367</td>\n",
       "      <td>0.000750</td>\n",
       "      <td>-0.000557</td>\n",
       "      <td>0.000639</td>\n",
       "      <td>0.000074</td>\n",
       "      <td>-0.015845</td>\n",
       "      <td>-0.398108</td>\n",
       "      <td>-0.429679</td>\n",
       "      <td>-0.226540</td>\n",
       "      <td>1.000000</td>\n",
       "    </tr>\n",
       "  </tbody>\n",
       "</table>\n",
       "</div>"
      ],
      "text/plain": [
       "               SIZE  DISTANCE   DESIBEL   AIRFLOW  FREQUENCY    STATUS  \\\n",
       "SIZE       1.000000  0.002616  0.000813 -0.000787  -0.001862 -0.094812   \n",
       "DISTANCE   0.002616  1.000000 -0.231422 -0.684741  -0.002290 -0.633771   \n",
       "DESIBEL    0.000813 -0.231422  1.000000  0.364335   0.545626  0.199058   \n",
       "AIRFLOW   -0.000787 -0.684741  0.364335  1.000000  -0.204416  0.749292   \n",
       "FREQUENCY -0.001862 -0.002290  0.545626 -0.204416   1.000000 -0.239714   \n",
       "STATUS    -0.094812 -0.633771  0.199058  0.749292  -0.239714  1.000000   \n",
       "gasoline  -0.146223 -0.001161  0.003185 -0.000436   0.001137  0.048452   \n",
       "kerosene  -0.142496 -0.001494 -0.001755  0.001265  -0.001374 -0.060576   \n",
       "thinner    0.623273  0.002166 -0.000159 -0.001619   0.000589  0.042742   \n",
       "lpg       -0.146367  0.000750 -0.000557  0.000639   0.000074 -0.015845   \n",
       "\n",
       "           gasoline  kerosene   thinner       lpg  \n",
       "SIZE      -0.146223 -0.142496  0.623273 -0.146367  \n",
       "DISTANCE  -0.001161 -0.001494  0.002166  0.000750  \n",
       "DESIBEL    0.003185 -0.001755 -0.000159 -0.000557  \n",
       "AIRFLOW   -0.000436  0.001265 -0.001619  0.000639  \n",
       "FREQUENCY  0.001137 -0.001374  0.000589  0.000074  \n",
       "STATUS     0.048452 -0.060576  0.042742 -0.015845  \n",
       "gasoline   1.000000 -0.428833 -0.226094 -0.398108  \n",
       "kerosene  -0.428833  1.000000 -0.244024 -0.429679  \n",
       "thinner   -0.226094 -0.244024  1.000000 -0.226540  \n",
       "lpg       -0.398108 -0.429679 -0.226540  1.000000  "
      ]
     },
     "execution_count": 117,
     "metadata": {},
     "output_type": "execute_result"
    }
   ],
   "source": [
    "data.corr()"
   ]
  },
  {
   "cell_type": "code",
   "execution_count": 36,
   "id": "8f1807af",
   "metadata": {},
   "outputs": [],
   "source": [
    "x = data.drop('STATUS', axis = 1).values\n",
    "y = data['STATUS'].values"
   ]
  },
  {
   "cell_type": "code",
   "execution_count": 37,
   "id": "aa4b78e5",
   "metadata": {},
   "outputs": [],
   "source": [
    "X_train, X_test, Y_train, Y_test=train_test_split(x,y,test_size=0.25, random_state = 42)"
   ]
  },
  {
   "cell_type": "code",
   "execution_count": 38,
   "id": "bbe7271a",
   "metadata": {},
   "outputs": [],
   "source": [
    "ss = StandardScaler()"
   ]
  },
  {
   "cell_type": "code",
   "execution_count": 39,
   "id": "236457e2",
   "metadata": {},
   "outputs": [],
   "source": [
    "X_train = ss.fit_transform(X_train)"
   ]
  },
  {
   "cell_type": "code",
   "execution_count": 40,
   "id": "0a5bf7f1",
   "metadata": {},
   "outputs": [],
   "source": [
    "X_test = ss.transform(X_test)"
   ]
  },
  {
   "cell_type": "code",
   "execution_count": 41,
   "id": "7213cb80",
   "metadata": {},
   "outputs": [],
   "source": [
    "from sklearn.linear_model import LogisticRegression"
   ]
  },
  {
   "cell_type": "code",
   "execution_count": 42,
   "id": "83c0550a",
   "metadata": {},
   "outputs": [],
   "source": [
    "classifier = LogisticRegression()"
   ]
  },
  {
   "cell_type": "code",
   "execution_count": 43,
   "id": "7598a4c8",
   "metadata": {},
   "outputs": [
    {
     "data": {
      "text/plain": [
       "LogisticRegression()"
      ]
     },
     "execution_count": 43,
     "metadata": {},
     "output_type": "execute_result"
    }
   ],
   "source": [
    "classifier.fit(X_train,Y_train)"
   ]
  },
  {
   "cell_type": "code",
   "execution_count": 44,
   "id": "3fa3dc3b",
   "metadata": {},
   "outputs": [],
   "source": [
    "Y_pred = classifier.predict(X_test)"
   ]
  },
  {
   "cell_type": "code",
   "execution_count": 45,
   "id": "c309860e",
   "metadata": {},
   "outputs": [],
   "source": [
    "Y_train_pred = classifier.predict(X_train)"
   ]
  },
  {
   "cell_type": "code",
   "execution_count": 46,
   "id": "0c1178e1",
   "metadata": {},
   "outputs": [
    {
     "data": {
      "text/plain": [
       "array([[1967,  201],\n",
       "       [ 247, 1945]], dtype=int64)"
      ]
     },
     "execution_count": 46,
     "metadata": {},
     "output_type": "execute_result"
    }
   ],
   "source": [
    "from sklearn.metrics import confusion_matrix\n",
    "confusion_matrix(Y_test, Y_pred)"
   ]
  },
  {
   "cell_type": "code",
   "execution_count": 47,
   "id": "54a0cf09",
   "metadata": {},
   "outputs": [
    {
     "name": "stdout",
     "output_type": "stream",
     "text": [
      "              precision    recall  f1-score   support\n",
      "\n",
      "           0       0.89      0.91      0.90      2168\n",
      "           1       0.91      0.89      0.90      2192\n",
      "\n",
      "    accuracy                           0.90      4360\n",
      "   macro avg       0.90      0.90      0.90      4360\n",
      "weighted avg       0.90      0.90      0.90      4360\n",
      "\n"
     ]
    }
   ],
   "source": [
    "#testaccuracy\n",
    "from sklearn.metrics import classification_report\n",
    "print(classification_report(Y_test, Y_pred))"
   ]
  },
  {
   "cell_type": "code",
   "execution_count": 48,
   "id": "ef39b68d",
   "metadata": {},
   "outputs": [
    {
     "name": "stdout",
     "output_type": "stream",
     "text": [
      "              precision    recall  f1-score   support\n",
      "\n",
      "           0       0.88      0.90      0.89      6591\n",
      "           1       0.90      0.88      0.89      6489\n",
      "\n",
      "    accuracy                           0.89     13080\n",
      "   macro avg       0.89      0.89      0.89     13080\n",
      "weighted avg       0.89      0.89      0.89     13080\n",
      "\n"
     ]
    }
   ],
   "source": [
    "##trainingaccuracy\n",
    "from sklearn.metrics import classification_report\n",
    "print(classification_report(Y_train, Y_train_pred))"
   ]
  },
  {
   "cell_type": "code",
   "execution_count": 169,
   "id": "413cec28",
   "metadata": {},
   "outputs": [
    {
     "data": {
      "text/html": [
       "<div>\n",
       "<style scoped>\n",
       "    .dataframe tbody tr th:only-of-type {\n",
       "        vertical-align: middle;\n",
       "    }\n",
       "\n",
       "    .dataframe tbody tr th {\n",
       "        vertical-align: top;\n",
       "    }\n",
       "\n",
       "    .dataframe thead th {\n",
       "        text-align: right;\n",
       "    }\n",
       "</style>\n",
       "<table border=\"1\" class=\"dataframe\">\n",
       "  <thead>\n",
       "    <tr style=\"text-align: right;\">\n",
       "      <th></th>\n",
       "      <th>SIZE</th>\n",
       "      <th>DISTANCE</th>\n",
       "      <th>DESIBEL</th>\n",
       "      <th>AIRFLOW</th>\n",
       "      <th>FREQUENCY</th>\n",
       "      <th>STATUS</th>\n",
       "      <th>gasoline</th>\n",
       "      <th>kerosene</th>\n",
       "      <th>thinner</th>\n",
       "      <th>lpg</th>\n",
       "    </tr>\n",
       "  </thead>\n",
       "  <tbody>\n",
       "    <tr>\n",
       "      <th>SIZE</th>\n",
       "      <td>1.000000</td>\n",
       "      <td>0.002616</td>\n",
       "      <td>0.000813</td>\n",
       "      <td>-0.000787</td>\n",
       "      <td>-0.001862</td>\n",
       "      <td>-0.094812</td>\n",
       "      <td>-0.146223</td>\n",
       "      <td>-0.142496</td>\n",
       "      <td>0.623273</td>\n",
       "      <td>-0.146367</td>\n",
       "    </tr>\n",
       "    <tr>\n",
       "      <th>DISTANCE</th>\n",
       "      <td>0.002616</td>\n",
       "      <td>1.000000</td>\n",
       "      <td>-0.231422</td>\n",
       "      <td>-0.684741</td>\n",
       "      <td>-0.002290</td>\n",
       "      <td>-0.633771</td>\n",
       "      <td>-0.001161</td>\n",
       "      <td>-0.001494</td>\n",
       "      <td>0.002166</td>\n",
       "      <td>0.000750</td>\n",
       "    </tr>\n",
       "    <tr>\n",
       "      <th>DESIBEL</th>\n",
       "      <td>0.000813</td>\n",
       "      <td>-0.231422</td>\n",
       "      <td>1.000000</td>\n",
       "      <td>0.364335</td>\n",
       "      <td>0.545626</td>\n",
       "      <td>0.199058</td>\n",
       "      <td>0.003185</td>\n",
       "      <td>-0.001755</td>\n",
       "      <td>-0.000159</td>\n",
       "      <td>-0.000557</td>\n",
       "    </tr>\n",
       "    <tr>\n",
       "      <th>AIRFLOW</th>\n",
       "      <td>-0.000787</td>\n",
       "      <td>-0.684741</td>\n",
       "      <td>0.364335</td>\n",
       "      <td>1.000000</td>\n",
       "      <td>-0.204416</td>\n",
       "      <td>0.749292</td>\n",
       "      <td>-0.000436</td>\n",
       "      <td>0.001265</td>\n",
       "      <td>-0.001619</td>\n",
       "      <td>0.000639</td>\n",
       "    </tr>\n",
       "    <tr>\n",
       "      <th>FREQUENCY</th>\n",
       "      <td>-0.001862</td>\n",
       "      <td>-0.002290</td>\n",
       "      <td>0.545626</td>\n",
       "      <td>-0.204416</td>\n",
       "      <td>1.000000</td>\n",
       "      <td>-0.239714</td>\n",
       "      <td>0.001137</td>\n",
       "      <td>-0.001374</td>\n",
       "      <td>0.000589</td>\n",
       "      <td>0.000074</td>\n",
       "    </tr>\n",
       "    <tr>\n",
       "      <th>STATUS</th>\n",
       "      <td>-0.094812</td>\n",
       "      <td>-0.633771</td>\n",
       "      <td>0.199058</td>\n",
       "      <td>0.749292</td>\n",
       "      <td>-0.239714</td>\n",
       "      <td>1.000000</td>\n",
       "      <td>0.048452</td>\n",
       "      <td>-0.060576</td>\n",
       "      <td>0.042742</td>\n",
       "      <td>-0.015845</td>\n",
       "    </tr>\n",
       "    <tr>\n",
       "      <th>gasoline</th>\n",
       "      <td>-0.146223</td>\n",
       "      <td>-0.001161</td>\n",
       "      <td>0.003185</td>\n",
       "      <td>-0.000436</td>\n",
       "      <td>0.001137</td>\n",
       "      <td>0.048452</td>\n",
       "      <td>1.000000</td>\n",
       "      <td>-0.428833</td>\n",
       "      <td>-0.226094</td>\n",
       "      <td>-0.398108</td>\n",
       "    </tr>\n",
       "    <tr>\n",
       "      <th>kerosene</th>\n",
       "      <td>-0.142496</td>\n",
       "      <td>-0.001494</td>\n",
       "      <td>-0.001755</td>\n",
       "      <td>0.001265</td>\n",
       "      <td>-0.001374</td>\n",
       "      <td>-0.060576</td>\n",
       "      <td>-0.428833</td>\n",
       "      <td>1.000000</td>\n",
       "      <td>-0.244024</td>\n",
       "      <td>-0.429679</td>\n",
       "    </tr>\n",
       "    <tr>\n",
       "      <th>thinner</th>\n",
       "      <td>0.623273</td>\n",
       "      <td>0.002166</td>\n",
       "      <td>-0.000159</td>\n",
       "      <td>-0.001619</td>\n",
       "      <td>0.000589</td>\n",
       "      <td>0.042742</td>\n",
       "      <td>-0.226094</td>\n",
       "      <td>-0.244024</td>\n",
       "      <td>1.000000</td>\n",
       "      <td>-0.226540</td>\n",
       "    </tr>\n",
       "    <tr>\n",
       "      <th>lpg</th>\n",
       "      <td>-0.146367</td>\n",
       "      <td>0.000750</td>\n",
       "      <td>-0.000557</td>\n",
       "      <td>0.000639</td>\n",
       "      <td>0.000074</td>\n",
       "      <td>-0.015845</td>\n",
       "      <td>-0.398108</td>\n",
       "      <td>-0.429679</td>\n",
       "      <td>-0.226540</td>\n",
       "      <td>1.000000</td>\n",
       "    </tr>\n",
       "  </tbody>\n",
       "</table>\n",
       "</div>"
      ],
      "text/plain": [
       "               SIZE  DISTANCE   DESIBEL   AIRFLOW  FREQUENCY    STATUS  \\\n",
       "SIZE       1.000000  0.002616  0.000813 -0.000787  -0.001862 -0.094812   \n",
       "DISTANCE   0.002616  1.000000 -0.231422 -0.684741  -0.002290 -0.633771   \n",
       "DESIBEL    0.000813 -0.231422  1.000000  0.364335   0.545626  0.199058   \n",
       "AIRFLOW   -0.000787 -0.684741  0.364335  1.000000  -0.204416  0.749292   \n",
       "FREQUENCY -0.001862 -0.002290  0.545626 -0.204416   1.000000 -0.239714   \n",
       "STATUS    -0.094812 -0.633771  0.199058  0.749292  -0.239714  1.000000   \n",
       "gasoline  -0.146223 -0.001161  0.003185 -0.000436   0.001137  0.048452   \n",
       "kerosene  -0.142496 -0.001494 -0.001755  0.001265  -0.001374 -0.060576   \n",
       "thinner    0.623273  0.002166 -0.000159 -0.001619   0.000589  0.042742   \n",
       "lpg       -0.146367  0.000750 -0.000557  0.000639   0.000074 -0.015845   \n",
       "\n",
       "           gasoline  kerosene   thinner       lpg  \n",
       "SIZE      -0.146223 -0.142496  0.623273 -0.146367  \n",
       "DISTANCE  -0.001161 -0.001494  0.002166  0.000750  \n",
       "DESIBEL    0.003185 -0.001755 -0.000159 -0.000557  \n",
       "AIRFLOW   -0.000436  0.001265 -0.001619  0.000639  \n",
       "FREQUENCY  0.001137 -0.001374  0.000589  0.000074  \n",
       "STATUS     0.048452 -0.060576  0.042742 -0.015845  \n",
       "gasoline   1.000000 -0.428833 -0.226094 -0.398108  \n",
       "kerosene  -0.428833  1.000000 -0.244024 -0.429679  \n",
       "thinner   -0.226094 -0.244024  1.000000 -0.226540  \n",
       "lpg       -0.398108 -0.429679 -0.226540  1.000000  "
      ]
     },
     "execution_count": 169,
     "metadata": {},
     "output_type": "execute_result"
    }
   ],
   "source": [
    "data.corr()"
   ]
  },
  {
   "cell_type": "code",
   "execution_count": 172,
   "id": "fc223ce1",
   "metadata": {},
   "outputs": [
    {
     "data": {
      "text/plain": [
       "<AxesSubplot:xlabel='FREQUENCY', ylabel='Density'>"
      ]
     },
     "execution_count": 172,
     "metadata": {},
     "output_type": "execute_result"
    },
    {
     "data": {
      "image/png": "[encoded data removed]",
      "text/plain": [
       "<Figure size 432x288 with 1 Axes>"
      ]
     },
     "metadata": {
      "needs_background": "light"
     },
     "output_type": "display_data"
    }
   ],
   "source": [
    "sns.kdeplot(data['FREQUENCY'], hue=data['DISTANCE'])"
   ]
  },
  {
   "cell_type": "markdown",
   "id": "63f0ee45",
   "metadata": {},
   "source": [
    "# Decesion Tree"
   ]
  },
  {
   "cell_type": "code",
   "execution_count": 49,
   "id": "63942eba",
   "metadata": {},
   "outputs": [
    {
     "data": {
      "text/html": [
       "<div>\n",
       "<style scoped>\n",
       "    .dataframe tbody tr th:only-of-type {\n",
       "        vertical-align: middle;\n",
       "    }\n",
       "\n",
       "    .dataframe tbody tr th {\n",
       "        vertical-align: top;\n",
       "    }\n",
       "\n",
       "    .dataframe thead th {\n",
       "        text-align: right;\n",
       "    }\n",
       "</style>\n",
       "<table border=\"1\" class=\"dataframe\">\n",
       "  <thead>\n",
       "    <tr style=\"text-align: right;\">\n",
       "      <th></th>\n",
       "      <th>SIZE</th>\n",
       "      <th>DISTANCE</th>\n",
       "      <th>DESIBEL</th>\n",
       "      <th>AIRFLOW</th>\n",
       "      <th>FREQUENCY</th>\n",
       "      <th>STATUS</th>\n",
       "      <th>gasoline</th>\n",
       "      <th>kerosene</th>\n",
       "      <th>thinner</th>\n",
       "      <th>lpg</th>\n",
       "    </tr>\n",
       "  </thead>\n",
       "  <tbody>\n",
       "    <tr>\n",
       "      <th>0</th>\n",
       "      <td>1.0</td>\n",
       "      <td>10</td>\n",
       "      <td>96.0</td>\n",
       "      <td>0.0</td>\n",
       "      <td>75.0</td>\n",
       "      <td>0</td>\n",
       "      <td>1.0</td>\n",
       "      <td>0.0</td>\n",
       "      <td>0.0</td>\n",
       "      <td>0.0</td>\n",
       "    </tr>\n",
       "    <tr>\n",
       "      <th>1</th>\n",
       "      <td>1.0</td>\n",
       "      <td>10</td>\n",
       "      <td>96.0</td>\n",
       "      <td>0.0</td>\n",
       "      <td>72.0</td>\n",
       "      <td>1</td>\n",
       "      <td>1.0</td>\n",
       "      <td>0.0</td>\n",
       "      <td>0.0</td>\n",
       "      <td>0.0</td>\n",
       "    </tr>\n",
       "    <tr>\n",
       "      <th>2</th>\n",
       "      <td>1.0</td>\n",
       "      <td>10</td>\n",
       "      <td>96.0</td>\n",
       "      <td>2.6</td>\n",
       "      <td>70.0</td>\n",
       "      <td>1</td>\n",
       "      <td>1.0</td>\n",
       "      <td>0.0</td>\n",
       "      <td>0.0</td>\n",
       "      <td>0.0</td>\n",
       "    </tr>\n",
       "    <tr>\n",
       "      <th>3</th>\n",
       "      <td>1.0</td>\n",
       "      <td>10</td>\n",
       "      <td>96.0</td>\n",
       "      <td>3.2</td>\n",
       "      <td>68.0</td>\n",
       "      <td>1</td>\n",
       "      <td>1.0</td>\n",
       "      <td>0.0</td>\n",
       "      <td>0.0</td>\n",
       "      <td>0.0</td>\n",
       "    </tr>\n",
       "    <tr>\n",
       "      <th>4</th>\n",
       "      <td>3.0</td>\n",
       "      <td>10</td>\n",
       "      <td>109.0</td>\n",
       "      <td>4.5</td>\n",
       "      <td>67.0</td>\n",
       "      <td>1</td>\n",
       "      <td>1.0</td>\n",
       "      <td>0.0</td>\n",
       "      <td>0.0</td>\n",
       "      <td>0.0</td>\n",
       "    </tr>\n",
       "    <tr>\n",
       "      <th>...</th>\n",
       "      <td>...</td>\n",
       "      <td>...</td>\n",
       "      <td>...</td>\n",
       "      <td>...</td>\n",
       "      <td>...</td>\n",
       "      <td>...</td>\n",
       "      <td>...</td>\n",
       "      <td>...</td>\n",
       "      <td>...</td>\n",
       "      <td>...</td>\n",
       "    </tr>\n",
       "    <tr>\n",
       "      <th>17437</th>\n",
       "      <td>7.0</td>\n",
       "      <td>190</td>\n",
       "      <td>86.0</td>\n",
       "      <td>2.2</td>\n",
       "      <td>5.0</td>\n",
       "      <td>0</td>\n",
       "      <td>0.0</td>\n",
       "      <td>0.0</td>\n",
       "      <td>1.0</td>\n",
       "      <td>0.0</td>\n",
       "    </tr>\n",
       "    <tr>\n",
       "      <th>17438</th>\n",
       "      <td>7.0</td>\n",
       "      <td>190</td>\n",
       "      <td>84.0</td>\n",
       "      <td>2.0</td>\n",
       "      <td>4.0</td>\n",
       "      <td>0</td>\n",
       "      <td>0.0</td>\n",
       "      <td>0.0</td>\n",
       "      <td>1.0</td>\n",
       "      <td>0.0</td>\n",
       "    </tr>\n",
       "    <tr>\n",
       "      <th>17439</th>\n",
       "      <td>7.0</td>\n",
       "      <td>190</td>\n",
       "      <td>80.0</td>\n",
       "      <td>1.5</td>\n",
       "      <td>3.0</td>\n",
       "      <td>0</td>\n",
       "      <td>0.0</td>\n",
       "      <td>0.0</td>\n",
       "      <td>1.0</td>\n",
       "      <td>0.0</td>\n",
       "    </tr>\n",
       "    <tr>\n",
       "      <th>17440</th>\n",
       "      <td>7.0</td>\n",
       "      <td>190</td>\n",
       "      <td>76.0</td>\n",
       "      <td>0.4</td>\n",
       "      <td>2.0</td>\n",
       "      <td>0</td>\n",
       "      <td>0.0</td>\n",
       "      <td>0.0</td>\n",
       "      <td>0.0</td>\n",
       "      <td>0.0</td>\n",
       "    </tr>\n",
       "    <tr>\n",
       "      <th>17441</th>\n",
       "      <td>7.0</td>\n",
       "      <td>190</td>\n",
       "      <td>72.0</td>\n",
       "      <td>0.0</td>\n",
       "      <td>27.0</td>\n",
       "      <td>0</td>\n",
       "      <td>0.0</td>\n",
       "      <td>0.0</td>\n",
       "      <td>0.0</td>\n",
       "      <td>0.0</td>\n",
       "    </tr>\n",
       "  </tbody>\n",
       "</table>\n",
       "<p>17440 rows × 10 columns</p>\n",
       "</div>"
      ],
      "text/plain": [
       "       SIZE  DISTANCE  DESIBEL  AIRFLOW  FREQUENCY  STATUS  gasoline  \\\n",
       "0       1.0        10     96.0      0.0       75.0       0       1.0   \n",
       "1       1.0        10     96.0      0.0       72.0       1       1.0   \n",
       "2       1.0        10     96.0      2.6       70.0       1       1.0   \n",
       "3       1.0        10     96.0      3.2       68.0       1       1.0   \n",
       "4       3.0        10    109.0      4.5       67.0       1       1.0   \n",
       "...     ...       ...      ...      ...        ...     ...       ...   \n",
       "17437   7.0       190     86.0      2.2        5.0       0       0.0   \n",
       "17438   7.0       190     84.0      2.0        4.0       0       0.0   \n",
       "17439   7.0       190     80.0      1.5        3.0       0       0.0   \n",
       "17440   7.0       190     76.0      0.4        2.0       0       0.0   \n",
       "17441   7.0       190     72.0      0.0       27.0       0       0.0   \n",
       "\n",
       "       kerosene  thinner  lpg  \n",
       "0           0.0      0.0  0.0  \n",
       "1           0.0      0.0  0.0  \n",
       "2           0.0      0.0  0.0  \n",
       "3           0.0      0.0  0.0  \n",
       "4           0.0      0.0  0.0  \n",
       "...         ...      ...  ...  \n",
       "17437       0.0      1.0  0.0  \n",
       "17438       0.0      1.0  0.0  \n",
       "17439       0.0      1.0  0.0  \n",
       "17440       0.0      0.0  0.0  \n",
       "17441       0.0      0.0  0.0  \n",
       "\n",
       "[17440 rows x 10 columns]"
      ]
     },
     "execution_count": 49,
     "metadata": {},
     "output_type": "execute_result"
    }
   ],
   "source": [
    "data"
   ]
  },
  {
   "cell_type": "code",
   "execution_count": 54,
   "id": "ce339519",
   "metadata": {},
   "outputs": [],
   "source": [
    "x1 = data.drop('STATUS', axis = 1).values\n",
    "y1 = data['STATUS'].values"
   ]
  },
  {
   "cell_type": "code",
   "execution_count": 92,
   "id": "54669a60",
   "metadata": {},
   "outputs": [],
   "source": [
    "x1_train,x1_test,y1_train,y1_test = train_test_split(x1,y1, test_size = .3, random_state = 30 )"
   ]
  },
  {
   "cell_type": "code",
   "execution_count": 93,
   "id": "f63e6612",
   "metadata": {},
   "outputs": [],
   "source": [
    "from sklearn.tree import DecisionTreeClassifier\n",
    "dc = DecisionTreeClassifier()"
   ]
  },
  {
   "cell_type": "code",
   "execution_count": 94,
   "id": "a286f9b9",
   "metadata": {},
   "outputs": [
    {
     "data": {
      "text/plain": [
       "DecisionTreeClassifier()"
      ]
     },
     "execution_count": 94,
     "metadata": {},
     "output_type": "execute_result"
    }
   ],
   "source": [
    "dc.fit(x1_train,y1_train)"
   ]
  },
  {
   "cell_type": "code",
   "execution_count": 95,
   "id": "47d962f2",
   "metadata": {},
   "outputs": [],
   "source": [
    "y1_pred = dc.predict(x1_test)"
   ]
  },
  {
   "cell_type": "code",
   "execution_count": 96,
   "id": "72c67804",
   "metadata": {},
   "outputs": [
    {
     "data": {
      "text/plain": [
       "array([[2464,  130],\n",
       "       [ 143, 2495]], dtype=int64)"
      ]
     },
     "execution_count": 96,
     "metadata": {},
     "output_type": "execute_result"
    }
   ],
   "source": [
    "from sklearn.metrics import confusion_matrix\n",
    "confusion_matrix(y1_test, y1_pred)"
   ]
  },
  {
   "cell_type": "code",
   "execution_count": 97,
   "id": "4a237632",
   "metadata": {},
   "outputs": [
    {
     "data": {
      "text/plain": [
       "<AxesSubplot:>"
      ]
     },
     "execution_count": 97,
     "metadata": {},
     "output_type": "execute_result"
    },
    {
     "data": {
      "image/png": "[encoded data removed]",
      "text/plain": [
       "<Figure size 432x288 with 2 Axes>"
      ]
     },
     "metadata": {
      "needs_background": "light"
     },
     "output_type": "display_data"
    }
   ],
   "source": [
    "sns.heatmap(confusion_matrix(y1_test, y1_pred), annot = True)"
   ]
  },
  {
   "cell_type": "code",
   "execution_count": 98,
   "id": "4dbd7bc4",
   "metadata": {},
   "outputs": [
    {
     "data": {
      "text/plain": [
       "0.9478211009174312"
      ]
     },
     "execution_count": 98,
     "metadata": {},
     "output_type": "execute_result"
    }
   ],
   "source": [
    "from sklearn.metrics import accuracy_score\n",
    "accuracy_score(y1_test, y1_pred)"
   ]
  },
  {
   "cell_type": "code",
   "execution_count": 133,
   "id": "5d08d984",
   "metadata": {},
   "outputs": [
    {
     "data": {
      "text/plain": [
       "array([[2464,  130],\n",
       "       [ 143, 2495]], dtype=int64)"
      ]
     },
     "execution_count": 133,
     "metadata": {},
     "output_type": "execute_result"
    }
   ],
   "source": [
    "confusion_matrix(y1_test, y1_pred)"
   ]
  },
  {
   "cell_type": "code",
   "execution_count": 99,
   "id": "d9aaa818",
   "metadata": {},
   "outputs": [
    {
     "name": "stdout",
     "output_type": "stream",
     "text": [
      "              precision    recall  f1-score   support\n",
      "\n",
      "           0       0.95      0.95      0.95      2594\n",
      "           1       0.95      0.95      0.95      2638\n",
      "\n",
      "    accuracy                           0.95      5232\n",
      "   macro avg       0.95      0.95      0.95      5232\n",
      "weighted avg       0.95      0.95      0.95      5232\n",
      "\n"
     ]
    }
   ],
   "source": [
    "## for testing data\n",
    "from sklearn.metrics import classification_report\n",
    "print(classification_report(y1_test, y1_pred))"
   ]
  },
  {
   "cell_type": "code",
   "execution_count": 100,
   "id": "38711475",
   "metadata": {},
   "outputs": [],
   "source": [
    "from sklearn import tree"
   ]
  },
  {
   "cell_type": "code",
   "execution_count": 112,
   "id": "893d08c8",
   "metadata": {},
   "outputs": [
    {
     "data": {
      "text/plain": [
       "Index(['SIZE', 'DISTANCE', 'DESIBEL', 'AIRFLOW'], dtype='object')"
      ]
     },
     "execution_count": 112,
     "metadata": {},
     "output_type": "execute_result"
    }
   ],
   "source": [
    "data.columns[0:4]"
   ]
  },
  {
   "cell_type": "code",
   "execution_count": 116,
   "id": "545c8af3",
   "metadata": {},
   "outputs": [
    {
     "data": {
      "text/plain": [
       "Index(['SIZE', 'DISTANCE', 'DESIBEL', 'AIRFLOW', 'FREQUENCY', 'STATUS',\n",
       "       'gasoline', 'kerosene', 'thinner', 'lpg'],\n",
       "      dtype='object')"
      ]
     },
     "execution_count": 116,
     "metadata": {},
     "output_type": "execute_result"
    }
   ],
   "source": [
    "data.columns"
   ]
  },
  {
   "cell_type": "code",
   "execution_count": 117,
   "id": "4aed4715",
   "metadata": {},
   "outputs": [
    {
     "data": {
      "text/html": [
       "<div>\n",
       "<style scoped>\n",
       "    .dataframe tbody tr th:only-of-type {\n",
       "        vertical-align: middle;\n",
       "    }\n",
       "\n",
       "    .dataframe tbody tr th {\n",
       "        vertical-align: top;\n",
       "    }\n",
       "\n",
       "    .dataframe thead th {\n",
       "        text-align: right;\n",
       "    }\n",
       "</style>\n",
       "<table border=\"1\" class=\"dataframe\">\n",
       "  <thead>\n",
       "    <tr style=\"text-align: right;\">\n",
       "      <th></th>\n",
       "      <th>SIZE</th>\n",
       "      <th>DISTANCE</th>\n",
       "      <th>DESIBEL</th>\n",
       "      <th>AIRFLOW</th>\n",
       "      <th>FREQUENCY</th>\n",
       "      <th>STATUS</th>\n",
       "      <th>gasoline</th>\n",
       "      <th>kerosene</th>\n",
       "      <th>thinner</th>\n",
       "      <th>lpg</th>\n",
       "    </tr>\n",
       "  </thead>\n",
       "  <tbody>\n",
       "    <tr>\n",
       "      <th>0</th>\n",
       "      <td>1.0</td>\n",
       "      <td>10</td>\n",
       "      <td>96.0</td>\n",
       "      <td>0.0</td>\n",
       "      <td>75.0</td>\n",
       "      <td>0</td>\n",
       "      <td>1.0</td>\n",
       "      <td>0.0</td>\n",
       "      <td>0.0</td>\n",
       "      <td>0.0</td>\n",
       "    </tr>\n",
       "    <tr>\n",
       "      <th>1</th>\n",
       "      <td>1.0</td>\n",
       "      <td>10</td>\n",
       "      <td>96.0</td>\n",
       "      <td>0.0</td>\n",
       "      <td>72.0</td>\n",
       "      <td>1</td>\n",
       "      <td>1.0</td>\n",
       "      <td>0.0</td>\n",
       "      <td>0.0</td>\n",
       "      <td>0.0</td>\n",
       "    </tr>\n",
       "    <tr>\n",
       "      <th>2</th>\n",
       "      <td>1.0</td>\n",
       "      <td>10</td>\n",
       "      <td>96.0</td>\n",
       "      <td>2.6</td>\n",
       "      <td>70.0</td>\n",
       "      <td>1</td>\n",
       "      <td>1.0</td>\n",
       "      <td>0.0</td>\n",
       "      <td>0.0</td>\n",
       "      <td>0.0</td>\n",
       "    </tr>\n",
       "    <tr>\n",
       "      <th>3</th>\n",
       "      <td>1.0</td>\n",
       "      <td>10</td>\n",
       "      <td>96.0</td>\n",
       "      <td>3.2</td>\n",
       "      <td>68.0</td>\n",
       "      <td>1</td>\n",
       "      <td>1.0</td>\n",
       "      <td>0.0</td>\n",
       "      <td>0.0</td>\n",
       "      <td>0.0</td>\n",
       "    </tr>\n",
       "    <tr>\n",
       "      <th>4</th>\n",
       "      <td>3.0</td>\n",
       "      <td>10</td>\n",
       "      <td>109.0</td>\n",
       "      <td>4.5</td>\n",
       "      <td>67.0</td>\n",
       "      <td>1</td>\n",
       "      <td>1.0</td>\n",
       "      <td>0.0</td>\n",
       "      <td>0.0</td>\n",
       "      <td>0.0</td>\n",
       "    </tr>\n",
       "    <tr>\n",
       "      <th>...</th>\n",
       "      <td>...</td>\n",
       "      <td>...</td>\n",
       "      <td>...</td>\n",
       "      <td>...</td>\n",
       "      <td>...</td>\n",
       "      <td>...</td>\n",
       "      <td>...</td>\n",
       "      <td>...</td>\n",
       "      <td>...</td>\n",
       "      <td>...</td>\n",
       "    </tr>\n",
       "    <tr>\n",
       "      <th>17437</th>\n",
       "      <td>7.0</td>\n",
       "      <td>190</td>\n",
       "      <td>86.0</td>\n",
       "      <td>2.2</td>\n",
       "      <td>5.0</td>\n",
       "      <td>0</td>\n",
       "      <td>0.0</td>\n",
       "      <td>0.0</td>\n",
       "      <td>1.0</td>\n",
       "      <td>0.0</td>\n",
       "    </tr>\n",
       "    <tr>\n",
       "      <th>17438</th>\n",
       "      <td>7.0</td>\n",
       "      <td>190</td>\n",
       "      <td>84.0</td>\n",
       "      <td>2.0</td>\n",
       "      <td>4.0</td>\n",
       "      <td>0</td>\n",
       "      <td>0.0</td>\n",
       "      <td>0.0</td>\n",
       "      <td>1.0</td>\n",
       "      <td>0.0</td>\n",
       "    </tr>\n",
       "    <tr>\n",
       "      <th>17439</th>\n",
       "      <td>7.0</td>\n",
       "      <td>190</td>\n",
       "      <td>80.0</td>\n",
       "      <td>1.5</td>\n",
       "      <td>3.0</td>\n",
       "      <td>0</td>\n",
       "      <td>0.0</td>\n",
       "      <td>0.0</td>\n",
       "      <td>1.0</td>\n",
       "      <td>0.0</td>\n",
       "    </tr>\n",
       "    <tr>\n",
       "      <th>17440</th>\n",
       "      <td>7.0</td>\n",
       "      <td>190</td>\n",
       "      <td>76.0</td>\n",
       "      <td>0.4</td>\n",
       "      <td>2.0</td>\n",
       "      <td>0</td>\n",
       "      <td>0.0</td>\n",
       "      <td>0.0</td>\n",
       "      <td>0.0</td>\n",
       "      <td>0.0</td>\n",
       "    </tr>\n",
       "    <tr>\n",
       "      <th>17441</th>\n",
       "      <td>7.0</td>\n",
       "      <td>190</td>\n",
       "      <td>72.0</td>\n",
       "      <td>0.0</td>\n",
       "      <td>27.0</td>\n",
       "      <td>0</td>\n",
       "      <td>0.0</td>\n",
       "      <td>0.0</td>\n",
       "      <td>0.0</td>\n",
       "      <td>0.0</td>\n",
       "    </tr>\n",
       "  </tbody>\n",
       "</table>\n",
       "<p>17440 rows × 10 columns</p>\n",
       "</div>"
      ],
      "text/plain": [
       "       SIZE  DISTANCE  DESIBEL  AIRFLOW  FREQUENCY  STATUS  gasoline  \\\n",
       "0       1.0        10     96.0      0.0       75.0       0       1.0   \n",
       "1       1.0        10     96.0      0.0       72.0       1       1.0   \n",
       "2       1.0        10     96.0      2.6       70.0       1       1.0   \n",
       "3       1.0        10     96.0      3.2       68.0       1       1.0   \n",
       "4       3.0        10    109.0      4.5       67.0       1       1.0   \n",
       "...     ...       ...      ...      ...        ...     ...       ...   \n",
       "17437   7.0       190     86.0      2.2        5.0       0       0.0   \n",
       "17438   7.0       190     84.0      2.0        4.0       0       0.0   \n",
       "17439   7.0       190     80.0      1.5        3.0       0       0.0   \n",
       "17440   7.0       190     76.0      0.4        2.0       0       0.0   \n",
       "17441   7.0       190     72.0      0.0       27.0       0       0.0   \n",
       "\n",
       "       kerosene  thinner  lpg  \n",
       "0           0.0      0.0  0.0  \n",
       "1           0.0      0.0  0.0  \n",
       "2           0.0      0.0  0.0  \n",
       "3           0.0      0.0  0.0  \n",
       "4           0.0      0.0  0.0  \n",
       "...         ...      ...  ...  \n",
       "17437       0.0      1.0  0.0  \n",
       "17438       0.0      1.0  0.0  \n",
       "17439       0.0      1.0  0.0  \n",
       "17440       0.0      0.0  0.0  \n",
       "17441       0.0      0.0  0.0  \n",
       "\n",
       "[17440 rows x 10 columns]"
      ]
     },
     "execution_count": 117,
     "metadata": {},
     "output_type": "execute_result"
    }
   ],
   "source": [
    "data"
   ]
  },
  {
   "cell_type": "markdown",
   "id": "ac29188b",
   "metadata": {},
   "source": [
    "# Random  Forest"
   ]
  },
  {
   "cell_type": "code",
   "execution_count": 118,
   "id": "f3ddb88d",
   "metadata": {},
   "outputs": [],
   "source": [
    "n_estimators = [10,20,30,40,50,60,70,80,90,100,120,150]\n",
    "max_features = ['sqrt','log2']\n",
    "max_depth=np.linspace(10,120,10 ,dtype=int)\n",
    "criterion = ['gini','entropy']\n",
    "min_samples_split = np.linspace(2,20,2 ,dtype=int)"
   ]
  },
  {
   "cell_type": "code",
   "execution_count": 119,
   "id": "e6355b3d",
   "metadata": {},
   "outputs": [],
   "source": [
    "random_grid = {'n_estimators' :n_estimators,\n",
    "               'max_features' :max_features,\n",
    "               'max_depth' :max_depth,\n",
    "               'criterion' :criterion,\n",
    "               'min_samples_split' :min_samples_split}"
   ]
  },
  {
   "cell_type": "code",
   "execution_count": 120,
   "id": "35b000c0",
   "metadata": {},
   "outputs": [
    {
     "data": {
      "text/plain": [
       "{'n_estimators': [10, 20, 30, 40, 50, 60, 70, 80, 90, 100, 120, 150],\n",
       " 'max_features': ['sqrt', 'log2'],\n",
       " 'max_depth': array([ 10,  22,  34,  46,  58,  71,  83,  95, 107, 120]),\n",
       " 'criterion': ['gini', 'entropy'],\n",
       " 'min_samples_split': array([ 2, 20])}"
      ]
     },
     "execution_count": 120,
     "metadata": {},
     "output_type": "execute_result"
    }
   ],
   "source": [
    "random_grid"
   ]
  },
  {
   "cell_type": "code",
   "execution_count": 121,
   "id": "f94565ab",
   "metadata": {},
   "outputs": [],
   "source": [
    "from sklearn.ensemble import RandomForestClassifier"
   ]
  },
  {
   "cell_type": "code",
   "execution_count": 122,
   "id": "ed4a070a",
   "metadata": {},
   "outputs": [],
   "source": [
    "rfs = RandomForestClassifier()"
   ]
  },
  {
   "cell_type": "code",
   "execution_count": 123,
   "id": "ae39420c",
   "metadata": {},
   "outputs": [],
   "source": [
    "from sklearn.model_selection import RandomizedSearchCV"
   ]
  },
  {
   "cell_type": "code",
   "execution_count": 124,
   "id": "d40b518f",
   "metadata": {},
   "outputs": [],
   "source": [
    "rds = RandomizedSearchCV(estimator= rfs, param_distributions = random_grid, cv = 6, n_iter = 10, n_jobs = 1)"
   ]
  },
  {
   "cell_type": "code",
   "execution_count": 125,
   "id": "440cfabe",
   "metadata": {},
   "outputs": [
    {
     "data": {
      "text/plain": [
       "RandomizedSearchCV(cv=6, estimator=RandomForestClassifier(), n_jobs=1,\n",
       "                   param_distributions={'criterion': ['gini', 'entropy'],\n",
       "                                        'max_depth': array([ 10,  22,  34,  46,  58,  71,  83,  95, 107, 120]),\n",
       "                                        'max_features': ['sqrt', 'log2'],\n",
       "                                        'min_samples_split': array([ 2, 20]),\n",
       "                                        'n_estimators': [10, 20, 30, 40, 50, 60,\n",
       "                                                         70, 80, 90, 100, 120,\n",
       "                                                         150]})"
      ]
     },
     "execution_count": 125,
     "metadata": {},
     "output_type": "execute_result"
    }
   ],
   "source": [
    "rds.fit(x1_train,y1_train)"
   ]
  },
  {
   "cell_type": "code",
   "execution_count": 126,
   "id": "ddc26544",
   "metadata": {},
   "outputs": [
    {
     "data": {
      "text/plain": [
       "{'n_estimators': 80,\n",
       " 'min_samples_split': 2,\n",
       " 'max_features': 'log2',\n",
       " 'max_depth': 22,\n",
       " 'criterion': 'entropy'}"
      ]
     },
     "execution_count": 126,
     "metadata": {},
     "output_type": "execute_result"
    }
   ],
   "source": [
    "rds.best_params_"
   ]
  },
  {
   "cell_type": "code",
   "execution_count": 127,
   "id": "2fb8afe0",
   "metadata": {},
   "outputs": [],
   "source": [
    "rfbp = RandomForestClassifier(n_estimators= 80,min_samples_split= 2,max_features= 'log2',max_depth= 22,criterion= 'entropy')"
   ]
  },
  {
   "cell_type": "code",
   "execution_count": 128,
   "id": "2f2a77b3",
   "metadata": {},
   "outputs": [
    {
     "data": {
      "text/plain": [
       "RandomForestClassifier(criterion='entropy', max_depth=22, max_features='log2',\n",
       "                       n_estimators=80)"
      ]
     },
     "execution_count": 128,
     "metadata": {},
     "output_type": "execute_result"
    }
   ],
   "source": [
    "rfbp.fit(x1_train,y1_train)"
   ]
  },
  {
   "cell_type": "code",
   "execution_count": 129,
   "id": "9b5de90d",
   "metadata": {},
   "outputs": [],
   "source": [
    "y_rf_pred = rfbp.predict(x1_test)"
   ]
  },
  {
   "cell_type": "code",
   "execution_count": 132,
   "id": "5abc64ff",
   "metadata": {},
   "outputs": [
    {
     "data": {
      "text/plain": [
       "array([[2493,  101],\n",
       "       [ 107, 2531]], dtype=int64)"
      ]
     },
     "execution_count": 132,
     "metadata": {},
     "output_type": "execute_result"
    }
   ],
   "source": [
    "confusion_matrix(y1_test, y_rf_pred)"
   ]
  },
  {
   "cell_type": "code",
   "execution_count": 131,
   "id": "200671e1",
   "metadata": {},
   "outputs": [
    {
     "data": {
      "text/plain": [
       "<AxesSubplot:>"
      ]
     },
     "execution_count": 131,
     "metadata": {},
     "output_type": "execute_result"
    },
    {
     "data": {
      "image/png": "[encoded data removed]",
      "text/plain": [
       "<Figure size 432x288 with 2 Axes>"
      ]
     },
     "metadata": {
      "needs_background": "light"
     },
     "output_type": "display_data"
    }
   ],
   "source": [
    "sns.heatmap(confusion_matrix(y1_test, y_rf_pred), annot = True)"
   ]
  },
  {
   "cell_type": "code",
   "execution_count": 130,
   "id": "667aef52",
   "metadata": {},
   "outputs": [
    {
     "name": "stdout",
     "output_type": "stream",
     "text": [
      "              precision    recall  f1-score   support\n",
      "\n",
      "           0       0.96      0.96      0.96      2594\n",
      "           1       0.96      0.96      0.96      2638\n",
      "\n",
      "    accuracy                           0.96      5232\n",
      "   macro avg       0.96      0.96      0.96      5232\n",
      "weighted avg       0.96      0.96      0.96      5232\n",
      "\n"
     ]
    }
   ],
   "source": [
    "print(classification_report(y1_test,y_rf_pred))"
   ]
  },
  {
   "cell_type": "code",
   "execution_count": null,
   "id": "69033d39",
   "metadata": {},
   "outputs": [],
   "source": []
  }
 ],
 "metadata": {
  "kernelspec": {
   "display_name": "Python 3 (ipykernel)",
   "language": "python",
   "name": "python3"
  },
  "language_info": {
   "codemirror_mode": {
    "name": "ipython",
    "version": 3
   },
   "file_extension": ".py",
   "mimetype": "text/x-python",
   "name": "python",
   "nbconvert_exporter": "python",
   "pygments_lexer": "ipython3",
   "version": "3.9.12"
  }
 },
 "nbformat": 4,
 "nbformat_minor": 5
}
